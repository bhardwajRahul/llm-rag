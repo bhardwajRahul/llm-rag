{
 "cells": [
  {
   "cell_type": "code",
   "execution_count": 1,
   "id": "345c364e-1395-499c-bd91-e4eb117fe943",
   "metadata": {},
   "outputs": [],
   "source": [
    "import os\n",
    "import re\n",
    "\n",
    "from dotenv import find_dotenv, load_dotenv\n",
    "from IPython.display import display\n",
    "from rich import print as rprint\n",
    "from rich.markdown import Markdown\n",
    "from rich.pretty import Pretty\n",
    "from rich.text import Text"
   ]
  },
  {
   "cell_type": "code",
   "execution_count": 2,
   "id": "7a82ea84-71c2-464f-b6f4-1fc402f4c765",
   "metadata": {},
   "outputs": [
    {
     "data": {
      "text/plain": [
       "True"
      ]
     },
     "execution_count": 2,
     "metadata": {},
     "output_type": "execute_result"
    }
   ],
   "source": [
    "load_dotenv(find_dotenv('.env'))"
   ]
  },
  {
   "cell_type": "code",
   "execution_count": 3,
   "id": "d25bf618-9b16-4b27-bc98-4993289dd131",
   "metadata": {},
   "outputs": [],
   "source": [
    "os.environ[\"LANGCHAIN_PROJECT\"] = \"RAG From Scratch: Part 9 (Query Translation - HyDE)\""
   ]
  },
  {
   "cell_type": "markdown",
   "id": "410814f2-2b92-4c20-9357-7972793284f4",
   "metadata": {},
   "source": [
    "# Query translation"
   ]
  },
  {
   "cell_type": "markdown",
   "id": "903de153-9de3-4f45-884f-3b99378cc11c",
   "metadata": {},
   "source": [
    "![](images/query-translation-01.png)"
   ]
  },
  {
   "cell_type": "markdown",
   "id": "6d22872f-9628-4fac-8089-3fa2edd30e51",
   "metadata": {},
   "source": [
    "# Part 9: Query Translation - HyDE"
   ]
  },
  {
   "cell_type": "markdown",
   "id": "db09ffb6-8754-47f1-8b97-a821fd8e94f1",
   "metadata": {},
   "source": [
    "![](images/09-hyde.png)"
   ]
  },
  {
   "cell_type": "markdown",
   "id": "5fac6d36-a13c-42ed-a8f4-6795e46475c7",
   "metadata": {},
   "source": [
    "## Configure components"
   ]
  },
  {
   "cell_type": "code",
   "execution_count": 4,
   "id": "ab45993b-bbd9-4bfc-a625-05bf2fe49f10",
   "metadata": {},
   "outputs": [],
   "source": [
    "from langchain_openai import ChatOpenAI, OpenAIEmbeddings"
   ]
  },
  {
   "cell_type": "code",
   "execution_count": 5,
   "id": "a7947660-1a81-4fba-8985-91cc918ca541",
   "metadata": {},
   "outputs": [
    {
     "data": {
      "text/plain": [
       "AIMessage(content='Hello! How can I assist you today?', additional_kwargs={'refusal': None}, response_metadata={'token_usage': {'completion_tokens': 10, 'prompt_tokens': 8, 'total_tokens': 18, 'completion_tokens_details': {'accepted_prediction_tokens': 0, 'audio_tokens': 0, 'reasoning_tokens': 0, 'rejected_prediction_tokens': 0}, 'prompt_tokens_details': {'audio_tokens': 0, 'cached_tokens': 0}}, 'model_name': 'gpt-4o-mini-2024-07-18', 'system_fingerprint': 'fp_06737a9306', 'finish_reason': 'stop', 'logprobs': None}, id='run-449c178e-2364-4fb7-bf9b-b92d52287eb4-0', usage_metadata={'input_tokens': 8, 'output_tokens': 10, 'total_tokens': 18, 'input_token_details': {'audio': 0, 'cache_read': 0}, 'output_token_details': {'audio': 0, 'reasoning': 0}})"
      ]
     },
     "execution_count": 5,
     "metadata": {},
     "output_type": "execute_result"
    }
   ],
   "source": [
    "llm = ChatOpenAI(\n",
    "    model=\"gpt-4o-mini\",\n",
    "    temperature=1\n",
    ")\n",
    "llm.invoke(\"Hello\")"
   ]
  },
  {
   "cell_type": "code",
   "execution_count": 6,
   "id": "edca4c60-f492-4f5e-860b-aec63d65b28d",
   "metadata": {},
   "outputs": [
    {
     "data": {
      "text/plain": [
       "1536"
      ]
     },
     "execution_count": 6,
     "metadata": {},
     "output_type": "execute_result"
    }
   ],
   "source": [
    "embeddings = OpenAIEmbeddings(model=\"text-embedding-3-small\")\n",
    "len(embeddings.embed_query(\"Hello\"))"
   ]
  },
  {
   "cell_type": "markdown",
   "id": "0c05aeb5-c158-47f3-a2fc-4e9d4eb1511d",
   "metadata": {},
   "source": [
    "## Load documents"
   ]
  },
  {
   "cell_type": "code",
   "execution_count": 7,
   "id": "4e23cf80-2c23-4872-9304-323ea7697e1a",
   "metadata": {},
   "outputs": [
    {
     "name": "stderr",
     "output_type": "stream",
     "text": [
      "USER_AGENT environment variable not set, consider setting it to identify your requests.\n"
     ]
    }
   ],
   "source": [
    "import bs4\n",
    "from langchain_community.document_loaders import WebBaseLoader"
   ]
  },
  {
   "cell_type": "code",
   "execution_count": 8,
   "id": "1e97bc41-ce13-4b21-9631-d9196ddc2a2e",
   "metadata": {},
   "outputs": [
    {
     "data": {
      "text/plain": [
       "1"
      ]
     },
     "execution_count": 8,
     "metadata": {},
     "output_type": "execute_result"
    }
   ],
   "source": [
    "loader = WebBaseLoader(\n",
    "    web_paths=(\"https://lilianweng.github.io/posts/2023-06-23-agent/\",),\n",
    "    bs_kwargs=dict(\n",
    "        parse_only=bs4.SoupStrainer(\n",
    "            class_=(\"post-content\", \"post-title\", \"post-header\")\n",
    "        )\n",
    "    ),\n",
    ")\n",
    "docs = loader.load()\n",
    "len(docs)"
   ]
  },
  {
   "cell_type": "code",
   "execution_count": 9,
   "id": "c0c0b94a-e7ca-4214-8343-e9f69a64a7ec",
   "metadata": {},
   "outputs": [
    {
     "name": "stdout",
     "output_type": "stream",
     "text": [
      "\n",
      "\n",
      "      LLM Powered Autonomous Agents\n",
      "    \n",
      "Date: June 23, 2023  |  Estimated Reading Time: 31 min  |  Author: Lilian Weng\n",
      "\n",
      "\n",
      "Building agents with LLM (large language model) as its core controller is a cool concept. Several proof-of-concepts demos, such as AutoGPT, GPT-Engineer and BabyAGI, serve as inspiring examples. The potentiality of LLM extends beyond generating well-written copies, stories, essays and programs; it can be framed as a powerful general problem solver.\n",
      "Agent System Overview#\n",
      "In a LLM-powered autonomous agent system, LLM functions as the agent’s brain, complemented by several key components:\n",
      "\n",
      "Planning\n",
      "\n",
      "Subgoal and decomposition: The agent breaks down large tasks into smaller, manageable subgoals, enabling efficient handling of complex tasks.\n",
      "Reflection and refinement: The agent can do self-criticism and self-reflection over past actions, learn from mistakes and refine them for future steps, thereby improving the quality of final results.\n",
      "\n",
      "\n",
      "Memory\n",
      "\n",
      "Short-term memory: I \n"
     ]
    }
   ],
   "source": [
    "print(docs[0].page_content[:1000])"
   ]
  },
  {
   "cell_type": "markdown",
   "id": "82272c1e-903c-4afd-853c-84312c25956c",
   "metadata": {},
   "source": [
    "## Split documents"
   ]
  },
  {
   "cell_type": "code",
   "execution_count": 10,
   "id": "a5505d36-c430-43b4-a12d-3bda4671b330",
   "metadata": {},
   "outputs": [],
   "source": [
    "from langchain.text_splitter import RecursiveCharacterTextSplitter"
   ]
  },
  {
   "cell_type": "code",
   "execution_count": 11,
   "id": "9d0ff5a8-9469-4c1e-bf76-f2a36a186131",
   "metadata": {},
   "outputs": [
    {
     "data": {
      "text/plain": [
       "66"
      ]
     },
     "execution_count": 11,
     "metadata": {},
     "output_type": "execute_result"
    }
   ],
   "source": [
    "text_splitter = RecursiveCharacterTextSplitter(chunk_size=1000, chunk_overlap=200)\n",
    "splits = text_splitter.split_documents(docs)\n",
    "len(splits)"
   ]
  },
  {
   "cell_type": "markdown",
   "id": "2cb81332-a8bf-4589-b885-6c1f8bf36733",
   "metadata": {},
   "source": [
    "## Store documents"
   ]
  },
  {
   "cell_type": "code",
   "execution_count": 12,
   "id": "dba68874-7c1e-435e-b2fb-4f6b831b1583",
   "metadata": {},
   "outputs": [],
   "source": [
    "from langchain_core.vectorstores import InMemoryVectorStore"
   ]
  },
  {
   "cell_type": "code",
   "execution_count": 13,
   "id": "5c8b5d56-91a2-4c01-a318-a7ced2c62e7b",
   "metadata": {},
   "outputs": [
    {
     "data": {
      "text/plain": [
       "(66, 66)"
      ]
     },
     "execution_count": 13,
     "metadata": {},
     "output_type": "execute_result"
    }
   ],
   "source": [
    "vectorstore = InMemoryVectorStore(embeddings)\n",
    "doc_ids = vectorstore.add_documents(documents=splits)\n",
    "len(doc_ids), len(vectorstore.store)"
   ]
  },
  {
   "cell_type": "markdown",
   "id": "7efe7ffa-9221-444c-ba6c-5a5f1ca3320e",
   "metadata": {},
   "source": [
    "## RAG"
   ]
  },
  {
   "cell_type": "code",
   "execution_count": 14,
   "id": "a020ed11-a677-47e8-aa19-9f3cd9775647",
   "metadata": {},
   "outputs": [],
   "source": [
    "from typing import Annotated, TypedDict\n",
    "\n",
    "from langchain_core.documents import Document\n",
    "from langchain_core.messages import HumanMessage\n",
    "from langchain_core.runnables import RunnableConfig\n",
    "from langgraph.constants import Send\n",
    "from langgraph.graph import END, START, StateGraph\n",
    "import numpy as np"
   ]
  },
  {
   "cell_type": "code",
   "execution_count": 15,
   "id": "39ed185d-4a4c-4e1e-b2c2-0e95f4225237",
   "metadata": {},
   "outputs": [
    {
     "name": "stdout",
     "output_type": "stream",
     "text": [
      "Please write a passage to answer the question\n",
      "Question: {question}\n",
      "Passage:\n"
     ]
    }
   ],
   "source": [
    "hyde_prompt_template = \"\"\"Please write a passage to answer the question\n",
    "Question: {question}\n",
    "Passage:\"\"\"\n",
    "print(hyde_prompt_template)"
   ]
  },
  {
   "cell_type": "code",
   "execution_count": 16,
   "id": "6c680829-4ce4-48b9-8e2f-d069c2715e48",
   "metadata": {},
   "outputs": [
    {
     "name": "stdout",
     "output_type": "stream",
     "text": [
      "Answer the following question based on this context:\n",
      "\n",
      "{context}\n",
      "\n",
      "Question: {question}\n",
      "\n"
     ]
    }
   ],
   "source": [
    "rag_prompt_template = \"\"\"Answer the following question based on this context:\n",
    "\n",
    "{context}\n",
    "\n",
    "Question: {question}\n",
    "\"\"\"\n",
    "print(rag_prompt_template)"
   ]
  },
  {
   "cell_type": "code",
   "execution_count": 17,
   "id": "5d3467a2-666a-4b26-a944-f5d4d4681fa7",
   "metadata": {},
   "outputs": [],
   "source": [
    "def format_docs(docs):\n",
    "    return \"\\n\\n\".join(doc.page_content for doc in docs)"
   ]
  },
  {
   "cell_type": "code",
   "execution_count": 18,
   "id": "53e5b53d-1143-4739-bd43-7abc74fcdc8d",
   "metadata": {},
   "outputs": [],
   "source": [
    "query = \"What is task decomposition for LLM agents?\""
   ]
  },
  {
   "cell_type": "code",
   "execution_count": 19,
   "id": "efd4dd07-610a-459b-bb43-c4e9344d572e",
   "metadata": {},
   "outputs": [],
   "source": [
    "class State(TypedDict):\n",
    "    question: str\n",
    "    generated_documents: list[str]\n",
    "    hyde_embeddings: np.ndarray\n",
    "    context: list[Document]\n",
    "    answer: str"
   ]
  },
  {
   "cell_type": "code",
   "execution_count": 20,
   "id": "abce7134-6b43-4e35-afd0-3203d8a7bb57",
   "metadata": {},
   "outputs": [],
   "source": [
    "def generate_documents(state: State, config: RunnableConfig) -> list[Document]:\n",
    "    generated_documents_count = config['configurable'].get(\"generated_documents_count\", 3)\n",
    "    \n",
    "    hyde_prompt = hyde_prompt_template.format(\n",
    "        question=state[\"question\"]\n",
    "    )\n",
    "    generated_documents = llm.batch([hyde_prompt] * generated_documents_count)\n",
    "    \n",
    "    return {\"generated_documents\": [document.content for document in generated_documents]}\n",
    "\n",
    "\n",
    "def calculate_hyde_embeddings(state: State):\n",
    "    question_embeddings = np.array(embeddings.embed_query(state['question']))\n",
    "    generated_documents_embeddings = np.array(embeddings.embed_documents(state['generated_documents']))\n",
    "    hyde_embeddings = np.vstack([question_embeddings, generated_documents_embeddings]).mean(axis=0)\n",
    "    return {\"hyde_embeddings\": hyde_embeddings}\n",
    "\n",
    "\n",
    "def get_relevant_documents(state: State):\n",
    "    documents = vectorstore.similarity_search_by_vector(state[\"hyde_embeddings\"])\n",
    "    return {\"context\": documents}\n",
    "\n",
    "\n",
    "def generate_answer(state: State):\n",
    "    docs_content = format_docs(state[\"context\"])\n",
    "    rag_prompt = rag_prompt_template.format(\n",
    "        context=docs_content,\n",
    "        question=state[\"question\"]\n",
    "    )\n",
    "    response = llm.invoke([\n",
    "        HumanMessage(content=rag_prompt)\n",
    "    ])\n",
    "    return {\"answer\": response.content}"
   ]
  },
  {
   "cell_type": "code",
   "execution_count": 21,
   "id": "1115f445-fbe8-43ab-91a7-c17ff26aec99",
   "metadata": {},
   "outputs": [
    {
     "data": {
      "image/png": "[encoded data removed]",
      "text/plain": [
       "<langgraph.graph.state.CompiledStateGraph object at 0x7fec343aac50>"
      ]
     },
     "execution_count": 21,
     "metadata": {},
     "output_type": "execute_result"
    }
   ],
   "source": [
    "graph_builder = StateGraph(State)\n",
    "\n",
    "graph_builder.add_node(\"generate_documents\", generate_documents)\n",
    "graph_builder.add_node(\"calculate_hyde_embeddings\", calculate_hyde_embeddings)\n",
    "graph_builder.add_node(\"get_relevant_documents\", get_relevant_documents)\n",
    "graph_builder.add_node(\"generate_answer\", generate_answer)\n",
    "\n",
    "graph_builder.add_edge(START, \"generate_documents\")\n",
    "graph_builder.add_edge(\"generate_documents\", \"calculate_hyde_embeddings\")\n",
    "graph_builder.add_edge(\"calculate_hyde_embeddings\", \"get_relevant_documents\")\n",
    "graph_builder.add_edge(\"get_relevant_documents\", \"generate_answer\")\n",
    "graph_builder.add_edge(\"generate_answer\", END)\n",
    "graph = graph_builder.compile()\n",
    "graph"
   ]
  },
  {
   "cell_type": "code",
   "execution_count": 22,
   "id": "f9aa8516-8eae-4d29-a6aa-640bc661c4bc",
   "metadata": {},
   "outputs": [
    {
     "name": "stdout",
     "output_type": "stream",
     "text": [
      "What is task decomposition for LLM agents?\n"
     ]
    },
    {
     "data": {
      "text/html": [
       "<pre style=\"white-space:pre;overflow-x:auto;line-height:normal;font-family:Menlo,'DejaVu Sans Mono',consolas,'Courier New',monospace\"><span style=\"font-weight: bold\">{</span>\n",
       "    <span style=\"color: #008000; text-decoration-color: #008000\">'question'</span>: <span style=\"color: #008000; text-decoration-color: #008000\">'What is task decomposition for LLM agents?'</span>,\n",
       "    <span style=\"color: #008000; text-decoration-color: #008000\">'generated_documents'</span>: <span style=\"font-weight: bold\">[</span>\n",
       "        <span style=\"color: #008000; text-decoration-color: #008000\">'Task decomposition for Large Language Model (LLM) agents refers to the process of breaking down complex </span>\n",
       "<span style=\"color: #008000; text-decoration-color: #008000\">tasks or problems into smaller, more manageable sub-tasks that can be addressed sequentially or concurrently. This </span>\n",
       "<span style=\"color: #008000; text-decoration-color: #008000\">method leverages the capabilities of LLMs to analyze and understand diverse contexts, allowing them to tackle </span>\n",
       "<span style=\"color: #008000; text-decoration-color: #008000\">intricate challenges more effectively. \\n\\nBy decomposing a task, an LLM agent can focus on one aspect at a time, </span>\n",
       "<span style=\"color: #008000; text-decoration-color: #008000\">minimizing cognitive overload and improving the clarity of its outputs. For instance, if an agent is tasked with </span>\n",
       "<span style=\"color: #008000; text-decoration-color: #008000\">writing a research paper, it might decompose this task into several key sub-tasks: conducting literature reviews, </span>\n",
       "<span style=\"color: #008000; text-decoration-color: #008000\">developing an outline, drafting sections, and editing for coherence and style. \\n\\nEach of these sub-tasks can be </span>\n",
       "<span style=\"color: #008000; text-decoration-color: #008000\">handled individually, allowing the agent to produce high-quality responses for each component before integrating </span>\n",
       "<span style=\"color: #008000; text-decoration-color: #008000\">them into a coherent final product. This approach not only enhances the performance and efficiency of LLM agents </span>\n",
       "<span style=\"color: #008000; text-decoration-color: #008000\">but also makes it easier for users to interact with and guide the completion of complex tasks. In summary, task </span>\n",
       "<span style=\"color: #008000; text-decoration-color: #008000\">decomposition serves as a crucial strategy to optimize LLM functionality and output quality, enabling them to </span>\n",
       "<span style=\"color: #008000; text-decoration-color: #008000\">effectively manage extensive and multifaceted assignments.'</span>,\n",
       "        <span style=\"color: #008000; text-decoration-color: #008000\">\"Task decomposition for LLM (Large Language Model) agents refers to the process of breaking down complex </span>\n",
       "<span style=\"color: #008000; text-decoration-color: #008000\">tasks or objectives into smaller, manageable components that can be more easily executed by the language model. </span>\n",
       "<span style=\"color: #008000; text-decoration-color: #008000\">This approach enhances the model's efficiency and effectiveness in handling intricate queries or multi-step </span>\n",
       "<span style=\"color: #008000; text-decoration-color: #008000\">processes.\\n\\nIn practical terms, task decomposition involves identifying the various subtasks that contribute to </span>\n",
       "<span style=\"color: #008000; text-decoration-color: #008000\">an overall goal. For instance, if the objective is to write a research paper, the decomposition might include </span>\n",
       "<span style=\"color: #008000; text-decoration-color: #008000\">defining the research question, conducting a literature review, outlining sections, drafting content, and revising </span>\n",
       "<span style=\"color: #008000; text-decoration-color: #008000\">the final document. By segmenting the task, the LLM can focus on one aspect at a time, allowing for more precise </span>\n",
       "<span style=\"color: #008000; text-decoration-color: #008000\">and contextually relevant responses.\\n\\nThis method also allows for improved coordination when multiple LLM agents </span>\n",
       "<span style=\"color: #008000; text-decoration-color: #008000\">are involved, as each agent can specialize in specific subtasks. Consequently, task decomposition not only </span>\n",
       "<span style=\"color: #008000; text-decoration-color: #008000\">increases the accuracy of outputs but also streamlines the overall workflow, making it easier for users to achieve </span>\n",
       "<span style=\"color: #008000; text-decoration-color: #008000\">their desired results.\"</span>,\n",
       "        <span style=\"color: #008000; text-decoration-color: #008000\">'Task decomposition for LLM (Large Language Model) agents refers to the process of breaking down a complex </span>\n",
       "<span style=\"color: #008000; text-decoration-color: #008000\">task into smaller, more manageable components that can be individually understood and executed by the model. This </span>\n",
       "<span style=\"color: #008000; text-decoration-color: #008000\">approach involves identifying the various sub-tasks or steps required to achieve the overall objective, allowing </span>\n",
       "<span style=\"color: #008000; text-decoration-color: #008000\">the LLM to focus on specific aspects of a task one at a time. \\n\\nBy decomposing tasks, LLM agents can enhance </span>\n",
       "<span style=\"color: #008000; text-decoration-color: #008000\">their problem-solving capabilities, improve efficiency, and reduce the likelihood of errors. For example, if the </span>\n",
       "<span style=\"color: #008000; text-decoration-color: #008000\">overall task is to write a research paper, task decomposition might involve first gathering information, then </span>\n",
       "<span style=\"color: #008000; text-decoration-color: #008000\">creating an outline, followed by writing each section, and finally editing the document. Each of these sub-tasks </span>\n",
       "<span style=\"color: #008000; text-decoration-color: #008000\">can be addressed sequentially or independently, enabling a more structured approach to complex </span>\n",
       "<span style=\"color: #008000; text-decoration-color: #008000\">challenges.\\n\\nAdditionally, task decomposition can facilitate better collaboration between LLMs and human users, </span>\n",
       "<span style=\"color: #008000; text-decoration-color: #008000\">as both parties can work on discrete components of a project. It also allows the model to leverage its strengths in</span>\n",
       "<span style=\"color: #008000; text-decoration-color: #008000\">specific domains (like generating text or analyzing data) while simplifying the cognitive load required to </span>\n",
       "<span style=\"color: #008000; text-decoration-color: #008000\">understand a multi-faceted task. Overall, task decomposition is a critical strategy for maximizing the potential of</span>\n",
       "<span style=\"color: #008000; text-decoration-color: #008000\">LLM agents in various applications, from natural language processing to automated decision-making.'</span>\n",
       "    <span style=\"font-weight: bold\">]</span>,\n",
       "    <span style=\"color: #008000; text-decoration-color: #008000\">'hyde_embeddings'</span>: <span style=\"color: #800080; text-decoration-color: #800080; font-weight: bold\">array</span><span style=\"font-weight: bold\">([</span> <span style=\"color: #008080; text-decoration-color: #008080; font-weight: bold\">0.00807217</span>,  <span style=\"color: #008080; text-decoration-color: #008080; font-weight: bold\">0.02233843</span>,  <span style=\"color: #008080; text-decoration-color: #008080; font-weight: bold\">0.05167598</span>, <span style=\"color: #808000; text-decoration-color: #808000\">...</span>,  <span style=\"color: #008080; text-decoration-color: #008080; font-weight: bold\">0.01630242</span>,\n",
       "       <span style=\"color: #008080; text-decoration-color: #008080; font-weight: bold\">-0.00076759</span>,  <span style=\"color: #008080; text-decoration-color: #008080; font-weight: bold\">0.01732805</span><span style=\"font-weight: bold\">])</span>,\n",
       "    <span style=\"color: #008000; text-decoration-color: #008000\">'context'</span>: <span style=\"font-weight: bold\">[</span><span style=\"color: #800080; text-decoration-color: #800080; font-weight: bold\">Document</span><span style=\"font-weight: bold\">(</span><span style=\"color: #808000; text-decoration-color: #808000\">...</span><span style=\"font-weight: bold\">)</span>, <span style=\"color: #800080; text-decoration-color: #800080; font-weight: bold\">Document</span><span style=\"font-weight: bold\">(</span><span style=\"color: #808000; text-decoration-color: #808000\">...</span><span style=\"font-weight: bold\">)</span>, <span style=\"color: #800080; text-decoration-color: #800080; font-weight: bold\">Document</span><span style=\"font-weight: bold\">(</span><span style=\"color: #808000; text-decoration-color: #808000\">...</span><span style=\"font-weight: bold\">)</span>, <span style=\"color: #800080; text-decoration-color: #800080; font-weight: bold\">Document</span><span style=\"font-weight: bold\">(</span><span style=\"color: #808000; text-decoration-color: #808000\">...</span><span style=\"font-weight: bold\">)]</span>,\n",
       "    <span style=\"color: #008000; text-decoration-color: #008000\">'answer'</span>: <span style=\"color: #008000; text-decoration-color: #008000\">'Task decomposition for LLM (large language model) agents refers to the process of breaking down </span>\n",
       "<span style=\"color: #008000; text-decoration-color: #008000\">complex tasks into smaller, more manageable subgoals. This is accomplished using a technique known as Chain of </span>\n",
       "<span style=\"color: #008000; text-decoration-color: #008000\">Thought (CoT), where the model is prompted to “think step by step.” By doing so, the agent can transform a large, </span>\n",
       "<span style=\"color: #008000; text-decoration-color: #008000\">complicated task into simpler, sequential steps that are easier to handle. This not only aids in effectively </span>\n",
       "<span style=\"color: #008000; text-decoration-color: #008000\">managing complex tasks but also provides insight into the model’s reasoning and thought process.'</span>\n",
       "<span style=\"font-weight: bold\">}</span>\n",
       "</pre>\n"
      ],
      "text/plain": [
       "\u001b[1m{\u001b[0m\n",
       "    \u001b[32m'question'\u001b[0m: \u001b[32m'What is task decomposition for LLM agents?'\u001b[0m,\n",
       "    \u001b[32m'generated_documents'\u001b[0m: \u001b[1m[\u001b[0m\n",
       "        \u001b[32m'Task decomposition for Large Language Model \u001b[0m\u001b[32m(\u001b[0m\u001b[32mLLM\u001b[0m\u001b[32m)\u001b[0m\u001b[32m agents refers to the process of breaking down complex \u001b[0m\n",
       "\u001b[32mtasks or problems into smaller, more manageable sub-tasks that can be addressed sequentially or concurrently. This \u001b[0m\n",
       "\u001b[32mmethod leverages the capabilities of LLMs to analyze and understand diverse contexts, allowing them to tackle \u001b[0m\n",
       "\u001b[32mintricate challenges more effectively. \\n\\nBy decomposing a task, an LLM agent can focus on one aspect at a time, \u001b[0m\n",
       "\u001b[32mminimizing cognitive overload and improving the clarity of its outputs. For instance, if an agent is tasked with \u001b[0m\n",
       "\u001b[32mwriting a research paper, it might decompose this task into several key sub-tasks: conducting literature reviews, \u001b[0m\n",
       "\u001b[32mdeveloping an outline, drafting sections, and editing for coherence and style. \\n\\nEach of these sub-tasks can be \u001b[0m\n",
       "\u001b[32mhandled individually, allowing the agent to produce high-quality responses for each component before integrating \u001b[0m\n",
       "\u001b[32mthem into a coherent final product. This approach not only enhances the performance and efficiency of LLM agents \u001b[0m\n",
       "\u001b[32mbut also makes it easier for users to interact with and guide the completion of complex tasks. In summary, task \u001b[0m\n",
       "\u001b[32mdecomposition serves as a crucial strategy to optimize LLM functionality and output quality, enabling them to \u001b[0m\n",
       "\u001b[32meffectively manage extensive and multifaceted assignments.'\u001b[0m,\n",
       "        \u001b[32m\"Task decomposition for LLM \u001b[0m\u001b[32m(\u001b[0m\u001b[32mLarge Language Model\u001b[0m\u001b[32m)\u001b[0m\u001b[32m agents refers to the process of breaking down complex \u001b[0m\n",
       "\u001b[32mtasks or objectives into smaller, manageable components that can be more easily executed by the language model. \u001b[0m\n",
       "\u001b[32mThis approach enhances the model's efficiency and effectiveness in handling intricate queries or multi-step \u001b[0m\n",
       "\u001b[32mprocesses.\\n\\nIn practical terms, task decomposition involves identifying the various subtasks that contribute to \u001b[0m\n",
       "\u001b[32man overall goal. For instance, if the objective is to write a research paper, the decomposition might include \u001b[0m\n",
       "\u001b[32mdefining the research question, conducting a literature review, outlining sections, drafting content, and revising \u001b[0m\n",
       "\u001b[32mthe final document. By segmenting the task, the LLM can focus on one aspect at a time, allowing for more precise \u001b[0m\n",
       "\u001b[32mand contextually relevant responses.\\n\\nThis method also allows for improved coordination when multiple LLM agents \u001b[0m\n",
       "\u001b[32mare involved, as each agent can specialize in specific subtasks. Consequently, task decomposition not only \u001b[0m\n",
       "\u001b[32mincreases the accuracy of outputs but also streamlines the overall workflow, making it easier for users to achieve \u001b[0m\n",
       "\u001b[32mtheir desired results.\"\u001b[0m,\n",
       "        \u001b[32m'Task decomposition for LLM \u001b[0m\u001b[32m(\u001b[0m\u001b[32mLarge Language Model\u001b[0m\u001b[32m)\u001b[0m\u001b[32m agents refers to the process of breaking down a complex \u001b[0m\n",
       "\u001b[32mtask into smaller, more manageable components that can be individually understood and executed by the model. This \u001b[0m\n",
       "\u001b[32mapproach involves identifying the various sub-tasks or steps required to achieve the overall objective, allowing \u001b[0m\n",
       "\u001b[32mthe LLM to focus on specific aspects of a task one at a time. \\n\\nBy decomposing tasks, LLM agents can enhance \u001b[0m\n",
       "\u001b[32mtheir problem-solving capabilities, improve efficiency, and reduce the likelihood of errors. For example, if the \u001b[0m\n",
       "\u001b[32moverall task is to write a research paper, task decomposition might involve first gathering information, then \u001b[0m\n",
       "\u001b[32mcreating an outline, followed by writing each section, and finally editing the document. Each of these sub-tasks \u001b[0m\n",
       "\u001b[32mcan be addressed sequentially or independently, enabling a more structured approach to complex \u001b[0m\n",
       "\u001b[32mchallenges.\\n\\nAdditionally, task decomposition can facilitate better collaboration between LLMs and human users, \u001b[0m\n",
       "\u001b[32mas both parties can work on discrete components of a project. It also allows the model to leverage its strengths in\u001b[0m\n",
       "\u001b[32mspecific domains \u001b[0m\u001b[32m(\u001b[0m\u001b[32mlike generating text or analyzing data\u001b[0m\u001b[32m)\u001b[0m\u001b[32m while simplifying the cognitive load required to \u001b[0m\n",
       "\u001b[32munderstand a multi-faceted task. Overall, task decomposition is a critical strategy for maximizing the potential of\u001b[0m\n",
       "\u001b[32mLLM agents in various applications, from natural language processing to automated decision-making.'\u001b[0m\n",
       "    \u001b[1m]\u001b[0m,\n",
       "    \u001b[32m'hyde_embeddings'\u001b[0m: \u001b[1;35marray\u001b[0m\u001b[1m(\u001b[0m\u001b[1m[\u001b[0m \u001b[1;36m0.00807217\u001b[0m,  \u001b[1;36m0.02233843\u001b[0m,  \u001b[1;36m0.05167598\u001b[0m, \u001b[33m...\u001b[0m,  \u001b[1;36m0.01630242\u001b[0m,\n",
       "       \u001b[1;36m-0.00076759\u001b[0m,  \u001b[1;36m0.01732805\u001b[0m\u001b[1m]\u001b[0m\u001b[1m)\u001b[0m,\n",
       "    \u001b[32m'context'\u001b[0m: \u001b[1m[\u001b[0m\u001b[1;35mDocument\u001b[0m\u001b[1m(\u001b[0m\u001b[33m...\u001b[0m\u001b[1m)\u001b[0m, \u001b[1;35mDocument\u001b[0m\u001b[1m(\u001b[0m\u001b[33m...\u001b[0m\u001b[1m)\u001b[0m, \u001b[1;35mDocument\u001b[0m\u001b[1m(\u001b[0m\u001b[33m...\u001b[0m\u001b[1m)\u001b[0m, \u001b[1;35mDocument\u001b[0m\u001b[1m(\u001b[0m\u001b[33m...\u001b[0m\u001b[1m)\u001b[0m\u001b[1m]\u001b[0m,\n",
       "    \u001b[32m'answer'\u001b[0m: \u001b[32m'Task decomposition for LLM \u001b[0m\u001b[32m(\u001b[0m\u001b[32mlarge language model\u001b[0m\u001b[32m)\u001b[0m\u001b[32m agents refers to the process of breaking down \u001b[0m\n",
       "\u001b[32mcomplex tasks into smaller, more manageable subgoals. This is accomplished using a technique known as Chain of \u001b[0m\n",
       "\u001b[32mThought \u001b[0m\u001b[32m(\u001b[0m\u001b[32mCoT\u001b[0m\u001b[32m)\u001b[0m\u001b[32m, where the model is prompted to “think step by step.” By doing so, the agent can transform a large, \u001b[0m\n",
       "\u001b[32mcomplicated task into simpler, sequential steps that are easier to handle. This not only aids in effectively \u001b[0m\n",
       "\u001b[32mmanaging complex tasks but also provides insight into the model’s reasoning and thought process.'\u001b[0m\n",
       "\u001b[1m}\u001b[0m\n"
      ]
     },
     "metadata": {},
     "output_type": "display_data"
    },
    {
     "data": {
      "text/html": [
       "<pre style=\"white-space:pre;overflow-x:auto;line-height:normal;font-family:Menlo,'DejaVu Sans Mono',consolas,'Courier New',monospace\">Task decomposition for LLM (large language model) agents refers to the process of breaking down complex tasks into \n",
       "smaller, more manageable subgoals. This is accomplished using a technique known as Chain of Thought (CoT), where   \n",
       "the model is prompted to “think step by step.” By doing so, the agent can transform a large, complicated task into \n",
       "simpler, sequential steps that are easier to handle. This not only aids in effectively managing complex tasks but  \n",
       "also provides insight into the model’s reasoning and thought process.                                              \n",
       "</pre>\n"
      ],
      "text/plain": [
       "Task decomposition for LLM (large language model) agents refers to the process of breaking down complex tasks into \n",
       "smaller, more manageable subgoals. This is accomplished using a technique known as Chain of Thought (CoT), where   \n",
       "the model is prompted to “think step by step.” By doing so, the agent can transform a large, complicated task into \n",
       "simpler, sequential steps that are easier to handle. This not only aids in effectively managing complex tasks but  \n",
       "also provides insight into the model’s reasoning and thought process.                                              \n"
      ]
     },
     "metadata": {},
     "output_type": "display_data"
    }
   ],
   "source": [
    "print(query)\n",
    "\n",
    "response = graph.invoke({\"question\": query})\n",
    "\n",
    "display(Pretty(response, max_depth=2))\n",
    "display(Markdown(response[\"answer\"]))"
   ]
  },
  {
   "cell_type": "code",
   "execution_count": 23,
   "id": "6dfd34b0-bb3d-43a1-9764-5708bd93ff23",
   "metadata": {},
   "outputs": [
    {
     "name": "stdout",
     "output_type": "stream",
     "text": [
      "What is task decomposition for LLM agents?\n"
     ]
    },
    {
     "data": {
      "text/html": [
       "<pre style=\"white-space:pre;overflow-x:auto;line-height:normal;font-family:Menlo,'DejaVu Sans Mono',consolas,'Courier New',monospace\"><span style=\"font-weight: bold\">{</span>\n",
       "    <span style=\"color: #008000; text-decoration-color: #008000\">'question'</span>: <span style=\"color: #008000; text-decoration-color: #008000\">'What is task decomposition for LLM agents?'</span>,\n",
       "    <span style=\"color: #008000; text-decoration-color: #008000\">'generated_documents'</span>: <span style=\"font-weight: bold\">[</span>\n",
       "        <span style=\"color: #008000; text-decoration-color: #008000\">'Task decomposition for Large Language Model (LLM) agents refers to the process of breaking down complex </span>\n",
       "<span style=\"color: #008000; text-decoration-color: #008000\">tasks into smaller, more manageable sub-tasks that can be tackled individually. This approach enhances the </span>\n",
       "<span style=\"color: #008000; text-decoration-color: #008000\">efficiency and effectiveness of LLMs in various applications, including natural language understanding, data </span>\n",
       "<span style=\"color: #008000; text-decoration-color: #008000\">analysis, and problem-solving scenarios. By analyzing a larger task and identifying its constituent components, LLM</span>\n",
       "<span style=\"color: #008000; text-decoration-color: #008000\">agents can focus on each part with greater precision, leading to improved outcomes.\\n\\nFor example, if an LLM is </span>\n",
       "<span style=\"color: #008000; text-decoration-color: #008000\">tasked with writing a research paper, task decomposition would involve dividing the process into specific actions </span>\n",
       "<span style=\"color: #008000; text-decoration-color: #008000\">such as conducting literature reviews, drafting sections, generating references, and editing the final document. By</span>\n",
       "<span style=\"color: #008000; text-decoration-color: #008000\">systematically addressing these smaller tasks, the LLM can maintain clarity and coherence while also ensuring that </span>\n",
       "<span style=\"color: #008000; text-decoration-color: #008000\">each aspect is addressed thoroughly.\\n\\nMoreover, task decomposition allows for parallel processing, where </span>\n",
       "<span style=\"color: #008000; text-decoration-color: #008000\">different sub-tasks can be handled simultaneously or by multiple LLMs, thereby accelerating the overall workflow. </span>\n",
       "<span style=\"color: #008000; text-decoration-color: #008000\">It also aids in error reduction, as smaller components are often easier to validate and correct than a </span>\n",
       "<span style=\"color: #008000; text-decoration-color: #008000\">comprehensive task. Ultimately, task decomposition empowers LLM agents to operate more strategically and produce </span>\n",
       "<span style=\"color: #008000; text-decoration-color: #008000\">higher-quality outputs in diverse contexts.'</span>,\n",
       "        <span style=\"color: #008000; text-decoration-color: #008000\">'Task decomposition for LLM (Large Language Model) agents refers to the method of breaking down complex </span>\n",
       "<span style=\"color: #008000; text-decoration-color: #008000\">tasks into smaller, more manageable components that can be addressed individually. This approach is essential for </span>\n",
       "<span style=\"color: #008000; text-decoration-color: #008000\">optimizing the performance of LLMs, as it enables them to focus on specific elements of a problem without being </span>\n",
       "<span style=\"color: #008000; text-decoration-color: #008000\">overwhelmed by its entirety.\\n\\nWhen dealing with intricate queries or multi-step processes, task decomposition </span>\n",
       "<span style=\"color: #008000; text-decoration-color: #008000\">allows LLM agents to analyze each part systematically. For example, if the goal is to write a research paper, the </span>\n",
       "<span style=\"color: #008000; text-decoration-color: #008000\">tasks could be decomposed into components such as topic selection, literature review, outline creation, drafting, </span>\n",
       "<span style=\"color: #008000; text-decoration-color: #008000\">and revision. By addressing each component step-by-step, the LLM can generate more coherent and structured </span>\n",
       "<span style=\"color: #008000; text-decoration-color: #008000\">responses, ultimately leading to a higher quality output.\\n\\nFurthermore, task decomposition enhances the </span>\n",
       "<span style=\"color: #008000; text-decoration-color: #008000\">efficiency of LLM agents by facilitating parallel processing, where different sub-tasks can be tackled </span>\n",
       "<span style=\"color: #008000; text-decoration-color: #008000\">simultaneously or sequentially based on dependencies. This method not only improves the overall workflow but also </span>\n",
       "<span style=\"color: #008000; text-decoration-color: #008000\">aids in better resource allocation, allowing the model to utilize its capabilities more effectively. Overall, task </span>\n",
       "<span style=\"color: #008000; text-decoration-color: #008000\">decomposition plays a crucial role in maximizing the utility and performance of LLM agents in a variety of </span>\n",
       "<span style=\"color: #008000; text-decoration-color: #008000\">applications, from academic writing to complex problem-solving in diverse fields.'</span>,\n",
       "        <span style=\"color: #008000; text-decoration-color: #008000\">'Task decomposition for large language model (LLM) agents refers to the process of breaking down complex </span>\n",
       "<span style=\"color: #008000; text-decoration-color: #008000\">tasks into smaller, more manageable sub-tasks that can be addressed more easily by the model. This approach </span>\n",
       "<span style=\"color: #008000; text-decoration-color: #008000\">enhances the efficiency and effectiveness of LLMs in various applications, as it allows them to focus on specific </span>\n",
       "<span style=\"color: #008000; text-decoration-color: #008000\">components of a broader task one at a time. By decomposing a task, an LLM can leverage its abilities to generate </span>\n",
       "<span style=\"color: #008000; text-decoration-color: #008000\">coherent responses, extract relevant information, and perform reasoning in a more structured manner.\\n\\nFor </span>\n",
       "<span style=\"color: #008000; text-decoration-color: #008000\">instance, when given a multifaceted question, an LLM agent might first identify key components, such as gathering </span>\n",
       "<span style=\"color: #008000; text-decoration-color: #008000\">data, analyzing context, and synthesizing a final response. Each of these components can then be processed </span>\n",
       "<span style=\"color: #008000; text-decoration-color: #008000\">sequentially or in parallel, which increases the likelihood of achieving accurate and comprehensive results. </span>\n",
       "<span style=\"color: #008000; text-decoration-color: #008000\">Additionally, task decomposition can facilitate iterative improvements, as each sub-task can be reviewed and </span>\n",
       "<span style=\"color: #008000; text-decoration-color: #008000\">refined independently before being integrated into the overall solution. Ultimately, task decomposition empowers </span>\n",
       "<span style=\"color: #008000; text-decoration-color: #008000\">LLM agents to tackle complex challenges in a systematic way, improving their performance and usability across </span>\n",
       "<span style=\"color: #008000; text-decoration-color: #008000\">various domains.'</span>,\n",
       "        <span style=\"color: #008000; text-decoration-color: #008000\">'Task decomposition for LLM agents refers to the process of breaking down complex tasks into smaller, more </span>\n",
       "<span style=\"color: #008000; text-decoration-color: #008000\">manageable sub-tasks that can be individually addressed by the language model. This method leverages the </span>\n",
       "<span style=\"color: #008000; text-decoration-color: #008000\">capabilities of large language models (LLMs) to approach intricate problems systematically, enhancing efficiency </span>\n",
       "<span style=\"color: #008000; text-decoration-color: #008000\">and effectiveness in generating solutions or responses. By deconstructing a task, such as writing an essay, solving</span>\n",
       "<span style=\"color: #008000; text-decoration-color: #008000\">a mathematical problem, or developing a software script, LLM agents can focus on one aspect at a time—like </span>\n",
       "<span style=\"color: #008000; text-decoration-color: #008000\">brainstorming ideas, outlining the structure, or refining language—before integrating these elements into a </span>\n",
       "<span style=\"color: #008000; text-decoration-color: #008000\">cohesive output. This systematic approach not only simplifies the task but also helps to ensure that the model </span>\n",
       "<span style=\"color: #008000; text-decoration-color: #008000\">addresses all relevant components thoroughly, minimizing the risk of overlooking critical details. Task </span>\n",
       "<span style=\"color: #008000; text-decoration-color: #008000\">decomposition is particularly beneficial in complex scenarios where the final output requires a nuanced </span>\n",
       "<span style=\"color: #008000; text-decoration-color: #008000\">understanding of multiple factors or sequential reasoning.'</span>,\n",
       "        <span style=\"color: #008000; text-decoration-color: #008000\">'Task decomposition for LLM (Large Language Model) agents refers to the process of breaking down complex </span>\n",
       "<span style=\"color: #008000; text-decoration-color: #008000\">tasks into smaller, more manageable components that can be individually addressed and solved by the model. This </span>\n",
       "<span style=\"color: #008000; text-decoration-color: #008000\">approach leverages the strengths of LLMs by enabling them to handle intricate problems in a structured manner, </span>\n",
       "<span style=\"color: #008000; text-decoration-color: #008000\">enhancing their efficiency and effectiveness.\\n\\nIn practice, task decomposition involves identifying the various </span>\n",
       "<span style=\"color: #008000; text-decoration-color: #008000\">steps or sub-tasks involved in achieving a larger goal. For instance, if the overall task is to write a research </span>\n",
       "<span style=\"color: #008000; text-decoration-color: #008000\">paper, the decomposition might involve several stages: selecting a topic, conducting a literature review, outlining</span>\n",
       "<span style=\"color: #008000; text-decoration-color: #008000\">the structure, writing individual sections, and finally editing and formatting the document. By isolating these </span>\n",
       "<span style=\"color: #008000; text-decoration-color: #008000\">components, an LLM can focus on one aspect at a time, improving the quality of its output through focused </span>\n",
       "<span style=\"color: #008000; text-decoration-color: #008000\">processing.\\n\\nMoreover, task decomposition allows for better collaboration between LLMs and human users. It </span>\n",
       "<span style=\"color: #008000; text-decoration-color: #008000\">provides a framework for users to interact with the agent more effectively, as they can guide the model through </span>\n",
       "<span style=\"color: #008000; text-decoration-color: #008000\">each sub-task, offering feedback and adjustments along the way. This iterative process ensures that the end result </span>\n",
       "<span style=\"color: #008000; text-decoration-color: #008000\">aligns closely with the user’s expectations and requirements.\\n\\nOverall, task decomposition is a valuable strategy</span>\n",
       "<span style=\"color: #008000; text-decoration-color: #008000\">in optimizing the capabilities of LLM agents, rendering complex tasks approachable and facilitating seamless </span>\n",
       "<span style=\"color: #008000; text-decoration-color: #008000\">human-agent interaction.'</span>\n",
       "    <span style=\"font-weight: bold\">]</span>,\n",
       "    <span style=\"color: #008000; text-decoration-color: #008000\">'hyde_embeddings'</span>: <span style=\"color: #800080; text-decoration-color: #800080; font-weight: bold\">array</span><span style=\"font-weight: bold\">([</span><span style=\"color: #008080; text-decoration-color: #008080; font-weight: bold\">0.00585794</span>, <span style=\"color: #008080; text-decoration-color: #008080; font-weight: bold\">0.01827631</span>, <span style=\"color: #008080; text-decoration-color: #008080; font-weight: bold\">0.05184456</span>, <span style=\"color: #808000; text-decoration-color: #808000\">...</span>, <span style=\"color: #008080; text-decoration-color: #008080; font-weight: bold\">0.01400666</span>, <span style=\"color: #008080; text-decoration-color: #008080; font-weight: bold\">0.00047919</span>,\n",
       "       <span style=\"color: #008080; text-decoration-color: #008080; font-weight: bold\">0.02011572</span><span style=\"font-weight: bold\">])</span>,\n",
       "    <span style=\"color: #008000; text-decoration-color: #008000\">'context'</span>: <span style=\"font-weight: bold\">[</span><span style=\"color: #800080; text-decoration-color: #800080; font-weight: bold\">Document</span><span style=\"font-weight: bold\">(</span><span style=\"color: #808000; text-decoration-color: #808000\">...</span><span style=\"font-weight: bold\">)</span>, <span style=\"color: #800080; text-decoration-color: #800080; font-weight: bold\">Document</span><span style=\"font-weight: bold\">(</span><span style=\"color: #808000; text-decoration-color: #808000\">...</span><span style=\"font-weight: bold\">)</span>, <span style=\"color: #800080; text-decoration-color: #800080; font-weight: bold\">Document</span><span style=\"font-weight: bold\">(</span><span style=\"color: #808000; text-decoration-color: #808000\">...</span><span style=\"font-weight: bold\">)</span>, <span style=\"color: #800080; text-decoration-color: #800080; font-weight: bold\">Document</span><span style=\"font-weight: bold\">(</span><span style=\"color: #808000; text-decoration-color: #808000\">...</span><span style=\"font-weight: bold\">)]</span>,\n",
       "    <span style=\"color: #008000; text-decoration-color: #008000\">'answer'</span>: <span style=\"color: #008000; text-decoration-color: #008000\">'Task decomposition for LLM agents is the process of breaking down complicated tasks into smaller, </span>\n",
       "<span style=\"color: #008000; text-decoration-color: #008000\">manageable subgoals. This approach allows agents to efficiently handle complex tasks by transforming large, </span>\n",
       "<span style=\"color: #008000; text-decoration-color: #008000\">challenging objectives into simpler, more easily addressable steps. The technique of Chain of Thought (CoT) </span>\n",
       "<span style=\"color: #008000; text-decoration-color: #008000\">prompting enhances this process by instructing the model to \"think step by step,\" which utilizes additional </span>\n",
       "<span style=\"color: #008000; text-decoration-color: #008000\">computational resources during test time to articulate the model\\'s reasoning and planning. This structured </span>\n",
       "<span style=\"color: #008000; text-decoration-color: #008000\">decomposition not only aids in task execution but also provides insight into the model’s thought process.'</span>\n",
       "<span style=\"font-weight: bold\">}</span>\n",
       "</pre>\n"
      ],
      "text/plain": [
       "\u001b[1m{\u001b[0m\n",
       "    \u001b[32m'question'\u001b[0m: \u001b[32m'What is task decomposition for LLM agents?'\u001b[0m,\n",
       "    \u001b[32m'generated_documents'\u001b[0m: \u001b[1m[\u001b[0m\n",
       "        \u001b[32m'Task decomposition for Large Language Model \u001b[0m\u001b[32m(\u001b[0m\u001b[32mLLM\u001b[0m\u001b[32m)\u001b[0m\u001b[32m agents refers to the process of breaking down complex \u001b[0m\n",
       "\u001b[32mtasks into smaller, more manageable sub-tasks that can be tackled individually. This approach enhances the \u001b[0m\n",
       "\u001b[32mefficiency and effectiveness of LLMs in various applications, including natural language understanding, data \u001b[0m\n",
       "\u001b[32manalysis, and problem-solving scenarios. By analyzing a larger task and identifying its constituent components, LLM\u001b[0m\n",
       "\u001b[32magents can focus on each part with greater precision, leading to improved outcomes.\\n\\nFor example, if an LLM is \u001b[0m\n",
       "\u001b[32mtasked with writing a research paper, task decomposition would involve dividing the process into specific actions \u001b[0m\n",
       "\u001b[32msuch as conducting literature reviews, drafting sections, generating references, and editing the final document. By\u001b[0m\n",
       "\u001b[32msystematically addressing these smaller tasks, the LLM can maintain clarity and coherence while also ensuring that \u001b[0m\n",
       "\u001b[32meach aspect is addressed thoroughly.\\n\\nMoreover, task decomposition allows for parallel processing, where \u001b[0m\n",
       "\u001b[32mdifferent sub-tasks can be handled simultaneously or by multiple LLMs, thereby accelerating the overall workflow. \u001b[0m\n",
       "\u001b[32mIt also aids in error reduction, as smaller components are often easier to validate and correct than a \u001b[0m\n",
       "\u001b[32mcomprehensive task. Ultimately, task decomposition empowers LLM agents to operate more strategically and produce \u001b[0m\n",
       "\u001b[32mhigher-quality outputs in diverse contexts.'\u001b[0m,\n",
       "        \u001b[32m'Task decomposition for LLM \u001b[0m\u001b[32m(\u001b[0m\u001b[32mLarge Language Model\u001b[0m\u001b[32m)\u001b[0m\u001b[32m agents refers to the method of breaking down complex \u001b[0m\n",
       "\u001b[32mtasks into smaller, more manageable components that can be addressed individually. This approach is essential for \u001b[0m\n",
       "\u001b[32moptimizing the performance of LLMs, as it enables them to focus on specific elements of a problem without being \u001b[0m\n",
       "\u001b[32moverwhelmed by its entirety.\\n\\nWhen dealing with intricate queries or multi-step processes, task decomposition \u001b[0m\n",
       "\u001b[32mallows LLM agents to analyze each part systematically. For example, if the goal is to write a research paper, the \u001b[0m\n",
       "\u001b[32mtasks could be decomposed into components such as topic selection, literature review, outline creation, drafting, \u001b[0m\n",
       "\u001b[32mand revision. By addressing each component step-by-step, the LLM can generate more coherent and structured \u001b[0m\n",
       "\u001b[32mresponses, ultimately leading to a higher quality output.\\n\\nFurthermore, task decomposition enhances the \u001b[0m\n",
       "\u001b[32mefficiency of LLM agents by facilitating parallel processing, where different sub-tasks can be tackled \u001b[0m\n",
       "\u001b[32msimultaneously or sequentially based on dependencies. This method not only improves the overall workflow but also \u001b[0m\n",
       "\u001b[32maids in better resource allocation, allowing the model to utilize its capabilities more effectively. Overall, task \u001b[0m\n",
       "\u001b[32mdecomposition plays a crucial role in maximizing the utility and performance of LLM agents in a variety of \u001b[0m\n",
       "\u001b[32mapplications, from academic writing to complex problem-solving in diverse fields.'\u001b[0m,\n",
       "        \u001b[32m'Task decomposition for large language model \u001b[0m\u001b[32m(\u001b[0m\u001b[32mLLM\u001b[0m\u001b[32m)\u001b[0m\u001b[32m agents refers to the process of breaking down complex \u001b[0m\n",
       "\u001b[32mtasks into smaller, more manageable sub-tasks that can be addressed more easily by the model. This approach \u001b[0m\n",
       "\u001b[32menhances the efficiency and effectiveness of LLMs in various applications, as it allows them to focus on specific \u001b[0m\n",
       "\u001b[32mcomponents of a broader task one at a time. By decomposing a task, an LLM can leverage its abilities to generate \u001b[0m\n",
       "\u001b[32mcoherent responses, extract relevant information, and perform reasoning in a more structured manner.\\n\\nFor \u001b[0m\n",
       "\u001b[32minstance, when given a multifaceted question, an LLM agent might first identify key components, such as gathering \u001b[0m\n",
       "\u001b[32mdata, analyzing context, and synthesizing a final response. Each of these components can then be processed \u001b[0m\n",
       "\u001b[32msequentially or in parallel, which increases the likelihood of achieving accurate and comprehensive results. \u001b[0m\n",
       "\u001b[32mAdditionally, task decomposition can facilitate iterative improvements, as each sub-task can be reviewed and \u001b[0m\n",
       "\u001b[32mrefined independently before being integrated into the overall solution. Ultimately, task decomposition empowers \u001b[0m\n",
       "\u001b[32mLLM agents to tackle complex challenges in a systematic way, improving their performance and usability across \u001b[0m\n",
       "\u001b[32mvarious domains.'\u001b[0m,\n",
       "        \u001b[32m'Task decomposition for LLM agents refers to the process of breaking down complex tasks into smaller, more \u001b[0m\n",
       "\u001b[32mmanageable sub-tasks that can be individually addressed by the language model. This method leverages the \u001b[0m\n",
       "\u001b[32mcapabilities of large language models \u001b[0m\u001b[32m(\u001b[0m\u001b[32mLLMs\u001b[0m\u001b[32m)\u001b[0m\u001b[32m to approach intricate problems systematically, enhancing efficiency \u001b[0m\n",
       "\u001b[32mand effectiveness in generating solutions or responses. By deconstructing a task, such as writing an essay, solving\u001b[0m\n",
       "\u001b[32ma mathematical problem, or developing a software script, LLM agents can focus on one aspect at a time—like \u001b[0m\n",
       "\u001b[32mbrainstorming ideas, outlining the structure, or refining language—before integrating these elements into a \u001b[0m\n",
       "\u001b[32mcohesive output. This systematic approach not only simplifies the task but also helps to ensure that the model \u001b[0m\n",
       "\u001b[32maddresses all relevant components thoroughly, minimizing the risk of overlooking critical details. Task \u001b[0m\n",
       "\u001b[32mdecomposition is particularly beneficial in complex scenarios where the final output requires a nuanced \u001b[0m\n",
       "\u001b[32munderstanding of multiple factors or sequential reasoning.'\u001b[0m,\n",
       "        \u001b[32m'Task decomposition for LLM \u001b[0m\u001b[32m(\u001b[0m\u001b[32mLarge Language Model\u001b[0m\u001b[32m)\u001b[0m\u001b[32m agents refers to the process of breaking down complex \u001b[0m\n",
       "\u001b[32mtasks into smaller, more manageable components that can be individually addressed and solved by the model. This \u001b[0m\n",
       "\u001b[32mapproach leverages the strengths of LLMs by enabling them to handle intricate problems in a structured manner, \u001b[0m\n",
       "\u001b[32menhancing their efficiency and effectiveness.\\n\\nIn practice, task decomposition involves identifying the various \u001b[0m\n",
       "\u001b[32msteps or sub-tasks involved in achieving a larger goal. For instance, if the overall task is to write a research \u001b[0m\n",
       "\u001b[32mpaper, the decomposition might involve several stages: selecting a topic, conducting a literature review, outlining\u001b[0m\n",
       "\u001b[32mthe structure, writing individual sections, and finally editing and formatting the document. By isolating these \u001b[0m\n",
       "\u001b[32mcomponents, an LLM can focus on one aspect at a time, improving the quality of its output through focused \u001b[0m\n",
       "\u001b[32mprocessing.\\n\\nMoreover, task decomposition allows for better collaboration between LLMs and human users. It \u001b[0m\n",
       "\u001b[32mprovides a framework for users to interact with the agent more effectively, as they can guide the model through \u001b[0m\n",
       "\u001b[32meach sub-task, offering feedback and adjustments along the way. This iterative process ensures that the end result \u001b[0m\n",
       "\u001b[32maligns closely with the user’s expectations and requirements.\\n\\nOverall, task decomposition is a valuable strategy\u001b[0m\n",
       "\u001b[32min optimizing the capabilities of LLM agents, rendering complex tasks approachable and facilitating seamless \u001b[0m\n",
       "\u001b[32mhuman-agent interaction.'\u001b[0m\n",
       "    \u001b[1m]\u001b[0m,\n",
       "    \u001b[32m'hyde_embeddings'\u001b[0m: \u001b[1;35marray\u001b[0m\u001b[1m(\u001b[0m\u001b[1m[\u001b[0m\u001b[1;36m0.00585794\u001b[0m, \u001b[1;36m0.01827631\u001b[0m, \u001b[1;36m0.05184456\u001b[0m, \u001b[33m...\u001b[0m, \u001b[1;36m0.01400666\u001b[0m, \u001b[1;36m0.00047919\u001b[0m,\n",
       "       \u001b[1;36m0.02011572\u001b[0m\u001b[1m]\u001b[0m\u001b[1m)\u001b[0m,\n",
       "    \u001b[32m'context'\u001b[0m: \u001b[1m[\u001b[0m\u001b[1;35mDocument\u001b[0m\u001b[1m(\u001b[0m\u001b[33m...\u001b[0m\u001b[1m)\u001b[0m, \u001b[1;35mDocument\u001b[0m\u001b[1m(\u001b[0m\u001b[33m...\u001b[0m\u001b[1m)\u001b[0m, \u001b[1;35mDocument\u001b[0m\u001b[1m(\u001b[0m\u001b[33m...\u001b[0m\u001b[1m)\u001b[0m, \u001b[1;35mDocument\u001b[0m\u001b[1m(\u001b[0m\u001b[33m...\u001b[0m\u001b[1m)\u001b[0m\u001b[1m]\u001b[0m,\n",
       "    \u001b[32m'answer'\u001b[0m: \u001b[32m'Task decomposition for LLM agents is the process of breaking down complicated tasks into smaller, \u001b[0m\n",
       "\u001b[32mmanageable subgoals. This approach allows agents to efficiently handle complex tasks by transforming large, \u001b[0m\n",
       "\u001b[32mchallenging objectives into simpler, more easily addressable steps. The technique of Chain of Thought \u001b[0m\u001b[32m(\u001b[0m\u001b[32mCoT\u001b[0m\u001b[32m)\u001b[0m\u001b[32m \u001b[0m\n",
       "\u001b[32mprompting enhances this process by instructing the model to \"think step by step,\" which utilizes additional \u001b[0m\n",
       "\u001b[32mcomputational resources during test time to articulate the model\\'s reasoning and planning. This structured \u001b[0m\n",
       "\u001b[32mdecomposition not only aids in task execution but also provides insight into the model’s thought process.'\u001b[0m\n",
       "\u001b[1m}\u001b[0m\n"
      ]
     },
     "metadata": {},
     "output_type": "display_data"
    },
    {
     "data": {
      "text/html": [
       "<pre style=\"white-space:pre;overflow-x:auto;line-height:normal;font-family:Menlo,'DejaVu Sans Mono',consolas,'Courier New',monospace\">Task decomposition for LLM agents is the process of breaking down complicated tasks into smaller, manageable       \n",
       "subgoals. This approach allows agents to efficiently handle complex tasks by transforming large, challenging       \n",
       "objectives into simpler, more easily addressable steps. The technique of Chain of Thought (CoT) prompting enhances \n",
       "this process by instructing the model to \"think step by step,\" which utilizes additional computational resources   \n",
       "during test time to articulate the model's reasoning and planning. This structured decomposition not only aids in  \n",
       "task execution but also provides insight into the model’s thought process.                                         \n",
       "</pre>\n"
      ],
      "text/plain": [
       "Task decomposition for LLM agents is the process of breaking down complicated tasks into smaller, manageable       \n",
       "subgoals. This approach allows agents to efficiently handle complex tasks by transforming large, challenging       \n",
       "objectives into simpler, more easily addressable steps. The technique of Chain of Thought (CoT) prompting enhances \n",
       "this process by instructing the model to \"think step by step,\" which utilizes additional computational resources   \n",
       "during test time to articulate the model's reasoning and planning. This structured decomposition not only aids in  \n",
       "task execution but also provides insight into the model’s thought process.                                         \n"
      ]
     },
     "metadata": {},
     "output_type": "display_data"
    }
   ],
   "source": [
    "print(query)\n",
    "\n",
    "config = {\n",
    "    \"configurable\": {\n",
    "        \"generated_documents_count\": 5,   \n",
    "    }\n",
    "}\n",
    "response = graph.invoke({\"question\": query}, config=config)\n",
    "\n",
    "display(Pretty(response, max_depth=2))\n",
    "display(Markdown(response[\"answer\"]))"
   ]
  }
 ],
 "metadata": {
  "kernelspec": {
   "display_name": "llm-rag",
   "language": "python",
   "name": "llm-rag"
  },
  "language_info": {
   "codemirror_mode": {
    "name": "ipython",
    "version": 3
   },
   "file_extension": ".py",
   "mimetype": "text/x-python",
   "name": "python",
   "nbconvert_exporter": "python",
   "pygments_lexer": "ipython3",
   "version": "3.11.11"
  }
 },
 "nbformat": 4,
 "nbformat_minor": 5
}
