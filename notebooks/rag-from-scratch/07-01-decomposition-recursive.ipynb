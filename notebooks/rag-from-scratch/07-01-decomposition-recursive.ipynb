{
 "cells": [
  {
   "cell_type": "code",
   "execution_count": 1,
   "id": "9185900c-873b-40c8-a671-bdf5e6c6e445",
   "metadata": {},
   "outputs": [],
   "source": [
    "import os\n",
    "import re\n",
    "\n",
    "from dotenv import find_dotenv, load_dotenv\n",
    "from IPython.display import display\n",
    "from rich import print as rprint\n",
    "from rich.markdown import Markdown\n",
    "from rich.pretty import Pretty\n",
    "from rich.text import Text"
   ]
  },
  {
   "cell_type": "code",
   "execution_count": 2,
   "id": "0309a6a1-b78c-477b-9d29-a7f17b05618a",
   "metadata": {},
   "outputs": [
    {
     "data": {
      "text/plain": [
       "True"
      ]
     },
     "execution_count": 2,
     "metadata": {},
     "output_type": "execute_result"
    }
   ],
   "source": [
    "load_dotenv(find_dotenv('.env'))"
   ]
  },
  {
   "cell_type": "code",
   "execution_count": 3,
   "id": "e2576e0c-f570-4a57-a0f5-df782bf9daa0",
   "metadata": {},
   "outputs": [],
   "source": [
    "os.environ[\"LANGCHAIN_PROJECT\"] = \"RAG From Scratch: Part 7-1 (Query Translation - Decomposition (Recursive))\""
   ]
  },
  {
   "cell_type": "markdown",
   "id": "3063500a-216e-4dbe-9b45-3e6aae8442b1",
   "metadata": {},
   "source": [
    "# Query translation"
   ]
  },
  {
   "cell_type": "markdown",
   "id": "6674c047-61f4-419d-a017-1470e251914f",
   "metadata": {},
   "source": [
    "![](images/query-translation-01.png)"
   ]
  },
  {
   "cell_type": "markdown",
   "id": "2860bf1a-57f6-427b-9977-7604a3685902",
   "metadata": {},
   "source": [
    "![](images/query-translation-02.png)"
   ]
  },
  {
   "cell_type": "markdown",
   "id": "989a6c3d-e97c-496d-b583-88e72baeb4c3",
   "metadata": {},
   "source": [
    "# Part 7-1: Decomposition (Recursive)"
   ]
  },
  {
   "cell_type": "markdown",
   "id": "31247214-b065-4d17-a986-c8240376a110",
   "metadata": {},
   "source": [
    "![](images/07-01-decomposition-recursive.png)"
   ]
  },
  {
   "cell_type": "markdown",
   "id": "800589d2-7c6e-4aac-a83a-f0ec36049cb6",
   "metadata": {},
   "source": [
    "## Configure components"
   ]
  },
  {
   "cell_type": "code",
   "execution_count": 4,
   "id": "f553f7a7-3ff3-4197-80a5-cfdf604a9e1a",
   "metadata": {},
   "outputs": [],
   "source": [
    "from langchain_openai import ChatOpenAI, OpenAIEmbeddings"
   ]
  },
  {
   "cell_type": "code",
   "execution_count": 5,
   "id": "2f86ab48-b98f-4543-a6c6-4c972b84b152",
   "metadata": {},
   "outputs": [
    {
     "data": {
      "text/plain": [
       "AIMessage(content='Hello! How can I assist you today?', additional_kwargs={'refusal': None}, response_metadata={'token_usage': {'completion_tokens': 10, 'prompt_tokens': 8, 'total_tokens': 18, 'completion_tokens_details': {'accepted_prediction_tokens': 0, 'audio_tokens': 0, 'reasoning_tokens': 0, 'rejected_prediction_tokens': 0}, 'prompt_tokens_details': {'audio_tokens': 0, 'cached_tokens': 0}}, 'model_name': 'gpt-4o-mini-2024-07-18', 'system_fingerprint': 'fp_3267753c5d', 'finish_reason': 'stop', 'logprobs': None}, id='run-55a3f578-0e30-41aa-bc53-e209bf82179e-0', usage_metadata={'input_tokens': 8, 'output_tokens': 10, 'total_tokens': 18, 'input_token_details': {'audio': 0, 'cache_read': 0}, 'output_token_details': {'audio': 0, 'reasoning': 0}})"
      ]
     },
     "execution_count": 5,
     "metadata": {},
     "output_type": "execute_result"
    }
   ],
   "source": [
    "llm = ChatOpenAI(\n",
    "    model=\"gpt-4o-mini\",\n",
    "    temperature=1\n",
    ")\n",
    "llm.invoke(\"Hello\")"
   ]
  },
  {
   "cell_type": "code",
   "execution_count": 6,
   "id": "b7dc8587-e9c0-4b5e-944c-72e7d267b4c2",
   "metadata": {},
   "outputs": [
    {
     "data": {
      "text/plain": [
       "1536"
      ]
     },
     "execution_count": 6,
     "metadata": {},
     "output_type": "execute_result"
    }
   ],
   "source": [
    "embeddings = OpenAIEmbeddings(model=\"text-embedding-3-small\")\n",
    "len(embeddings.embed_query(\"Hello\"))"
   ]
  },
  {
   "cell_type": "markdown",
   "id": "a16bc159-dede-4260-b2ff-100990d63dbb",
   "metadata": {},
   "source": [
    "## Load documents"
   ]
  },
  {
   "cell_type": "code",
   "execution_count": 7,
   "id": "bc65ba7f-09c3-4c99-9a49-2a2f6cb7ef3e",
   "metadata": {},
   "outputs": [
    {
     "name": "stderr",
     "output_type": "stream",
     "text": [
      "USER_AGENT environment variable not set, consider setting it to identify your requests.\n"
     ]
    }
   ],
   "source": [
    "import bs4\n",
    "from langchain_community.document_loaders import WebBaseLoader"
   ]
  },
  {
   "cell_type": "code",
   "execution_count": 8,
   "id": "bd74a494-1b65-489c-a370-7e41049b8be5",
   "metadata": {},
   "outputs": [
    {
     "data": {
      "text/plain": [
       "1"
      ]
     },
     "execution_count": 8,
     "metadata": {},
     "output_type": "execute_result"
    }
   ],
   "source": [
    "loader = WebBaseLoader(\n",
    "    web_paths=(\"https://lilianweng.github.io/posts/2023-06-23-agent/\",),\n",
    "    bs_kwargs=dict(\n",
    "        parse_only=bs4.SoupStrainer(\n",
    "            class_=(\"post-content\", \"post-title\", \"post-header\")\n",
    "        )\n",
    "    ),\n",
    ")\n",
    "docs = loader.load()\n",
    "len(docs)"
   ]
  },
  {
   "cell_type": "code",
   "execution_count": 9,
   "id": "b3111212-eab1-4691-ad6f-c7f6ea632155",
   "metadata": {},
   "outputs": [
    {
     "name": "stdout",
     "output_type": "stream",
     "text": [
      "\n",
      "\n",
      "      LLM Powered Autonomous Agents\n",
      "    \n",
      "Date: June 23, 2023  |  Estimated Reading Time: 31 min  |  Author: Lilian Weng\n",
      "\n",
      "\n",
      "Building agents with LLM (large language model) as its core controller is a cool concept. Several proof-of-concepts demos, such as AutoGPT, GPT-Engineer and BabyAGI, serve as inspiring examples. The potentiality of LLM extends beyond generating well-written copies, stories, essays and programs; it can be framed as a powerful general problem solver.\n",
      "Agent System Overview#\n",
      "In a LLM-powered autonomous agent system, LLM functions as the agent’s brain, complemented by several key components:\n",
      "\n",
      "Planning\n",
      "\n",
      "Subgoal and decomposition: The agent breaks down large tasks into smaller, manageable subgoals, enabling efficient handling of complex tasks.\n",
      "Reflection and refinement: The agent can do self-criticism and self-reflection over past actions, learn from mistakes and refine them for future steps, thereby improving the quality of final results.\n",
      "\n",
      "\n",
      "Memory\n",
      "\n",
      "Short-term memory: I \n"
     ]
    }
   ],
   "source": [
    "print(docs[0].page_content[:1000])"
   ]
  },
  {
   "cell_type": "markdown",
   "id": "4b8b9af7-a2f9-45b8-854c-410b8c4e67bc",
   "metadata": {},
   "source": [
    "## Split documents"
   ]
  },
  {
   "cell_type": "code",
   "execution_count": 10,
   "id": "1955089c-5fa3-43a2-a16e-3e0682fae53d",
   "metadata": {},
   "outputs": [],
   "source": [
    "from langchain.text_splitter import RecursiveCharacterTextSplitter"
   ]
  },
  {
   "cell_type": "code",
   "execution_count": 11,
   "id": "7aa35b9e-5bd5-423b-b17d-38bd60aa9060",
   "metadata": {},
   "outputs": [
    {
     "data": {
      "text/plain": [
       "66"
      ]
     },
     "execution_count": 11,
     "metadata": {},
     "output_type": "execute_result"
    }
   ],
   "source": [
    "text_splitter = RecursiveCharacterTextSplitter(chunk_size=1000, chunk_overlap=200)\n",
    "splits = text_splitter.split_documents(docs)\n",
    "len(splits)"
   ]
  },
  {
   "cell_type": "markdown",
   "id": "b49e5f6a-3722-47c4-be2e-69601f16f637",
   "metadata": {},
   "source": [
    "## Store documents"
   ]
  },
  {
   "cell_type": "code",
   "execution_count": 12,
   "id": "1f1600ad-ae95-4e1d-8cee-d7ce8a977d6d",
   "metadata": {},
   "outputs": [],
   "source": [
    "from langchain_core.vectorstores import InMemoryVectorStore"
   ]
  },
  {
   "cell_type": "code",
   "execution_count": 13,
   "id": "f672034b-b010-4b4b-aae9-583a87c45803",
   "metadata": {},
   "outputs": [
    {
     "data": {
      "text/plain": [
       "(66, 66)"
      ]
     },
     "execution_count": 13,
     "metadata": {},
     "output_type": "execute_result"
    }
   ],
   "source": [
    "vectorstore = InMemoryVectorStore(embeddings)\n",
    "doc_ids = vectorstore.add_documents(documents=splits)\n",
    "len(doc_ids), len(vectorstore.store)"
   ]
  },
  {
   "cell_type": "code",
   "execution_count": 14,
   "id": "cf4fa9a1-71a5-42d1-8070-8e2a4953af95",
   "metadata": {},
   "outputs": [],
   "source": [
    "retriever = vectorstore.as_retriever()"
   ]
  },
  {
   "cell_type": "markdown",
   "id": "839bda8b-7070-443c-afbc-1eab80ad5300",
   "metadata": {},
   "source": [
    "## RAG"
   ]
  },
  {
   "cell_type": "code",
   "execution_count": 15,
   "id": "277799eb-70ca-4d70-b93b-ac62ee4c62db",
   "metadata": {},
   "outputs": [],
   "source": [
    "import operator\n",
    "from typing import Annotated, Literal, TypedDict\n",
    "\n",
    "from langchain_core.documents import Document\n",
    "from langchain_core.messages import HumanMessage\n",
    "from langchain_core.runnables import RunnableConfig\n",
    "from langgraph.graph import END, START, StateGraph\n",
    "from pydantic import BaseModel, Field"
   ]
  },
  {
   "cell_type": "code",
   "execution_count": 16,
   "id": "f9a77538-ddbe-4202-8e50-6184996df3b0",
   "metadata": {},
   "outputs": [
    {
     "name": "stdout",
     "output_type": "stream",
     "text": [
      "You are a helpful assistant that generates multiple sub-questions related to an input question.\n",
      "The goal is to break down the input into a set of sub-problems / sub-questions that can be answered sequentially.\n",
      "Generate multiple search queries related to: {question}\n"
     ]
    }
   ],
   "source": [
    "decomposition_prompt_template = \"\"\"You are a helpful assistant that generates multiple sub-questions related to an input question.\n",
    "The goal is to break down the input into a set of sub-problems / sub-questions that can be answered sequentially.\n",
    "Generate multiple search queries related to: {question}\"\"\"\n",
    "print(decomposition_prompt_template)"
   ]
  },
  {
   "cell_type": "code",
   "execution_count": 17,
   "id": "b6e05179-def7-4723-9215-ba6ef4dd65a9",
   "metadata": {},
   "outputs": [
    {
     "name": "stdout",
     "output_type": "stream",
     "text": [
      "Here is the question you need to answer:\n",
      "<question>\n",
      "{question}\n",
      "</question>\n",
      "\n",
      "Here are any available background question + answer pairs:\n",
      "<question_answer_pairs>\n",
      "{qa_pairs}\n",
      "</question_answer_pairs>\n",
      "\n",
      "Here is additional context relevant to the question: \n",
      "<context>\n",
      "{context}\n",
      "</context>\n",
      "\n",
      "Use the above context and any background question + answer pairs to answer the question:\n",
      "<question>\n",
      "{question}\n",
      "</question>\n",
      "\n"
     ]
    }
   ],
   "source": [
    "recursive_prompt_template = \"\"\"Here is the question you need to answer:\n",
    "<question>\n",
    "{question}\n",
    "</question>\n",
    "\n",
    "Here are any available background question + answer pairs:\n",
    "<question_answer_pairs>\n",
    "{qa_pairs}\n",
    "</question_answer_pairs>\n",
    "\n",
    "Here is additional context relevant to the question: \n",
    "<context>\n",
    "{context}\n",
    "</context>\n",
    "\n",
    "Use the above context and any background question + answer pairs to answer the question:\n",
    "<question>\n",
    "{question}\n",
    "</question>\n",
    "\"\"\"\n",
    "print(recursive_prompt_template)"
   ]
  },
  {
   "cell_type": "code",
   "execution_count": 18,
   "id": "2ef22081-7982-419b-80ed-16c3ca2b3df1",
   "metadata": {},
   "outputs": [],
   "source": [
    "def format_qa_pair(question, answer):\n",
    "    return f\"Question: {question}  \\nAnswer:\\n{answer}\\n\\n\""
   ]
  },
  {
   "cell_type": "code",
   "execution_count": 19,
   "id": "bf754a56-99a7-4d87-bf7b-99f425305284",
   "metadata": {},
   "outputs": [],
   "source": [
    "query = \"What are the main components of an LLM-powered autonomous agent system?\""
   ]
  },
  {
   "cell_type": "code",
   "execution_count": 20,
   "id": "78609718-3a1a-4f11-b063-52ed7f695a8b",
   "metadata": {},
   "outputs": [],
   "source": [
    "class State(TypedDict):\n",
    "    question: str\n",
    "    all_questions: list[str]\n",
    "    current_question_idx: int\n",
    "    qa_pairs: list[str]\n",
    "    context: list[Document]\n",
    "    answer: str"
   ]
  },
  {
   "cell_type": "code",
   "execution_count": 21,
   "id": "f8545d97-c61b-48bd-9659-09870773bda1",
   "metadata": {},
   "outputs": [],
   "source": [
    "def generate_sub_questions(state: State, config: RunnableConfig) -> list[str]:\n",
    "    max_generated_sub_questions_count = config['configurable'].get(\"max_generated_sub_questions_count\", 3)\n",
    "    query = state['question']\n",
    "    \n",
    "    class SubQuestionsGenerator(BaseModel):\n",
    "        sub_questions: list[str] = Field(\n",
    "            ..., \n",
    "            description=\"List of generated sub-problems / sub-questions\",\n",
    "            max_items=max_generated_sub_questions_count\n",
    "        )\n",
    "    \n",
    "    structured_llm = llm.with_structured_output(SubQuestionsGenerator, method=\"function_calling\")\n",
    "    decomposition_prompt = decomposition_prompt_template.format(\n",
    "        question=query\n",
    "    )\n",
    "    response = structured_llm.invoke([\n",
    "        HumanMessage(content=decomposition_prompt)\n",
    "    ])\n",
    "    questions = response.sub_questions + [query]\n",
    "    \n",
    "    return {\"all_questions\": questions, \"current_question_idx\": 0}\n",
    "\n",
    "\n",
    "def retrieve_docs(state: State):\n",
    "    question = state[\"all_questions\"][state[\"current_question_idx\"]]\n",
    "    retrieved_docs = vectorstore.similarity_search(question)\n",
    "    return {\"context\": retrieved_docs}\n",
    "\n",
    "\n",
    "def generate_answer(state: State):\n",
    "    question = state[\"all_questions\"][state[\"current_question_idx\"]]\n",
    "    recursive_prompt = recursive_prompt_template.format(\n",
    "        question=question,\n",
    "        qa_pairs=state.get(\"qa_pairs\", \"\"),\n",
    "        context=state[\"context\"]\n",
    "    )\n",
    "    answer = llm.invoke([\n",
    "        HumanMessage(content=recursive_prompt)\n",
    "    ])\n",
    "    qa_pair = format_qa_pair(question, answer.content)\n",
    "    qa_pairs = state.get(\"qa_pairs\", \"\") + qa_pair\n",
    "\n",
    "    if state[\"current_question_idx\"] == len(state['all_questions']) - 1:\n",
    "        return {\"answer\": answer.content}\n",
    "    else:\n",
    "        return {\"qa_pairs\": qa_pairs, \"current_question_idx\": state[\"current_question_idx\"] + 1}\n",
    "\n",
    "\n",
    "def check_answer_status(state: State) -> Literal[\"Next sub-question\", \"Final answer\"]:\n",
    "    if state.get(\"answer\"):\n",
    "        return \"Final answer\"\n",
    "    else:\n",
    "        return \"Next sub-question\""
   ]
  },
  {
   "cell_type": "code",
   "execution_count": 22,
   "id": "f60d3431-881f-4c8e-b1e5-f1dbc827ff78",
   "metadata": {},
   "outputs": [
    {
     "data": {
      "image/png": "[encoded data removed]",
      "text/plain": [
       "<langgraph.graph.state.CompiledStateGraph object at 0x7f8106b54990>"
      ]
     },
     "execution_count": 22,
     "metadata": {},
     "output_type": "execute_result"
    }
   ],
   "source": [
    "graph_builder = StateGraph(State)\n",
    "\n",
    "graph_builder.add_node(\"generate_sub_questions\", generate_sub_questions)\n",
    "graph_builder.add_node(\"retrieve_docs\", retrieve_docs)\n",
    "graph_builder.add_node(\"generate_answer\", generate_answer)\n",
    "\n",
    "graph_builder.add_edge(START, \"generate_sub_questions\")\n",
    "graph_builder.add_edge(\"generate_sub_questions\", \"retrieve_docs\")\n",
    "graph_builder.add_edge(\"retrieve_docs\", \"generate_answer\")\n",
    "graph_builder.add_conditional_edges(\n",
    "    \"generate_answer\", \n",
    "    check_answer_status, \n",
    "    {\n",
    "        \"Next sub-question\": \"retrieve_docs\",\n",
    "        \"Final answer\": END\n",
    "    }\n",
    ")\n",
    "\n",
    "graph = graph_builder.compile()\n",
    "graph"
   ]
  },
  {
   "cell_type": "code",
   "execution_count": 23,
   "id": "822a2d07-f777-45f6-ab99-15ea783f9319",
   "metadata": {},
   "outputs": [
    {
     "data": {
      "text/html": [
       "<pre style=\"white-space:pre;overflow-x:auto;line-height:normal;font-family:Menlo,'DejaVu Sans Mono',consolas,'Courier New',monospace\"><span style=\"font-weight: bold\">{</span>\n",
       "    <span style=\"color: #008000; text-decoration-color: #008000\">'generate_sub_questions'</span>: <span style=\"font-weight: bold\">{</span>\n",
       "        <span style=\"color: #008000; text-decoration-color: #008000\">'all_questions'</span>: <span style=\"font-weight: bold\">[</span>\n",
       "            <span style=\"color: #008000; text-decoration-color: #008000\">'What is a large language model (LLM) and how does it function?'</span>,\n",
       "            <span style=\"color: #008000; text-decoration-color: #008000\">'What are the essential components required for building an autonomous agent system?'</span>,\n",
       "            <span style=\"color: #008000; text-decoration-color: #008000\">'How do LLMs integrate with other technologies in an autonomous system?'</span>,\n",
       "            <span style=\"color: #008000; text-decoration-color: #008000\">'What are the main components of an LLM-powered autonomous agent system?'</span>\n",
       "        <span style=\"font-weight: bold\">]</span>,\n",
       "        <span style=\"color: #008000; text-decoration-color: #008000\">'current_question_idx'</span>: <span style=\"color: #008080; text-decoration-color: #008080; font-weight: bold\">0</span>\n",
       "    <span style=\"font-weight: bold\">}</span>\n",
       "<span style=\"font-weight: bold\">}</span>\n",
       "</pre>\n"
      ],
      "text/plain": [
       "\u001b[1m{\u001b[0m\n",
       "    \u001b[32m'generate_sub_questions'\u001b[0m: \u001b[1m{\u001b[0m\n",
       "        \u001b[32m'all_questions'\u001b[0m: \u001b[1m[\u001b[0m\n",
       "            \u001b[32m'What is a large language model \u001b[0m\u001b[32m(\u001b[0m\u001b[32mLLM\u001b[0m\u001b[32m)\u001b[0m\u001b[32m and how does it function?'\u001b[0m,\n",
       "            \u001b[32m'What are the essential components required for building an autonomous agent system?'\u001b[0m,\n",
       "            \u001b[32m'How do LLMs integrate with other technologies in an autonomous system?'\u001b[0m,\n",
       "            \u001b[32m'What are the main components of an LLM-powered autonomous agent system?'\u001b[0m\n",
       "        \u001b[1m]\u001b[0m,\n",
       "        \u001b[32m'current_question_idx'\u001b[0m: \u001b[1;36m0\u001b[0m\n",
       "    \u001b[1m}\u001b[0m\n",
       "\u001b[1m}\u001b[0m\n"
      ]
     },
     "metadata": {},
     "output_type": "display_data"
    },
    {
     "data": {
      "text/html": [
       "<pre style=\"white-space:pre;overflow-x:auto;line-height:normal;font-family:Menlo,'DejaVu Sans Mono',consolas,'Courier New',monospace\"><span style=\"font-weight: bold\">{</span>\n",
       "    <span style=\"color: #008000; text-decoration-color: #008000\">'retrieve_docs'</span>: <span style=\"font-weight: bold\">{</span>\n",
       "        <span style=\"color: #008000; text-decoration-color: #008000\">'context'</span>: <span style=\"font-weight: bold\">[</span>\n",
       "            <span style=\"color: #800080; text-decoration-color: #800080; font-weight: bold\">Document</span><span style=\"font-weight: bold\">(</span>\n",
       "                <span style=\"color: #808000; text-decoration-color: #808000\">id</span>=<span style=\"color: #008000; text-decoration-color: #008000\">'722e6b6b-580c-4ac0-9e9c-9377b0d6914f'</span>,\n",
       "                <span style=\"color: #808000; text-decoration-color: #808000\">metadata</span>=<span style=\"font-weight: bold\">{</span><span style=\"color: #008000; text-decoration-color: #008000\">'source'</span>: <span style=\"color: #008000; text-decoration-color: #008000\">'https://lilianweng.github.io/posts/2023-06-23-agent/'</span><span style=\"font-weight: bold\">}</span>,\n",
       "                <span style=\"color: #808000; text-decoration-color: #808000\">page_content</span>=<span style=\"color: #008000; text-decoration-color: #008000\">'LLM Powered Autonomous Agents\\n    \\nDate: June 23, 2023  |  Estimated Reading Time: </span>\n",
       "<span style=\"color: #008000; text-decoration-color: #008000\">31 min  |  Author: Lilian Weng\\n\\n\\nBuilding agents with LLM (large language model) as its core controller is a </span>\n",
       "<span style=\"color: #008000; text-decoration-color: #008000\">cool concept. Several proof-of-concepts demos, such as AutoGPT, GPT-Engineer and BabyAGI, serve as inspiring </span>\n",
       "<span style=\"color: #008000; text-decoration-color: #008000\">examples. The potentiality of LLM extends beyond generating well-written copies, stories, essays and programs; it </span>\n",
       "<span style=\"color: #008000; text-decoration-color: #008000\">can be framed as a powerful general problem solver.\\nAgent System Overview#\\nIn a LLM-powered autonomous agent </span>\n",
       "<span style=\"color: #008000; text-decoration-color: #008000\">system, LLM functions as the agent’s brain, complemented by several key components:\\n\\nPlanning\\n\\nSubgoal and </span>\n",
       "<span style=\"color: #008000; text-decoration-color: #008000\">decomposition: The agent breaks down large tasks into smaller, manageable subgoals, enabling efficient handling of </span>\n",
       "<span style=\"color: #008000; text-decoration-color: #008000\">complex tasks.\\nReflection and refinement: The agent can do self-criticism and self-reflection over past actions, </span>\n",
       "<span style=\"color: #008000; text-decoration-color: #008000\">learn from mistakes and refine them for future steps, thereby improving the quality of final results.\\n\\n\\nMemory'</span>\n",
       "            <span style=\"font-weight: bold\">)</span>,\n",
       "            <span style=\"color: #800080; text-decoration-color: #800080; font-weight: bold\">Document</span><span style=\"font-weight: bold\">(</span>\n",
       "                <span style=\"color: #808000; text-decoration-color: #808000\">id</span>=<span style=\"color: #008000; text-decoration-color: #008000\">'1b77dabd-3592-4f6d-b49d-f8f5e3dc85bf'</span>,\n",
       "                <span style=\"color: #808000; text-decoration-color: #808000\">metadata</span>=<span style=\"font-weight: bold\">{</span><span style=\"color: #008000; text-decoration-color: #008000\">'source'</span>: <span style=\"color: #008000; text-decoration-color: #008000\">'https://lilianweng.github.io/posts/2023-06-23-agent/'</span><span style=\"font-weight: bold\">}</span>,\n",
       "                <span style=\"color: #808000; text-decoration-color: #808000\">page_content</span>=<span style=\"color: #008000; text-decoration-color: #008000\">'(4) Response generation: LLM receives the execution results and provides summarized </span>\n",
       "<span style=\"color: #008000; text-decoration-color: #008000\">results to users.\\nTo put HuggingGPT into real world usage, a couple challenges need to solve: (1) Efficiency </span>\n",
       "<span style=\"color: #008000; text-decoration-color: #008000\">improvement is needed as both LLM inference rounds and interactions with other models slow down the process; (2) It</span>\n",
       "<span style=\"color: #008000; text-decoration-color: #008000\">relies on a long context window to communicate over complicated task content; (3) Stability improvement of LLM </span>\n",
       "<span style=\"color: #008000; text-decoration-color: #008000\">outputs and external model services.'</span>\n",
       "            <span style=\"font-weight: bold\">)</span>,\n",
       "            <span style=\"color: #800080; text-decoration-color: #800080; font-weight: bold\">Document</span><span style=\"font-weight: bold\">(</span>\n",
       "                <span style=\"color: #808000; text-decoration-color: #808000\">id</span>=<span style=\"color: #008000; text-decoration-color: #008000\">'3b61645a-2b61-420b-bd43-6aeac6004146'</span>,\n",
       "                <span style=\"color: #808000; text-decoration-color: #808000\">metadata</span>=<span style=\"font-weight: bold\">{</span><span style=\"color: #008000; text-decoration-color: #008000\">'source'</span>: <span style=\"color: #008000; text-decoration-color: #008000\">'https://lilianweng.github.io/posts/2023-06-23-agent/'</span><span style=\"font-weight: bold\">}</span>,\n",
       "                <span style=\"color: #808000; text-decoration-color: #808000\">page_content</span>=<span style=\"color: #008000; text-decoration-color: #008000\">'They did an experiment on fine-tuning LLM to call a calculator, using arithmetic as a</span>\n",
       "<span style=\"color: #008000; text-decoration-color: #008000\">test case. Their experiments showed that it was harder to solve verbal math problems than explicitly stated math </span>\n",
       "<span style=\"color: #008000; text-decoration-color: #008000\">problems because LLMs (7B Jurassic1-large model) failed to extract the right arguments for the basic arithmetic </span>\n",
       "<span style=\"color: #008000; text-decoration-color: #008000\">reliably. The results highlight when the external symbolic tools can work reliably, knowing when to and how to use </span>\n",
       "<span style=\"color: #008000; text-decoration-color: #008000\">the tools are crucial, determined by the LLM capability.\\nBoth TALM (Tool Augmented Language Models; Parisi et al. </span>\n",
       "<span style=\"color: #008000; text-decoration-color: #008000\">2022) and Toolformer (Schick et al. 2023) fine-tune a LM to learn to use external tool APIs. The dataset is </span>\n",
       "<span style=\"color: #008000; text-decoration-color: #008000\">expanded based on whether a newly added API call annotation can improve the quality of model outputs. See more </span>\n",
       "<span style=\"color: #008000; text-decoration-color: #008000\">details in the “External APIs” section of Prompt Engineering.'</span>\n",
       "            <span style=\"font-weight: bold\">)</span>,\n",
       "            <span style=\"color: #800080; text-decoration-color: #800080; font-weight: bold\">Document</span><span style=\"font-weight: bold\">(</span>\n",
       "                <span style=\"color: #808000; text-decoration-color: #808000\">id</span>=<span style=\"color: #008000; text-decoration-color: #008000\">'8c6aba8b-17dc-44df-b269-f2de039f9e2b'</span>,\n",
       "                <span style=\"color: #808000; text-decoration-color: #808000\">metadata</span>=<span style=\"font-weight: bold\">{</span><span style=\"color: #008000; text-decoration-color: #008000\">'source'</span>: <span style=\"color: #008000; text-decoration-color: #008000\">'https://lilianweng.github.io/posts/2023-06-23-agent/'</span><span style=\"font-weight: bold\">}</span>,\n",
       "                <span style=\"color: #808000; text-decoration-color: #808000\">page_content</span>=<span style=\"color: #008000; text-decoration-color: #008000\">'Reliability of natural language interface: Current agent system relies on natural </span>\n",
       "<span style=\"color: #008000; text-decoration-color: #008000\">language as an interface between LLMs and external components such as memory and tools. However, the reliability of</span>\n",
       "<span style=\"color: #008000; text-decoration-color: #008000\">model outputs is questionable, as LLMs may make formatting errors and occasionally exhibit rebellious behavior </span>\n",
       "<span style=\"color: #008000; text-decoration-color: #008000\">(e.g. refuse to follow an instruction). Consequently, much of the agent demo code focuses on parsing model </span>\n",
       "<span style=\"color: #008000; text-decoration-color: #008000\">output.\\n\\n\\nCitation#\\nCited as:\\n\\nWeng, Lilian. (Jun 2023). “LLM-powered Autonomous Agents”. Lil’Log. </span>\n",
       "<span style=\"color: #008000; text-decoration-color: #008000\">https://lilianweng.github.io/posts/2023-06-23-agent/.'</span>\n",
       "            <span style=\"font-weight: bold\">)</span>\n",
       "        <span style=\"font-weight: bold\">]</span>\n",
       "    <span style=\"font-weight: bold\">}</span>\n",
       "<span style=\"font-weight: bold\">}</span>\n",
       "</pre>\n"
      ],
      "text/plain": [
       "\u001b[1m{\u001b[0m\n",
       "    \u001b[32m'retrieve_docs'\u001b[0m: \u001b[1m{\u001b[0m\n",
       "        \u001b[32m'context'\u001b[0m: \u001b[1m[\u001b[0m\n",
       "            \u001b[1;35mDocument\u001b[0m\u001b[1m(\u001b[0m\n",
       "                \u001b[33mid\u001b[0m=\u001b[32m'722e6b6b-580c-4ac0-9e9c-9377b0d6914f'\u001b[0m,\n",
       "                \u001b[33mmetadata\u001b[0m=\u001b[1m{\u001b[0m\u001b[32m'source'\u001b[0m: \u001b[32m'https://lilianweng.github.io/posts/2023-06-23-agent/'\u001b[0m\u001b[1m}\u001b[0m,\n",
       "                \u001b[33mpage_content\u001b[0m=\u001b[32m'LLM Powered Autonomous Agents\\n    \\nDate: June 23, 2023  |  Estimated Reading Time: \u001b[0m\n",
       "\u001b[32m31 min  |  Author: Lilian Weng\\n\\n\\nBuilding agents with LLM \u001b[0m\u001b[32m(\u001b[0m\u001b[32mlarge language model\u001b[0m\u001b[32m)\u001b[0m\u001b[32m as its core controller is a \u001b[0m\n",
       "\u001b[32mcool concept. Several proof-of-concepts demos, such as AutoGPT, GPT-Engineer and BabyAGI, serve as inspiring \u001b[0m\n",
       "\u001b[32mexamples. The potentiality of LLM extends beyond generating well-written copies, stories, essays and programs; it \u001b[0m\n",
       "\u001b[32mcan be framed as a powerful general problem solver.\\nAgent System Overview#\\nIn a LLM-powered autonomous agent \u001b[0m\n",
       "\u001b[32msystem, LLM functions as the agent’s brain, complemented by several key components:\\n\\nPlanning\\n\\nSubgoal and \u001b[0m\n",
       "\u001b[32mdecomposition: The agent breaks down large tasks into smaller, manageable subgoals, enabling efficient handling of \u001b[0m\n",
       "\u001b[32mcomplex tasks.\\nReflection and refinement: The agent can do self-criticism and self-reflection over past actions, \u001b[0m\n",
       "\u001b[32mlearn from mistakes and refine them for future steps, thereby improving the quality of final results.\\n\\n\\nMemory'\u001b[0m\n",
       "            \u001b[1m)\u001b[0m,\n",
       "            \u001b[1;35mDocument\u001b[0m\u001b[1m(\u001b[0m\n",
       "                \u001b[33mid\u001b[0m=\u001b[32m'1b77dabd-3592-4f6d-b49d-f8f5e3dc85bf'\u001b[0m,\n",
       "                \u001b[33mmetadata\u001b[0m=\u001b[1m{\u001b[0m\u001b[32m'source'\u001b[0m: \u001b[32m'https://lilianweng.github.io/posts/2023-06-23-agent/'\u001b[0m\u001b[1m}\u001b[0m,\n",
       "                \u001b[33mpage_content\u001b[0m=\u001b[32m'\u001b[0m\u001b[32m(\u001b[0m\u001b[32m4\u001b[0m\u001b[32m)\u001b[0m\u001b[32m Response generation: LLM receives the execution results and provides summarized \u001b[0m\n",
       "\u001b[32mresults to users.\\nTo put HuggingGPT into real world usage, a couple challenges need to solve: \u001b[0m\u001b[32m(\u001b[0m\u001b[32m1\u001b[0m\u001b[32m)\u001b[0m\u001b[32m Efficiency \u001b[0m\n",
       "\u001b[32mimprovement is needed as both LLM inference rounds and interactions with other models slow down the process; \u001b[0m\u001b[32m(\u001b[0m\u001b[32m2\u001b[0m\u001b[32m)\u001b[0m\u001b[32m It\u001b[0m\n",
       "\u001b[32mrelies on a long context window to communicate over complicated task content; \u001b[0m\u001b[32m(\u001b[0m\u001b[32m3\u001b[0m\u001b[32m)\u001b[0m\u001b[32m Stability improvement of LLM \u001b[0m\n",
       "\u001b[32moutputs and external model services.'\u001b[0m\n",
       "            \u001b[1m)\u001b[0m,\n",
       "            \u001b[1;35mDocument\u001b[0m\u001b[1m(\u001b[0m\n",
       "                \u001b[33mid\u001b[0m=\u001b[32m'3b61645a-2b61-420b-bd43-6aeac6004146'\u001b[0m,\n",
       "                \u001b[33mmetadata\u001b[0m=\u001b[1m{\u001b[0m\u001b[32m'source'\u001b[0m: \u001b[32m'https://lilianweng.github.io/posts/2023-06-23-agent/'\u001b[0m\u001b[1m}\u001b[0m,\n",
       "                \u001b[33mpage_content\u001b[0m=\u001b[32m'They did an experiment on fine-tuning LLM to call a calculator, using arithmetic as a\u001b[0m\n",
       "\u001b[32mtest case. Their experiments showed that it was harder to solve verbal math problems than explicitly stated math \u001b[0m\n",
       "\u001b[32mproblems because LLMs \u001b[0m\u001b[32m(\u001b[0m\u001b[32m7B Jurassic1-large model\u001b[0m\u001b[32m)\u001b[0m\u001b[32m failed to extract the right arguments for the basic arithmetic \u001b[0m\n",
       "\u001b[32mreliably. The results highlight when the external symbolic tools can work reliably, knowing when to and how to use \u001b[0m\n",
       "\u001b[32mthe tools are crucial, determined by the LLM capability.\\nBoth TALM \u001b[0m\u001b[32m(\u001b[0m\u001b[32mTool Augmented Language Models; Parisi et al. \u001b[0m\n",
       "\u001b[32m2022\u001b[0m\u001b[32m)\u001b[0m\u001b[32m and Toolformer \u001b[0m\u001b[32m(\u001b[0m\u001b[32mSchick et al. 2023\u001b[0m\u001b[32m)\u001b[0m\u001b[32m fine-tune a LM to learn to use external tool APIs. The dataset is \u001b[0m\n",
       "\u001b[32mexpanded based on whether a newly added API call annotation can improve the quality of model outputs. See more \u001b[0m\n",
       "\u001b[32mdetails in the “External APIs” section of Prompt Engineering.'\u001b[0m\n",
       "            \u001b[1m)\u001b[0m,\n",
       "            \u001b[1;35mDocument\u001b[0m\u001b[1m(\u001b[0m\n",
       "                \u001b[33mid\u001b[0m=\u001b[32m'8c6aba8b-17dc-44df-b269-f2de039f9e2b'\u001b[0m,\n",
       "                \u001b[33mmetadata\u001b[0m=\u001b[1m{\u001b[0m\u001b[32m'source'\u001b[0m: \u001b[32m'https://lilianweng.github.io/posts/2023-06-23-agent/'\u001b[0m\u001b[1m}\u001b[0m,\n",
       "                \u001b[33mpage_content\u001b[0m=\u001b[32m'Reliability of natural language interface: Current agent system relies on natural \u001b[0m\n",
       "\u001b[32mlanguage as an interface between LLMs and external components such as memory and tools. However, the reliability of\u001b[0m\n",
       "\u001b[32mmodel outputs is questionable, as LLMs may make formatting errors and occasionally exhibit rebellious behavior \u001b[0m\n",
       "\u001b[32m(\u001b[0m\u001b[32me.g. refuse to follow an instruction\u001b[0m\u001b[32m)\u001b[0m\u001b[32m. Consequently, much of the agent demo code focuses on parsing model \u001b[0m\n",
       "\u001b[32moutput.\\n\\n\\nCitation#\\nCited as:\\n\\nWeng, Lilian. \u001b[0m\u001b[32m(\u001b[0m\u001b[32mJun 2023\u001b[0m\u001b[32m)\u001b[0m\u001b[32m. “LLM-powered Autonomous Agents”. Lil’Log. \u001b[0m\n",
       "\u001b[32mhttps://lilianweng.github.io/posts/2023-06-23-agent/.'\u001b[0m\n",
       "            \u001b[1m)\u001b[0m\n",
       "        \u001b[1m]\u001b[0m\n",
       "    \u001b[1m}\u001b[0m\n",
       "\u001b[1m}\u001b[0m\n"
      ]
     },
     "metadata": {},
     "output_type": "display_data"
    },
    {
     "name": "stdout",
     "output_type": "stream",
     "text": [
      "A large language model (LLM) is an advanced artificial intelligence system designed to understand and generate human-like text based on the input it receives. It functions by utilizing deep learning techniques, particularly neural networks, to analyze vast amounts of text data, which allows it to learn language patterns, grammar, facts, and various forms of knowledge. \n",
      "\n",
      "LLMs operate on the principles of probabilistic modeling, where they calculate the probability of a word or phrase occurring in a given context and generate responses accordingly. They are often used in various applications such as text generation, translation, summarization, and even problem-solving tasks.\n",
      "\n",
      "In an LLM-powered autonomous agent system, the LLM acts as the core controller or \"brain\" of the agent. It is complemented by several key components, including:\n",
      "\n",
      "1. **Planning**: The LLM can break down large tasks into smaller, manageable subgoals, allowing it to tackle complex tasks more efficiently.\n",
      "   \n",
      "2. **Reflection and Refinement**: The model has the capability for self-criticism and reflection, enabling it to learn from past actions and improve future outputs.\n",
      "\n",
      "3. **Response Generation**: After performing tasks, the LLM summarizes the execution results for the user, facilitating clear communication of outcomes.\n",
      "\n",
      "Despite their capabilities, LLMs face challenges, such as ensuring reliability in their outputs and effectively managing interactions with external tools and APIs. Issues like formatting errors and inconsistent behavior can arise, necessitating careful design of the systems that incorporate these models. Overall, LLMs represent a powerful computational tool for various natural language processing tasks and beyond."
     ]
    },
    {
     "data": {
      "text/html": [
       "<pre style=\"white-space:pre;overflow-x:auto;line-height:normal;font-family:Menlo,'DejaVu Sans Mono',consolas,'Courier New',monospace\"><span style=\"font-weight: bold\">{</span>\n",
       "    <span style=\"color: #008000; text-decoration-color: #008000\">'generate_answer'</span>: <span style=\"font-weight: bold\">{</span>\n",
       "        <span style=\"color: #008000; text-decoration-color: #008000\">'qa_pairs'</span>: <span style=\"color: #008000; text-decoration-color: #008000\">'Question: What is a large language model (LLM) and how does it function?  \\nAnswer:\\nA large </span>\n",
       "<span style=\"color: #008000; text-decoration-color: #008000\">language model (LLM) is an advanced artificial intelligence system designed to understand and generate human-like </span>\n",
       "<span style=\"color: #008000; text-decoration-color: #008000\">text based on the input it receives. It functions by utilizing deep learning techniques, particularly neural </span>\n",
       "<span style=\"color: #008000; text-decoration-color: #008000\">networks, to analyze vast amounts of text data, which allows it to learn language patterns, grammar, facts, and </span>\n",
       "<span style=\"color: #008000; text-decoration-color: #008000\">various forms of knowledge. \\n\\nLLMs operate on the principles of probabilistic modeling, where they calculate the </span>\n",
       "<span style=\"color: #008000; text-decoration-color: #008000\">probability of a word or phrase occurring in a given context and generate responses accordingly. They are often </span>\n",
       "<span style=\"color: #008000; text-decoration-color: #008000\">used in various applications such as text generation, translation, summarization, and even problem-solving </span>\n",
       "<span style=\"color: #008000; text-decoration-color: #008000\">tasks.\\n\\nIn an LLM-powered autonomous agent system, the LLM acts as the core controller or \"brain\" of the agent. </span>\n",
       "<span style=\"color: #008000; text-decoration-color: #008000\">It is complemented by several key components, including:\\n\\n1. **Planning**: The LLM can break down large tasks </span>\n",
       "<span style=\"color: #008000; text-decoration-color: #008000\">into smaller, manageable subgoals, allowing it to tackle complex tasks more efficiently.\\n   \\n2. **Reflection and </span>\n",
       "<span style=\"color: #008000; text-decoration-color: #008000\">Refinement**: The model has the capability for self-criticism and reflection, enabling it to learn from past </span>\n",
       "<span style=\"color: #008000; text-decoration-color: #008000\">actions and improve future outputs.\\n\\n3. **Response Generation**: After performing tasks, the LLM summarizes the </span>\n",
       "<span style=\"color: #008000; text-decoration-color: #008000\">execution results for the user, facilitating clear communication of outcomes.\\n\\nDespite their capabilities, LLMs </span>\n",
       "<span style=\"color: #008000; text-decoration-color: #008000\">face challenges, such as ensuring reliability in their outputs and effectively managing interactions with external </span>\n",
       "<span style=\"color: #008000; text-decoration-color: #008000\">tools and APIs. Issues like formatting errors and inconsistent behavior can arise, necessitating careful design of </span>\n",
       "<span style=\"color: #008000; text-decoration-color: #008000\">the systems that incorporate these models. Overall, LLMs represent a powerful computational tool for various </span>\n",
       "<span style=\"color: #008000; text-decoration-color: #008000\">natural language processing tasks and beyond.\\n\\n'</span>,\n",
       "        <span style=\"color: #008000; text-decoration-color: #008000\">'current_question_idx'</span>: <span style=\"color: #008080; text-decoration-color: #008080; font-weight: bold\">1</span>\n",
       "    <span style=\"font-weight: bold\">}</span>\n",
       "<span style=\"font-weight: bold\">}</span>\n",
       "</pre>\n"
      ],
      "text/plain": [
       "\u001b[1m{\u001b[0m\n",
       "    \u001b[32m'generate_answer'\u001b[0m: \u001b[1m{\u001b[0m\n",
       "        \u001b[32m'qa_pairs'\u001b[0m: \u001b[32m'Question: What is a large language model \u001b[0m\u001b[32m(\u001b[0m\u001b[32mLLM\u001b[0m\u001b[32m)\u001b[0m\u001b[32m and how does it function?  \\nAnswer:\\nA large \u001b[0m\n",
       "\u001b[32mlanguage model \u001b[0m\u001b[32m(\u001b[0m\u001b[32mLLM\u001b[0m\u001b[32m)\u001b[0m\u001b[32m is an advanced artificial intelligence system designed to understand and generate human-like \u001b[0m\n",
       "\u001b[32mtext based on the input it receives. It functions by utilizing deep learning techniques, particularly neural \u001b[0m\n",
       "\u001b[32mnetworks, to analyze vast amounts of text data, which allows it to learn language patterns, grammar, facts, and \u001b[0m\n",
       "\u001b[32mvarious forms of knowledge. \\n\\nLLMs operate on the principles of probabilistic modeling, where they calculate the \u001b[0m\n",
       "\u001b[32mprobability of a word or phrase occurring in a given context and generate responses accordingly. They are often \u001b[0m\n",
       "\u001b[32mused in various applications such as text generation, translation, summarization, and even problem-solving \u001b[0m\n",
       "\u001b[32mtasks.\\n\\nIn an LLM-powered autonomous agent system, the LLM acts as the core controller or \"brain\" of the agent. \u001b[0m\n",
       "\u001b[32mIt is complemented by several key components, including:\\n\\n1. **Planning**: The LLM can break down large tasks \u001b[0m\n",
       "\u001b[32minto smaller, manageable subgoals, allowing it to tackle complex tasks more efficiently.\\n   \\n2. **Reflection and \u001b[0m\n",
       "\u001b[32mRefinement**: The model has the capability for self-criticism and reflection, enabling it to learn from past \u001b[0m\n",
       "\u001b[32mactions and improve future outputs.\\n\\n3. **Response Generation**: After performing tasks, the LLM summarizes the \u001b[0m\n",
       "\u001b[32mexecution results for the user, facilitating clear communication of outcomes.\\n\\nDespite their capabilities, LLMs \u001b[0m\n",
       "\u001b[32mface challenges, such as ensuring reliability in their outputs and effectively managing interactions with external \u001b[0m\n",
       "\u001b[32mtools and APIs. Issues like formatting errors and inconsistent behavior can arise, necessitating careful design of \u001b[0m\n",
       "\u001b[32mthe systems that incorporate these models. Overall, LLMs represent a powerful computational tool for various \u001b[0m\n",
       "\u001b[32mnatural language processing tasks and beyond.\\n\\n'\u001b[0m,\n",
       "        \u001b[32m'current_question_idx'\u001b[0m: \u001b[1;36m1\u001b[0m\n",
       "    \u001b[1m}\u001b[0m\n",
       "\u001b[1m}\u001b[0m\n"
      ]
     },
     "metadata": {},
     "output_type": "display_data"
    },
    {
     "data": {
      "text/html": [
       "<pre style=\"white-space:pre;overflow-x:auto;line-height:normal;font-family:Menlo,'DejaVu Sans Mono',consolas,'Courier New',monospace\"><span style=\"font-weight: bold\">{</span>\n",
       "    <span style=\"color: #008000; text-decoration-color: #008000\">'retrieve_docs'</span>: <span style=\"font-weight: bold\">{</span>\n",
       "        <span style=\"color: #008000; text-decoration-color: #008000\">'context'</span>: <span style=\"font-weight: bold\">[</span>\n",
       "            <span style=\"color: #800080; text-decoration-color: #800080; font-weight: bold\">Document</span><span style=\"font-weight: bold\">(</span>\n",
       "                <span style=\"color: #808000; text-decoration-color: #808000\">id</span>=<span style=\"color: #008000; text-decoration-color: #008000\">'c8dba136-1894-422b-990e-9e2ffd92fb9c'</span>,\n",
       "                <span style=\"color: #808000; text-decoration-color: #808000\">metadata</span>=<span style=\"font-weight: bold\">{</span><span style=\"color: #008000; text-decoration-color: #008000\">'source'</span>: <span style=\"color: #008000; text-decoration-color: #008000\">'https://lilianweng.github.io/posts/2023-06-23-agent/'</span><span style=\"font-weight: bold\">}</span>,\n",
       "                <span style=\"color: #808000; text-decoration-color: #808000\">page_content</span>=<span style=\"color: #008000; text-decoration-color: #008000\">'Fig. 1. Overview of a LLM-powered autonomous agent system.\\nComponent One: </span>\n",
       "<span style=\"color: #008000; text-decoration-color: #008000\">Planning#\\nA complicated task usually involves many steps. An agent needs to know what they are and plan </span>\n",
       "<span style=\"color: #008000; text-decoration-color: #008000\">ahead.\\nTask Decomposition#\\nChain of thought (CoT; Wei et al. 2022) has become a standard prompting technique for </span>\n",
       "<span style=\"color: #008000; text-decoration-color: #008000\">enhancing model performance on complex tasks. The model is instructed to “think step by step” to utilize more </span>\n",
       "<span style=\"color: #008000; text-decoration-color: #008000\">test-time computation to decompose hard tasks into smaller and simpler steps. CoT transforms big tasks into </span>\n",
       "<span style=\"color: #008000; text-decoration-color: #008000\">multiple manageable tasks and shed lights into an interpretation of the model’s thinking process.'</span>\n",
       "            <span style=\"font-weight: bold\">)</span>,\n",
       "            <span style=\"color: #800080; text-decoration-color: #800080; font-weight: bold\">Document</span><span style=\"font-weight: bold\">(</span>\n",
       "                <span style=\"color: #808000; text-decoration-color: #808000\">id</span>=<span style=\"color: #008000; text-decoration-color: #008000\">'5302075d-9342-43b9-936e-4db7b2c4423f'</span>,\n",
       "                <span style=\"color: #808000; text-decoration-color: #808000\">metadata</span>=<span style=\"font-weight: bold\">{</span><span style=\"color: #008000; text-decoration-color: #008000\">'source'</span>: <span style=\"color: #008000; text-decoration-color: #008000\">'https://lilianweng.github.io/posts/2023-06-23-agent/'</span><span style=\"font-weight: bold\">}</span>,\n",
       "                <span style=\"color: #808000; text-decoration-color: #808000\">page_content</span>=<span style=\"color: #008000; text-decoration-color: #008000\">'Fig. 13. The generative agent architecture. (Image source: Park et al. 2023)\\nThis </span>\n",
       "<span style=\"color: #008000; text-decoration-color: #008000\">fun simulation results in emergent social behavior, such as information diffusion, relationship memory (e.g. two </span>\n",
       "<span style=\"color: #008000; text-decoration-color: #008000\">agents continuing the conversation topic) and coordination of social events (e.g. host a party and invite many </span>\n",
       "<span style=\"color: #008000; text-decoration-color: #008000\">others).\\nProof-of-Concept Examples#\\nAutoGPT has drawn a lot of attention into the possibility of setting up </span>\n",
       "<span style=\"color: #008000; text-decoration-color: #008000\">autonomous agents with LLM as the main controller. It has quite a lot of reliability issues given the natural </span>\n",
       "<span style=\"color: #008000; text-decoration-color: #008000\">language interface, but nevertheless a cool proof-of-concept demo. A lot of code in AutoGPT is about format </span>\n",
       "<span style=\"color: #008000; text-decoration-color: #008000\">parsing.\\nHere is the system message used by AutoGPT, where {{...}} are user inputs:\\nYou are {{ai-name}}, </span>\n",
       "<span style=\"color: #008000; text-decoration-color: #008000\">{{user-provided AI bot description}}.\\nYour decisions must always be made independently without seeking user </span>\n",
       "<span style=\"color: #008000; text-decoration-color: #008000\">assistance. Play to your strengths as an LLM and pursue simple strategies with no legal complications.\\n\\nGOALS:'</span>\n",
       "            <span style=\"font-weight: bold\">)</span>,\n",
       "            <span style=\"color: #800080; text-decoration-color: #800080; font-weight: bold\">Document</span><span style=\"font-weight: bold\">(</span>\n",
       "                <span style=\"color: #808000; text-decoration-color: #808000\">id</span>=<span style=\"color: #008000; text-decoration-color: #008000\">'722e6b6b-580c-4ac0-9e9c-9377b0d6914f'</span>,\n",
       "                <span style=\"color: #808000; text-decoration-color: #808000\">metadata</span>=<span style=\"font-weight: bold\">{</span><span style=\"color: #008000; text-decoration-color: #008000\">'source'</span>: <span style=\"color: #008000; text-decoration-color: #008000\">'https://lilianweng.github.io/posts/2023-06-23-agent/'</span><span style=\"font-weight: bold\">}</span>,\n",
       "                <span style=\"color: #808000; text-decoration-color: #808000\">page_content</span>=<span style=\"color: #008000; text-decoration-color: #008000\">'LLM Powered Autonomous Agents\\n    \\nDate: June 23, 2023  |  Estimated Reading Time: </span>\n",
       "<span style=\"color: #008000; text-decoration-color: #008000\">31 min  |  Author: Lilian Weng\\n\\n\\nBuilding agents with LLM (large language model) as its core controller is a </span>\n",
       "<span style=\"color: #008000; text-decoration-color: #008000\">cool concept. Several proof-of-concepts demos, such as AutoGPT, GPT-Engineer and BabyAGI, serve as inspiring </span>\n",
       "<span style=\"color: #008000; text-decoration-color: #008000\">examples. The potentiality of LLM extends beyond generating well-written copies, stories, essays and programs; it </span>\n",
       "<span style=\"color: #008000; text-decoration-color: #008000\">can be framed as a powerful general problem solver.\\nAgent System Overview#\\nIn a LLM-powered autonomous agent </span>\n",
       "<span style=\"color: #008000; text-decoration-color: #008000\">system, LLM functions as the agent’s brain, complemented by several key components:\\n\\nPlanning\\n\\nSubgoal and </span>\n",
       "<span style=\"color: #008000; text-decoration-color: #008000\">decomposition: The agent breaks down large tasks into smaller, manageable subgoals, enabling efficient handling of </span>\n",
       "<span style=\"color: #008000; text-decoration-color: #008000\">complex tasks.\\nReflection and refinement: The agent can do self-criticism and self-reflection over past actions, </span>\n",
       "<span style=\"color: #008000; text-decoration-color: #008000\">learn from mistakes and refine them for future steps, thereby improving the quality of final results.\\n\\n\\nMemory'</span>\n",
       "            <span style=\"font-weight: bold\">)</span>,\n",
       "            <span style=\"color: #800080; text-decoration-color: #800080; font-weight: bold\">Document</span><span style=\"font-weight: bold\">(</span>\n",
       "                <span style=\"color: #808000; text-decoration-color: #808000\">id</span>=<span style=\"color: #008000; text-decoration-color: #008000\">'c2912f4c-7160-4374-81f0-fc7258c6f5eb'</span>,\n",
       "                <span style=\"color: #808000; text-decoration-color: #808000\">metadata</span>=<span style=\"font-weight: bold\">{</span><span style=\"color: #008000; text-decoration-color: #008000\">'source'</span>: <span style=\"color: #008000; text-decoration-color: #008000\">'https://lilianweng.github.io/posts/2023-06-23-agent/'</span><span style=\"font-weight: bold\">}</span>,\n",
       "                <span style=\"color: #808000; text-decoration-color: #808000\">page_content</span>=<span style=\"color: #008000; text-decoration-color: #008000\">'}\\n]\\nChallenges#\\nAfter going through key ideas and demos of building LLM-centered </span>\n",
       "<span style=\"color: #008000; text-decoration-color: #008000\">agents, I start to see a couple common limitations:'</span>\n",
       "            <span style=\"font-weight: bold\">)</span>\n",
       "        <span style=\"font-weight: bold\">]</span>\n",
       "    <span style=\"font-weight: bold\">}</span>\n",
       "<span style=\"font-weight: bold\">}</span>\n",
       "</pre>\n"
      ],
      "text/plain": [
       "\u001b[1m{\u001b[0m\n",
       "    \u001b[32m'retrieve_docs'\u001b[0m: \u001b[1m{\u001b[0m\n",
       "        \u001b[32m'context'\u001b[0m: \u001b[1m[\u001b[0m\n",
       "            \u001b[1;35mDocument\u001b[0m\u001b[1m(\u001b[0m\n",
       "                \u001b[33mid\u001b[0m=\u001b[32m'c8dba136-1894-422b-990e-9e2ffd92fb9c'\u001b[0m,\n",
       "                \u001b[33mmetadata\u001b[0m=\u001b[1m{\u001b[0m\u001b[32m'source'\u001b[0m: \u001b[32m'https://lilianweng.github.io/posts/2023-06-23-agent/'\u001b[0m\u001b[1m}\u001b[0m,\n",
       "                \u001b[33mpage_content\u001b[0m=\u001b[32m'Fig. 1. Overview of a LLM-powered autonomous agent system.\\nComponent One: \u001b[0m\n",
       "\u001b[32mPlanning#\\nA complicated task usually involves many steps. An agent needs to know what they are and plan \u001b[0m\n",
       "\u001b[32mahead.\\nTask Decomposition#\\nChain of thought \u001b[0m\u001b[32m(\u001b[0m\u001b[32mCoT; Wei et al. 2022\u001b[0m\u001b[32m)\u001b[0m\u001b[32m has become a standard prompting technique for \u001b[0m\n",
       "\u001b[32menhancing model performance on complex tasks. The model is instructed to “think step by step” to utilize more \u001b[0m\n",
       "\u001b[32mtest-time computation to decompose hard tasks into smaller and simpler steps. CoT transforms big tasks into \u001b[0m\n",
       "\u001b[32mmultiple manageable tasks and shed lights into an interpretation of the model’s thinking process.'\u001b[0m\n",
       "            \u001b[1m)\u001b[0m,\n",
       "            \u001b[1;35mDocument\u001b[0m\u001b[1m(\u001b[0m\n",
       "                \u001b[33mid\u001b[0m=\u001b[32m'5302075d-9342-43b9-936e-4db7b2c4423f'\u001b[0m,\n",
       "                \u001b[33mmetadata\u001b[0m=\u001b[1m{\u001b[0m\u001b[32m'source'\u001b[0m: \u001b[32m'https://lilianweng.github.io/posts/2023-06-23-agent/'\u001b[0m\u001b[1m}\u001b[0m,\n",
       "                \u001b[33mpage_content\u001b[0m=\u001b[32m'Fig. 13. The generative agent architecture. \u001b[0m\u001b[32m(\u001b[0m\u001b[32mImage source: Park et al. 2023\u001b[0m\u001b[32m)\u001b[0m\u001b[32m\\nThis \u001b[0m\n",
       "\u001b[32mfun simulation results in emergent social behavior, such as information diffusion, relationship memory \u001b[0m\u001b[32m(\u001b[0m\u001b[32me.g. two \u001b[0m\n",
       "\u001b[32magents continuing the conversation topic\u001b[0m\u001b[32m)\u001b[0m\u001b[32m and coordination of social events \u001b[0m\u001b[32m(\u001b[0m\u001b[32me.g. host a party and invite many \u001b[0m\n",
       "\u001b[32mothers\u001b[0m\u001b[32m)\u001b[0m\u001b[32m.\\nProof-of-Concept Examples#\\nAutoGPT has drawn a lot of attention into the possibility of setting up \u001b[0m\n",
       "\u001b[32mautonomous agents with LLM as the main controller. It has quite a lot of reliability issues given the natural \u001b[0m\n",
       "\u001b[32mlanguage interface, but nevertheless a cool proof-of-concept demo. A lot of code in AutoGPT is about format \u001b[0m\n",
       "\u001b[32mparsing.\\nHere is the system message used by AutoGPT, where \u001b[0m\u001b[32m{\u001b[0m\u001b[32m{\u001b[0m\u001b[32m...\u001b[0m\u001b[32m}\u001b[0m\u001b[32m}\u001b[0m\u001b[32m are user inputs:\\nYou are \u001b[0m\u001b[32m{\u001b[0m\u001b[32m{\u001b[0m\u001b[32mai-name\u001b[0m\u001b[32m}\u001b[0m\u001b[32m}\u001b[0m\u001b[32m, \u001b[0m\n",
       "\u001b[32m{\u001b[0m\u001b[32m{\u001b[0m\u001b[32muser-provided AI bot description\u001b[0m\u001b[32m}\u001b[0m\u001b[32m}\u001b[0m\u001b[32m.\\nYour decisions must always be made independently without seeking user \u001b[0m\n",
       "\u001b[32massistance. Play to your strengths as an LLM and pursue simple strategies with no legal complications.\\n\\nGOALS:'\u001b[0m\n",
       "            \u001b[1m)\u001b[0m,\n",
       "            \u001b[1;35mDocument\u001b[0m\u001b[1m(\u001b[0m\n",
       "                \u001b[33mid\u001b[0m=\u001b[32m'722e6b6b-580c-4ac0-9e9c-9377b0d6914f'\u001b[0m,\n",
       "                \u001b[33mmetadata\u001b[0m=\u001b[1m{\u001b[0m\u001b[32m'source'\u001b[0m: \u001b[32m'https://lilianweng.github.io/posts/2023-06-23-agent/'\u001b[0m\u001b[1m}\u001b[0m,\n",
       "                \u001b[33mpage_content\u001b[0m=\u001b[32m'LLM Powered Autonomous Agents\\n    \\nDate: June 23, 2023  |  Estimated Reading Time: \u001b[0m\n",
       "\u001b[32m31 min  |  Author: Lilian Weng\\n\\n\\nBuilding agents with LLM \u001b[0m\u001b[32m(\u001b[0m\u001b[32mlarge language model\u001b[0m\u001b[32m)\u001b[0m\u001b[32m as its core controller is a \u001b[0m\n",
       "\u001b[32mcool concept. Several proof-of-concepts demos, such as AutoGPT, GPT-Engineer and BabyAGI, serve as inspiring \u001b[0m\n",
       "\u001b[32mexamples. The potentiality of LLM extends beyond generating well-written copies, stories, essays and programs; it \u001b[0m\n",
       "\u001b[32mcan be framed as a powerful general problem solver.\\nAgent System Overview#\\nIn a LLM-powered autonomous agent \u001b[0m\n",
       "\u001b[32msystem, LLM functions as the agent’s brain, complemented by several key components:\\n\\nPlanning\\n\\nSubgoal and \u001b[0m\n",
       "\u001b[32mdecomposition: The agent breaks down large tasks into smaller, manageable subgoals, enabling efficient handling of \u001b[0m\n",
       "\u001b[32mcomplex tasks.\\nReflection and refinement: The agent can do self-criticism and self-reflection over past actions, \u001b[0m\n",
       "\u001b[32mlearn from mistakes and refine them for future steps, thereby improving the quality of final results.\\n\\n\\nMemory'\u001b[0m\n",
       "            \u001b[1m)\u001b[0m,\n",
       "            \u001b[1;35mDocument\u001b[0m\u001b[1m(\u001b[0m\n",
       "                \u001b[33mid\u001b[0m=\u001b[32m'c2912f4c-7160-4374-81f0-fc7258c6f5eb'\u001b[0m,\n",
       "                \u001b[33mmetadata\u001b[0m=\u001b[1m{\u001b[0m\u001b[32m'source'\u001b[0m: \u001b[32m'https://lilianweng.github.io/posts/2023-06-23-agent/'\u001b[0m\u001b[1m}\u001b[0m,\n",
       "                \u001b[33mpage_content\u001b[0m=\u001b[32m'\u001b[0m\u001b[32m}\u001b[0m\u001b[32m\\n\u001b[0m\u001b[32m]\u001b[0m\u001b[32m\\nChallenges#\\nAfter going through key ideas and demos of building LLM-centered \u001b[0m\n",
       "\u001b[32magents, I start to see a couple common limitations:'\u001b[0m\n",
       "            \u001b[1m)\u001b[0m\n",
       "        \u001b[1m]\u001b[0m\n",
       "    \u001b[1m}\u001b[0m\n",
       "\u001b[1m}\u001b[0m\n"
      ]
     },
     "metadata": {},
     "output_type": "display_data"
    },
    {
     "name": "stdout",
     "output_type": "stream",
     "text": [
      "To build an autonomous agent system, several essential components are required:\n",
      "\n",
      "1. **Planning**: The agent must be capable of breaking down complex tasks into smaller, manageable subgoals. This involves task decomposition, often enhanced through techniques like the chain of thought (CoT) prompting, which encourages the model to think step by step during the execution of tasks.\n",
      "\n",
      "2. **Reflection and Refinement**: The agent should possess the ability to self-reflect on its past actions, learn from mistakes, and refine its future strategies. This self-critical capability improves the quality and effectiveness of the agent's outputs over time.\n",
      "\n",
      "3. **Memory**: Maintaining a memory system is crucial for remembering past interactions and decisions, allowing the agent to have context and continuity in its actions. This component aids in enhancing conversations and task management by recalling previous states and objectives.\n",
      "\n",
      "4. **Response Generation**: After completing tasks, the agent needs to generate clear and concise responses or summaries of its actions. This helps communicate the outcomes effectively to users or other systems.\n",
      "\n",
      "Incorporating these components allows for the creation of sophisticated autonomous agents that can perform tasks independently, adaptively, and in a context-aware manner."
     ]
    },
    {
     "data": {
      "text/html": [
       "<pre style=\"white-space:pre;overflow-x:auto;line-height:normal;font-family:Menlo,'DejaVu Sans Mono',consolas,'Courier New',monospace\"><span style=\"font-weight: bold\">{</span>\n",
       "    <span style=\"color: #008000; text-decoration-color: #008000\">'generate_answer'</span>: <span style=\"font-weight: bold\">{</span>\n",
       "        <span style=\"color: #008000; text-decoration-color: #008000\">'qa_pairs'</span>: <span style=\"color: #008000; text-decoration-color: #008000\">'Question: What is a large language model (LLM) and how does it function?  \\nAnswer:\\nA large </span>\n",
       "<span style=\"color: #008000; text-decoration-color: #008000\">language model (LLM) is an advanced artificial intelligence system designed to understand and generate human-like </span>\n",
       "<span style=\"color: #008000; text-decoration-color: #008000\">text based on the input it receives. It functions by utilizing deep learning techniques, particularly neural </span>\n",
       "<span style=\"color: #008000; text-decoration-color: #008000\">networks, to analyze vast amounts of text data, which allows it to learn language patterns, grammar, facts, and </span>\n",
       "<span style=\"color: #008000; text-decoration-color: #008000\">various forms of knowledge. \\n\\nLLMs operate on the principles of probabilistic modeling, where they calculate the </span>\n",
       "<span style=\"color: #008000; text-decoration-color: #008000\">probability of a word or phrase occurring in a given context and generate responses accordingly. They are often </span>\n",
       "<span style=\"color: #008000; text-decoration-color: #008000\">used in various applications such as text generation, translation, summarization, and even problem-solving </span>\n",
       "<span style=\"color: #008000; text-decoration-color: #008000\">tasks.\\n\\nIn an LLM-powered autonomous agent system, the LLM acts as the core controller or \"brain\" of the agent. </span>\n",
       "<span style=\"color: #008000; text-decoration-color: #008000\">It is complemented by several key components, including:\\n\\n1. **Planning**: The LLM can break down large tasks </span>\n",
       "<span style=\"color: #008000; text-decoration-color: #008000\">into smaller, manageable subgoals, allowing it to tackle complex tasks more efficiently.\\n   \\n2. **Reflection and </span>\n",
       "<span style=\"color: #008000; text-decoration-color: #008000\">Refinement**: The model has the capability for self-criticism and reflection, enabling it to learn from past </span>\n",
       "<span style=\"color: #008000; text-decoration-color: #008000\">actions and improve future outputs.\\n\\n3. **Response Generation**: After performing tasks, the LLM summarizes the </span>\n",
       "<span style=\"color: #008000; text-decoration-color: #008000\">execution results for the user, facilitating clear communication of outcomes.\\n\\nDespite their capabilities, LLMs </span>\n",
       "<span style=\"color: #008000; text-decoration-color: #008000\">face challenges, such as ensuring reliability in their outputs and effectively managing interactions with external </span>\n",
       "<span style=\"color: #008000; text-decoration-color: #008000\">tools and APIs. Issues like formatting errors and inconsistent behavior can arise, necessitating careful design of </span>\n",
       "<span style=\"color: #008000; text-decoration-color: #008000\">the systems that incorporate these models. Overall, LLMs represent a powerful computational tool for various </span>\n",
       "<span style=\"color: #008000; text-decoration-color: #008000\">natural language processing tasks and beyond.\\n\\nQuestion: What are the essential components required for building </span>\n",
       "<span style=\"color: #008000; text-decoration-color: #008000\">an autonomous agent system?  \\nAnswer:\\nTo build an autonomous agent system, several essential components are </span>\n",
       "<span style=\"color: #008000; text-decoration-color: #008000\">required:\\n\\n1. **Planning**: The agent must be capable of breaking down complex tasks into smaller, manageable </span>\n",
       "<span style=\"color: #008000; text-decoration-color: #008000\">subgoals. This involves task decomposition, often enhanced through techniques like the chain of thought (CoT) </span>\n",
       "<span style=\"color: #008000; text-decoration-color: #008000\">prompting, which encourages the model to think step by step during the execution of tasks.\\n\\n2. **Reflection and </span>\n",
       "<span style=\"color: #008000; text-decoration-color: #008000\">Refinement**: The agent should possess the ability to self-reflect on its past actions, learn from mistakes, and </span>\n",
       "<span style=\"color: #008000; text-decoration-color: #008000\">refine its future strategies. This self-critical capability improves the quality and effectiveness of the agent\\'s </span>\n",
       "<span style=\"color: #008000; text-decoration-color: #008000\">outputs over time.\\n\\n3. **Memory**: Maintaining a memory system is crucial for remembering past interactions and </span>\n",
       "<span style=\"color: #008000; text-decoration-color: #008000\">decisions, allowing the agent to have context and continuity in its actions. This component aids in enhancing </span>\n",
       "<span style=\"color: #008000; text-decoration-color: #008000\">conversations and task management by recalling previous states and objectives.\\n\\n4. **Response Generation**: After</span>\n",
       "<span style=\"color: #008000; text-decoration-color: #008000\">completing tasks, the agent needs to generate clear and concise responses or summaries of its actions. This helps </span>\n",
       "<span style=\"color: #008000; text-decoration-color: #008000\">communicate the outcomes effectively to users or other systems.\\n\\nIncorporating these components allows for the </span>\n",
       "<span style=\"color: #008000; text-decoration-color: #008000\">creation of sophisticated autonomous agents that can perform tasks independently, adaptively, and in a </span>\n",
       "<span style=\"color: #008000; text-decoration-color: #008000\">context-aware manner.\\n\\n'</span>,\n",
       "        <span style=\"color: #008000; text-decoration-color: #008000\">'current_question_idx'</span>: <span style=\"color: #008080; text-decoration-color: #008080; font-weight: bold\">2</span>\n",
       "    <span style=\"font-weight: bold\">}</span>\n",
       "<span style=\"font-weight: bold\">}</span>\n",
       "</pre>\n"
      ],
      "text/plain": [
       "\u001b[1m{\u001b[0m\n",
       "    \u001b[32m'generate_answer'\u001b[0m: \u001b[1m{\u001b[0m\n",
       "        \u001b[32m'qa_pairs'\u001b[0m: \u001b[32m'Question: What is a large language model \u001b[0m\u001b[32m(\u001b[0m\u001b[32mLLM\u001b[0m\u001b[32m)\u001b[0m\u001b[32m and how does it function?  \\nAnswer:\\nA large \u001b[0m\n",
       "\u001b[32mlanguage model \u001b[0m\u001b[32m(\u001b[0m\u001b[32mLLM\u001b[0m\u001b[32m)\u001b[0m\u001b[32m is an advanced artificial intelligence system designed to understand and generate human-like \u001b[0m\n",
       "\u001b[32mtext based on the input it receives. It functions by utilizing deep learning techniques, particularly neural \u001b[0m\n",
       "\u001b[32mnetworks, to analyze vast amounts of text data, which allows it to learn language patterns, grammar, facts, and \u001b[0m\n",
       "\u001b[32mvarious forms of knowledge. \\n\\nLLMs operate on the principles of probabilistic modeling, where they calculate the \u001b[0m\n",
       "\u001b[32mprobability of a word or phrase occurring in a given context and generate responses accordingly. They are often \u001b[0m\n",
       "\u001b[32mused in various applications such as text generation, translation, summarization, and even problem-solving \u001b[0m\n",
       "\u001b[32mtasks.\\n\\nIn an LLM-powered autonomous agent system, the LLM acts as the core controller or \"brain\" of the agent. \u001b[0m\n",
       "\u001b[32mIt is complemented by several key components, including:\\n\\n1. **Planning**: The LLM can break down large tasks \u001b[0m\n",
       "\u001b[32minto smaller, manageable subgoals, allowing it to tackle complex tasks more efficiently.\\n   \\n2. **Reflection and \u001b[0m\n",
       "\u001b[32mRefinement**: The model has the capability for self-criticism and reflection, enabling it to learn from past \u001b[0m\n",
       "\u001b[32mactions and improve future outputs.\\n\\n3. **Response Generation**: After performing tasks, the LLM summarizes the \u001b[0m\n",
       "\u001b[32mexecution results for the user, facilitating clear communication of outcomes.\\n\\nDespite their capabilities, LLMs \u001b[0m\n",
       "\u001b[32mface challenges, such as ensuring reliability in their outputs and effectively managing interactions with external \u001b[0m\n",
       "\u001b[32mtools and APIs. Issues like formatting errors and inconsistent behavior can arise, necessitating careful design of \u001b[0m\n",
       "\u001b[32mthe systems that incorporate these models. Overall, LLMs represent a powerful computational tool for various \u001b[0m\n",
       "\u001b[32mnatural language processing tasks and beyond.\\n\\nQuestion: What are the essential components required for building \u001b[0m\n",
       "\u001b[32man autonomous agent system?  \\nAnswer:\\nTo build an autonomous agent system, several essential components are \u001b[0m\n",
       "\u001b[32mrequired:\\n\\n1. **Planning**: The agent must be capable of breaking down complex tasks into smaller, manageable \u001b[0m\n",
       "\u001b[32msubgoals. This involves task decomposition, often enhanced through techniques like the chain of thought \u001b[0m\u001b[32m(\u001b[0m\u001b[32mCoT\u001b[0m\u001b[32m)\u001b[0m\u001b[32m \u001b[0m\n",
       "\u001b[32mprompting, which encourages the model to think step by step during the execution of tasks.\\n\\n2. **Reflection and \u001b[0m\n",
       "\u001b[32mRefinement**: The agent should possess the ability to self-reflect on its past actions, learn from mistakes, and \u001b[0m\n",
       "\u001b[32mrefine its future strategies. This self-critical capability improves the quality and effectiveness of the agent\\'s \u001b[0m\n",
       "\u001b[32moutputs over time.\\n\\n3. **Memory**: Maintaining a memory system is crucial for remembering past interactions and \u001b[0m\n",
       "\u001b[32mdecisions, allowing the agent to have context and continuity in its actions. This component aids in enhancing \u001b[0m\n",
       "\u001b[32mconversations and task management by recalling previous states and objectives.\\n\\n4. **Response Generation**: After\u001b[0m\n",
       "\u001b[32mcompleting tasks, the agent needs to generate clear and concise responses or summaries of its actions. This helps \u001b[0m\n",
       "\u001b[32mcommunicate the outcomes effectively to users or other systems.\\n\\nIncorporating these components allows for the \u001b[0m\n",
       "\u001b[32mcreation of sophisticated autonomous agents that can perform tasks independently, adaptively, and in a \u001b[0m\n",
       "\u001b[32mcontext-aware manner.\\n\\n'\u001b[0m,\n",
       "        \u001b[32m'current_question_idx'\u001b[0m: \u001b[1;36m2\u001b[0m\n",
       "    \u001b[1m}\u001b[0m\n",
       "\u001b[1m}\u001b[0m\n"
      ]
     },
     "metadata": {},
     "output_type": "display_data"
    },
    {
     "data": {
      "text/html": [
       "<pre style=\"white-space:pre;overflow-x:auto;line-height:normal;font-family:Menlo,'DejaVu Sans Mono',consolas,'Courier New',monospace\"><span style=\"font-weight: bold\">{</span>\n",
       "    <span style=\"color: #008000; text-decoration-color: #008000\">'retrieve_docs'</span>: <span style=\"font-weight: bold\">{</span>\n",
       "        <span style=\"color: #008000; text-decoration-color: #008000\">'context'</span>: <span style=\"font-weight: bold\">[</span>\n",
       "            <span style=\"color: #800080; text-decoration-color: #800080; font-weight: bold\">Document</span><span style=\"font-weight: bold\">(</span>\n",
       "                <span style=\"color: #808000; text-decoration-color: #808000\">id</span>=<span style=\"color: #008000; text-decoration-color: #008000\">'722e6b6b-580c-4ac0-9e9c-9377b0d6914f'</span>,\n",
       "                <span style=\"color: #808000; text-decoration-color: #808000\">metadata</span>=<span style=\"font-weight: bold\">{</span><span style=\"color: #008000; text-decoration-color: #008000\">'source'</span>: <span style=\"color: #008000; text-decoration-color: #008000\">'https://lilianweng.github.io/posts/2023-06-23-agent/'</span><span style=\"font-weight: bold\">}</span>,\n",
       "                <span style=\"color: #808000; text-decoration-color: #808000\">page_content</span>=<span style=\"color: #008000; text-decoration-color: #008000\">'LLM Powered Autonomous Agents\\n    \\nDate: June 23, 2023  |  Estimated Reading Time: </span>\n",
       "<span style=\"color: #008000; text-decoration-color: #008000\">31 min  |  Author: Lilian Weng\\n\\n\\nBuilding agents with LLM (large language model) as its core controller is a </span>\n",
       "<span style=\"color: #008000; text-decoration-color: #008000\">cool concept. Several proof-of-concepts demos, such as AutoGPT, GPT-Engineer and BabyAGI, serve as inspiring </span>\n",
       "<span style=\"color: #008000; text-decoration-color: #008000\">examples. The potentiality of LLM extends beyond generating well-written copies, stories, essays and programs; it </span>\n",
       "<span style=\"color: #008000; text-decoration-color: #008000\">can be framed as a powerful general problem solver.\\nAgent System Overview#\\nIn a LLM-powered autonomous agent </span>\n",
       "<span style=\"color: #008000; text-decoration-color: #008000\">system, LLM functions as the agent’s brain, complemented by several key components:\\n\\nPlanning\\n\\nSubgoal and </span>\n",
       "<span style=\"color: #008000; text-decoration-color: #008000\">decomposition: The agent breaks down large tasks into smaller, manageable subgoals, enabling efficient handling of </span>\n",
       "<span style=\"color: #008000; text-decoration-color: #008000\">complex tasks.\\nReflection and refinement: The agent can do self-criticism and self-reflection over past actions, </span>\n",
       "<span style=\"color: #008000; text-decoration-color: #008000\">learn from mistakes and refine them for future steps, thereby improving the quality of final results.\\n\\n\\nMemory'</span>\n",
       "            <span style=\"font-weight: bold\">)</span>,\n",
       "            <span style=\"color: #800080; text-decoration-color: #800080; font-weight: bold\">Document</span><span style=\"font-weight: bold\">(</span>\n",
       "                <span style=\"color: #808000; text-decoration-color: #808000\">id</span>=<span style=\"color: #008000; text-decoration-color: #008000\">'c8dba136-1894-422b-990e-9e2ffd92fb9c'</span>,\n",
       "                <span style=\"color: #808000; text-decoration-color: #808000\">metadata</span>=<span style=\"font-weight: bold\">{</span><span style=\"color: #008000; text-decoration-color: #008000\">'source'</span>: <span style=\"color: #008000; text-decoration-color: #008000\">'https://lilianweng.github.io/posts/2023-06-23-agent/'</span><span style=\"font-weight: bold\">}</span>,\n",
       "                <span style=\"color: #808000; text-decoration-color: #808000\">page_content</span>=<span style=\"color: #008000; text-decoration-color: #008000\">'Fig. 1. Overview of a LLM-powered autonomous agent system.\\nComponent One: </span>\n",
       "<span style=\"color: #008000; text-decoration-color: #008000\">Planning#\\nA complicated task usually involves many steps. An agent needs to know what they are and plan </span>\n",
       "<span style=\"color: #008000; text-decoration-color: #008000\">ahead.\\nTask Decomposition#\\nChain of thought (CoT; Wei et al. 2022) has become a standard prompting technique for </span>\n",
       "<span style=\"color: #008000; text-decoration-color: #008000\">enhancing model performance on complex tasks. The model is instructed to “think step by step” to utilize more </span>\n",
       "<span style=\"color: #008000; text-decoration-color: #008000\">test-time computation to decompose hard tasks into smaller and simpler steps. CoT transforms big tasks into </span>\n",
       "<span style=\"color: #008000; text-decoration-color: #008000\">multiple manageable tasks and shed lights into an interpretation of the model’s thinking process.'</span>\n",
       "            <span style=\"font-weight: bold\">)</span>,\n",
       "            <span style=\"color: #800080; text-decoration-color: #800080; font-weight: bold\">Document</span><span style=\"font-weight: bold\">(</span>\n",
       "                <span style=\"color: #808000; text-decoration-color: #808000\">id</span>=<span style=\"color: #008000; text-decoration-color: #008000\">'8c6aba8b-17dc-44df-b269-f2de039f9e2b'</span>,\n",
       "                <span style=\"color: #808000; text-decoration-color: #808000\">metadata</span>=<span style=\"font-weight: bold\">{</span><span style=\"color: #008000; text-decoration-color: #008000\">'source'</span>: <span style=\"color: #008000; text-decoration-color: #008000\">'https://lilianweng.github.io/posts/2023-06-23-agent/'</span><span style=\"font-weight: bold\">}</span>,\n",
       "                <span style=\"color: #808000; text-decoration-color: #808000\">page_content</span>=<span style=\"color: #008000; text-decoration-color: #008000\">'Reliability of natural language interface: Current agent system relies on natural </span>\n",
       "<span style=\"color: #008000; text-decoration-color: #008000\">language as an interface between LLMs and external components such as memory and tools. However, the reliability of</span>\n",
       "<span style=\"color: #008000; text-decoration-color: #008000\">model outputs is questionable, as LLMs may make formatting errors and occasionally exhibit rebellious behavior </span>\n",
       "<span style=\"color: #008000; text-decoration-color: #008000\">(e.g. refuse to follow an instruction). Consequently, much of the agent demo code focuses on parsing model </span>\n",
       "<span style=\"color: #008000; text-decoration-color: #008000\">output.\\n\\n\\nCitation#\\nCited as:\\n\\nWeng, Lilian. (Jun 2023). “LLM-powered Autonomous Agents”. Lil’Log. </span>\n",
       "<span style=\"color: #008000; text-decoration-color: #008000\">https://lilianweng.github.io/posts/2023-06-23-agent/.'</span>\n",
       "            <span style=\"font-weight: bold\">)</span>,\n",
       "            <span style=\"color: #800080; text-decoration-color: #800080; font-weight: bold\">Document</span><span style=\"font-weight: bold\">(</span>\n",
       "                <span style=\"color: #808000; text-decoration-color: #808000\">id</span>=<span style=\"color: #008000; text-decoration-color: #008000\">'479fea7b-64f8-4e1f-b448-72c05a7f7660'</span>,\n",
       "                <span style=\"color: #808000; text-decoration-color: #808000\">metadata</span>=<span style=\"font-weight: bold\">{</span><span style=\"color: #008000; text-decoration-color: #008000\">'source'</span>: <span style=\"color: #008000; text-decoration-color: #008000\">'https://lilianweng.github.io/posts/2023-06-23-agent/'</span><span style=\"font-weight: bold\">}</span>,\n",
       "                <span style=\"color: #808000; text-decoration-color: #808000\">page_content</span>=<span style=\"color: #008000; text-decoration-color: #008000\">'Another quite distinct approach, LLM+P (Liu et al. 2023), involves relying on an </span>\n",
       "<span style=\"color: #008000; text-decoration-color: #008000\">external classical planner to do long-horizon planning. This approach utilizes the Planning Domain Definition </span>\n",
       "<span style=\"color: #008000; text-decoration-color: #008000\">Language (PDDL) as an intermediate interface to describe the planning problem. In this process, LLM (1) translates </span>\n",
       "<span style=\"color: #008000; text-decoration-color: #008000\">the problem into “Problem PDDL”, then (2) requests a classical planner to generate a PDDL plan based on an existing</span>\n",
       "<span style=\"color: #008000; text-decoration-color: #008000\">“Domain PDDL”, and finally (3) translates the PDDL plan back into natural language. Essentially, the planning step </span>\n",
       "<span style=\"color: #008000; text-decoration-color: #008000\">is outsourced to an external tool, assuming the availability of domain-specific PDDL and a suitable planner which </span>\n",
       "<span style=\"color: #008000; text-decoration-color: #008000\">is common in certain robotic setups but not in many other domains.\\nSelf-Reflection#\\nSelf-reflection is a vital </span>\n",
       "<span style=\"color: #008000; text-decoration-color: #008000\">aspect that allows autonomous agents to improve iteratively by refining past action decisions and correcting </span>\n",
       "<span style=\"color: #008000; text-decoration-color: #008000\">previous mistakes. It plays a crucial role in real-world tasks where trial and error are inevitable.'</span>\n",
       "            <span style=\"font-weight: bold\">)</span>\n",
       "        <span style=\"font-weight: bold\">]</span>\n",
       "    <span style=\"font-weight: bold\">}</span>\n",
       "<span style=\"font-weight: bold\">}</span>\n",
       "</pre>\n"
      ],
      "text/plain": [
       "\u001b[1m{\u001b[0m\n",
       "    \u001b[32m'retrieve_docs'\u001b[0m: \u001b[1m{\u001b[0m\n",
       "        \u001b[32m'context'\u001b[0m: \u001b[1m[\u001b[0m\n",
       "            \u001b[1;35mDocument\u001b[0m\u001b[1m(\u001b[0m\n",
       "                \u001b[33mid\u001b[0m=\u001b[32m'722e6b6b-580c-4ac0-9e9c-9377b0d6914f'\u001b[0m,\n",
       "                \u001b[33mmetadata\u001b[0m=\u001b[1m{\u001b[0m\u001b[32m'source'\u001b[0m: \u001b[32m'https://lilianweng.github.io/posts/2023-06-23-agent/'\u001b[0m\u001b[1m}\u001b[0m,\n",
       "                \u001b[33mpage_content\u001b[0m=\u001b[32m'LLM Powered Autonomous Agents\\n    \\nDate: June 23, 2023  |  Estimated Reading Time: \u001b[0m\n",
       "\u001b[32m31 min  |  Author: Lilian Weng\\n\\n\\nBuilding agents with LLM \u001b[0m\u001b[32m(\u001b[0m\u001b[32mlarge language model\u001b[0m\u001b[32m)\u001b[0m\u001b[32m as its core controller is a \u001b[0m\n",
       "\u001b[32mcool concept. Several proof-of-concepts demos, such as AutoGPT, GPT-Engineer and BabyAGI, serve as inspiring \u001b[0m\n",
       "\u001b[32mexamples. The potentiality of LLM extends beyond generating well-written copies, stories, essays and programs; it \u001b[0m\n",
       "\u001b[32mcan be framed as a powerful general problem solver.\\nAgent System Overview#\\nIn a LLM-powered autonomous agent \u001b[0m\n",
       "\u001b[32msystem, LLM functions as the agent’s brain, complemented by several key components:\\n\\nPlanning\\n\\nSubgoal and \u001b[0m\n",
       "\u001b[32mdecomposition: The agent breaks down large tasks into smaller, manageable subgoals, enabling efficient handling of \u001b[0m\n",
       "\u001b[32mcomplex tasks.\\nReflection and refinement: The agent can do self-criticism and self-reflection over past actions, \u001b[0m\n",
       "\u001b[32mlearn from mistakes and refine them for future steps, thereby improving the quality of final results.\\n\\n\\nMemory'\u001b[0m\n",
       "            \u001b[1m)\u001b[0m,\n",
       "            \u001b[1;35mDocument\u001b[0m\u001b[1m(\u001b[0m\n",
       "                \u001b[33mid\u001b[0m=\u001b[32m'c8dba136-1894-422b-990e-9e2ffd92fb9c'\u001b[0m,\n",
       "                \u001b[33mmetadata\u001b[0m=\u001b[1m{\u001b[0m\u001b[32m'source'\u001b[0m: \u001b[32m'https://lilianweng.github.io/posts/2023-06-23-agent/'\u001b[0m\u001b[1m}\u001b[0m,\n",
       "                \u001b[33mpage_content\u001b[0m=\u001b[32m'Fig. 1. Overview of a LLM-powered autonomous agent system.\\nComponent One: \u001b[0m\n",
       "\u001b[32mPlanning#\\nA complicated task usually involves many steps. An agent needs to know what they are and plan \u001b[0m\n",
       "\u001b[32mahead.\\nTask Decomposition#\\nChain of thought \u001b[0m\u001b[32m(\u001b[0m\u001b[32mCoT; Wei et al. 2022\u001b[0m\u001b[32m)\u001b[0m\u001b[32m has become a standard prompting technique for \u001b[0m\n",
       "\u001b[32menhancing model performance on complex tasks. The model is instructed to “think step by step” to utilize more \u001b[0m\n",
       "\u001b[32mtest-time computation to decompose hard tasks into smaller and simpler steps. CoT transforms big tasks into \u001b[0m\n",
       "\u001b[32mmultiple manageable tasks and shed lights into an interpretation of the model’s thinking process.'\u001b[0m\n",
       "            \u001b[1m)\u001b[0m,\n",
       "            \u001b[1;35mDocument\u001b[0m\u001b[1m(\u001b[0m\n",
       "                \u001b[33mid\u001b[0m=\u001b[32m'8c6aba8b-17dc-44df-b269-f2de039f9e2b'\u001b[0m,\n",
       "                \u001b[33mmetadata\u001b[0m=\u001b[1m{\u001b[0m\u001b[32m'source'\u001b[0m: \u001b[32m'https://lilianweng.github.io/posts/2023-06-23-agent/'\u001b[0m\u001b[1m}\u001b[0m,\n",
       "                \u001b[33mpage_content\u001b[0m=\u001b[32m'Reliability of natural language interface: Current agent system relies on natural \u001b[0m\n",
       "\u001b[32mlanguage as an interface between LLMs and external components such as memory and tools. However, the reliability of\u001b[0m\n",
       "\u001b[32mmodel outputs is questionable, as LLMs may make formatting errors and occasionally exhibit rebellious behavior \u001b[0m\n",
       "\u001b[32m(\u001b[0m\u001b[32me.g. refuse to follow an instruction\u001b[0m\u001b[32m)\u001b[0m\u001b[32m. Consequently, much of the agent demo code focuses on parsing model \u001b[0m\n",
       "\u001b[32moutput.\\n\\n\\nCitation#\\nCited as:\\n\\nWeng, Lilian. \u001b[0m\u001b[32m(\u001b[0m\u001b[32mJun 2023\u001b[0m\u001b[32m)\u001b[0m\u001b[32m. “LLM-powered Autonomous Agents”. Lil’Log. \u001b[0m\n",
       "\u001b[32mhttps://lilianweng.github.io/posts/2023-06-23-agent/.'\u001b[0m\n",
       "            \u001b[1m)\u001b[0m,\n",
       "            \u001b[1;35mDocument\u001b[0m\u001b[1m(\u001b[0m\n",
       "                \u001b[33mid\u001b[0m=\u001b[32m'479fea7b-64f8-4e1f-b448-72c05a7f7660'\u001b[0m,\n",
       "                \u001b[33mmetadata\u001b[0m=\u001b[1m{\u001b[0m\u001b[32m'source'\u001b[0m: \u001b[32m'https://lilianweng.github.io/posts/2023-06-23-agent/'\u001b[0m\u001b[1m}\u001b[0m,\n",
       "                \u001b[33mpage_content\u001b[0m=\u001b[32m'Another quite distinct approach, LLM+P \u001b[0m\u001b[32m(\u001b[0m\u001b[32mLiu et al. 2023\u001b[0m\u001b[32m)\u001b[0m\u001b[32m, involves relying on an \u001b[0m\n",
       "\u001b[32mexternal classical planner to do long-horizon planning. This approach utilizes the Planning Domain Definition \u001b[0m\n",
       "\u001b[32mLanguage \u001b[0m\u001b[32m(\u001b[0m\u001b[32mPDDL\u001b[0m\u001b[32m)\u001b[0m\u001b[32m as an intermediate interface to describe the planning problem. In this process, LLM \u001b[0m\u001b[32m(\u001b[0m\u001b[32m1\u001b[0m\u001b[32m)\u001b[0m\u001b[32m translates \u001b[0m\n",
       "\u001b[32mthe problem into “Problem PDDL”, then \u001b[0m\u001b[32m(\u001b[0m\u001b[32m2\u001b[0m\u001b[32m)\u001b[0m\u001b[32m requests a classical planner to generate a PDDL plan based on an existing\u001b[0m\n",
       "\u001b[32m“Domain PDDL”, and finally \u001b[0m\u001b[32m(\u001b[0m\u001b[32m3\u001b[0m\u001b[32m)\u001b[0m\u001b[32m translates the PDDL plan back into natural language. Essentially, the planning step \u001b[0m\n",
       "\u001b[32mis outsourced to an external tool, assuming the availability of domain-specific PDDL and a suitable planner which \u001b[0m\n",
       "\u001b[32mis common in certain robotic setups but not in many other domains.\\nSelf-Reflection#\\nSelf-reflection is a vital \u001b[0m\n",
       "\u001b[32maspect that allows autonomous agents to improve iteratively by refining past action decisions and correcting \u001b[0m\n",
       "\u001b[32mprevious mistakes. It plays a crucial role in real-world tasks where trial and error are inevitable.'\u001b[0m\n",
       "            \u001b[1m)\u001b[0m\n",
       "        \u001b[1m]\u001b[0m\n",
       "    \u001b[1m}\u001b[0m\n",
       "\u001b[1m}\u001b[0m\n"
      ]
     },
     "metadata": {},
     "output_type": "display_data"
    },
    {
     "name": "stdout",
     "output_type": "stream",
     "text": [
      "Large language models (LLMs) integrate with other technologies in an autonomous system by serving as the core controller—often referred to as the \"brain\"—and collaborating with various essential components that enhance the system's capabilities. This integration is foundational in enabling the autonomous agents to perform complex tasks effectively. Here are key ways LLMs integrate with other technologies in such systems:\n",
      "\n",
      "1. **Planning**: LLMs enable task decomposition, breaking down complex goals into smaller, manageable subgoals. This is often achieved using techniques like the Chain of Thought (CoT) prompting, which encourages the model to think step-by-step. Additionally, LLMs can interface with external planning tools. For instance, they can utilize classical planning methods through the Planning Domain Definition Language (PDDL), where an LLM translates a problem into PDDL, requests a classical planner to generate a plan, and then translates that plan back into natural language.\n",
      "\n",
      "2. **Reflection and Refinement**: LLMs are equipped with self-reflection functionalities, allowing them to learn from past actions and refine their future strategies. This iterative improvement process is crucial for adapting to new challenges and correcting previous mistakes, thus enhancing the system's overall performance.\n",
      "\n",
      "3. **Memory Systems**: To maintain context and continuity, LLMs may integrate with memory technologies. These systems keep track of past interactions, decisions, and states, providing the LLM with the necessary context to make informed decisions as it engages in tasks.\n",
      "\n",
      "4. **Response Generation and Communication**: After completing tasks, LLMs are responsible for generating clear and concise summaries or responses. This communication capability is vital for allowing users or other systems to understand the outcomes of the agent's actions effectively.\n",
      "\n",
      "5. **Reliability and Integration with External Tools**: The integration of LLMs with other components also involves addressing reliability concerns. Since the natural language outputs of LLMs can sometimes be prone to errors, careful design is needed to parse and manage these outputs effectively, ensuring that the LLM can interact reliably with external tools and APIs.\n",
      "\n",
      "In summary, LLMs in autonomous systems serve as central units that collaborate with planning mechanisms, memory systems, and other technologies to create adaptable, context-aware agents capable of performing complex tasks autonomously."
     ]
    },
    {
     "data": {
      "text/html": [
       "<pre style=\"white-space:pre;overflow-x:auto;line-height:normal;font-family:Menlo,'DejaVu Sans Mono',consolas,'Courier New',monospace\"><span style=\"font-weight: bold\">{</span>\n",
       "    <span style=\"color: #008000; text-decoration-color: #008000\">'generate_answer'</span>: <span style=\"font-weight: bold\">{</span>\n",
       "        <span style=\"color: #008000; text-decoration-color: #008000\">'qa_pairs'</span>: <span style=\"color: #008000; text-decoration-color: #008000\">'Question: What is a large language model (LLM) and how does it function?  \\nAnswer:\\nA large </span>\n",
       "<span style=\"color: #008000; text-decoration-color: #008000\">language model (LLM) is an advanced artificial intelligence system designed to understand and generate human-like </span>\n",
       "<span style=\"color: #008000; text-decoration-color: #008000\">text based on the input it receives. It functions by utilizing deep learning techniques, particularly neural </span>\n",
       "<span style=\"color: #008000; text-decoration-color: #008000\">networks, to analyze vast amounts of text data, which allows it to learn language patterns, grammar, facts, and </span>\n",
       "<span style=\"color: #008000; text-decoration-color: #008000\">various forms of knowledge. \\n\\nLLMs operate on the principles of probabilistic modeling, where they calculate the </span>\n",
       "<span style=\"color: #008000; text-decoration-color: #008000\">probability of a word or phrase occurring in a given context and generate responses accordingly. They are often </span>\n",
       "<span style=\"color: #008000; text-decoration-color: #008000\">used in various applications such as text generation, translation, summarization, and even problem-solving </span>\n",
       "<span style=\"color: #008000; text-decoration-color: #008000\">tasks.\\n\\nIn an LLM-powered autonomous agent system, the LLM acts as the core controller or \"brain\" of the agent. </span>\n",
       "<span style=\"color: #008000; text-decoration-color: #008000\">It is complemented by several key components, including:\\n\\n1. **Planning**: The LLM can break down large tasks </span>\n",
       "<span style=\"color: #008000; text-decoration-color: #008000\">into smaller, manageable subgoals, allowing it to tackle complex tasks more efficiently.\\n   \\n2. **Reflection and </span>\n",
       "<span style=\"color: #008000; text-decoration-color: #008000\">Refinement**: The model has the capability for self-criticism and reflection, enabling it to learn from past </span>\n",
       "<span style=\"color: #008000; text-decoration-color: #008000\">actions and improve future outputs.\\n\\n3. **Response Generation**: After performing tasks, the LLM summarizes the </span>\n",
       "<span style=\"color: #008000; text-decoration-color: #008000\">execution results for the user, facilitating clear communication of outcomes.\\n\\nDespite their capabilities, LLMs </span>\n",
       "<span style=\"color: #008000; text-decoration-color: #008000\">face challenges, such as ensuring reliability in their outputs and effectively managing interactions with external </span>\n",
       "<span style=\"color: #008000; text-decoration-color: #008000\">tools and APIs. Issues like formatting errors and inconsistent behavior can arise, necessitating careful design of </span>\n",
       "<span style=\"color: #008000; text-decoration-color: #008000\">the systems that incorporate these models. Overall, LLMs represent a powerful computational tool for various </span>\n",
       "<span style=\"color: #008000; text-decoration-color: #008000\">natural language processing tasks and beyond.\\n\\nQuestion: What are the essential components required for building </span>\n",
       "<span style=\"color: #008000; text-decoration-color: #008000\">an autonomous agent system?  \\nAnswer:\\nTo build an autonomous agent system, several essential components are </span>\n",
       "<span style=\"color: #008000; text-decoration-color: #008000\">required:\\n\\n1. **Planning**: The agent must be capable of breaking down complex tasks into smaller, manageable </span>\n",
       "<span style=\"color: #008000; text-decoration-color: #008000\">subgoals. This involves task decomposition, often enhanced through techniques like the chain of thought (CoT) </span>\n",
       "<span style=\"color: #008000; text-decoration-color: #008000\">prompting, which encourages the model to think step by step during the execution of tasks.\\n\\n2. **Reflection and </span>\n",
       "<span style=\"color: #008000; text-decoration-color: #008000\">Refinement**: The agent should possess the ability to self-reflect on its past actions, learn from mistakes, and </span>\n",
       "<span style=\"color: #008000; text-decoration-color: #008000\">refine its future strategies. This self-critical capability improves the quality and effectiveness of the agent\\'s </span>\n",
       "<span style=\"color: #008000; text-decoration-color: #008000\">outputs over time.\\n\\n3. **Memory**: Maintaining a memory system is crucial for remembering past interactions and </span>\n",
       "<span style=\"color: #008000; text-decoration-color: #008000\">decisions, allowing the agent to have context and continuity in its actions. This component aids in enhancing </span>\n",
       "<span style=\"color: #008000; text-decoration-color: #008000\">conversations and task management by recalling previous states and objectives.\\n\\n4. **Response Generation**: After</span>\n",
       "<span style=\"color: #008000; text-decoration-color: #008000\">completing tasks, the agent needs to generate clear and concise responses or summaries of its actions. This helps </span>\n",
       "<span style=\"color: #008000; text-decoration-color: #008000\">communicate the outcomes effectively to users or other systems.\\n\\nIncorporating these components allows for the </span>\n",
       "<span style=\"color: #008000; text-decoration-color: #008000\">creation of sophisticated autonomous agents that can perform tasks independently, adaptively, and in a </span>\n",
       "<span style=\"color: #008000; text-decoration-color: #008000\">context-aware manner.\\n\\nQuestion: How do LLMs integrate with other technologies in an autonomous system?  </span>\n",
       "<span style=\"color: #008000; text-decoration-color: #008000\">\\nAnswer:\\nLarge language models (LLMs) integrate with other technologies in an autonomous system by serving as the</span>\n",
       "<span style=\"color: #008000; text-decoration-color: #008000\">core controller—often referred to as the \"brain\"—and collaborating with various essential components that enhance </span>\n",
       "<span style=\"color: #008000; text-decoration-color: #008000\">the system\\'s capabilities. This integration is foundational in enabling the autonomous agents to perform complex </span>\n",
       "<span style=\"color: #008000; text-decoration-color: #008000\">tasks effectively. Here are key ways LLMs integrate with other technologies in such systems:\\n\\n1. **Planning**: </span>\n",
       "<span style=\"color: #008000; text-decoration-color: #008000\">LLMs enable task decomposition, breaking down complex goals into smaller, manageable subgoals. This is often </span>\n",
       "<span style=\"color: #008000; text-decoration-color: #008000\">achieved using techniques like the Chain of Thought (CoT) prompting, which encourages the model to think </span>\n",
       "<span style=\"color: #008000; text-decoration-color: #008000\">step-by-step. Additionally, LLMs can interface with external planning tools. For instance, they can utilize </span>\n",
       "<span style=\"color: #008000; text-decoration-color: #008000\">classical planning methods through the Planning Domain Definition Language (PDDL), where an LLM translates a </span>\n",
       "<span style=\"color: #008000; text-decoration-color: #008000\">problem into PDDL, requests a classical planner to generate a plan, and then translates that plan back into natural</span>\n",
       "<span style=\"color: #008000; text-decoration-color: #008000\">language.\\n\\n2. **Reflection and Refinement**: LLMs are equipped with self-reflection functionalities, allowing </span>\n",
       "<span style=\"color: #008000; text-decoration-color: #008000\">them to learn from past actions and refine their future strategies. This iterative improvement process is crucial </span>\n",
       "<span style=\"color: #008000; text-decoration-color: #008000\">for adapting to new challenges and correcting previous mistakes, thus enhancing the system\\'s overall </span>\n",
       "<span style=\"color: #008000; text-decoration-color: #008000\">performance.\\n\\n3. **Memory Systems**: To maintain context and continuity, LLMs may integrate with memory </span>\n",
       "<span style=\"color: #008000; text-decoration-color: #008000\">technologies. These systems keep track of past interactions, decisions, and states, providing the LLM with the </span>\n",
       "<span style=\"color: #008000; text-decoration-color: #008000\">necessary context to make informed decisions as it engages in tasks.\\n\\n4. **Response Generation and </span>\n",
       "<span style=\"color: #008000; text-decoration-color: #008000\">Communication**: After completing tasks, LLMs are responsible for generating clear and concise summaries or </span>\n",
       "<span style=\"color: #008000; text-decoration-color: #008000\">responses. This communication capability is vital for allowing users or other systems to understand the outcomes of</span>\n",
       "<span style=\"color: #008000; text-decoration-color: #008000\">the agent\\'s actions effectively.\\n\\n5. **Reliability and Integration with External Tools**: The integration of </span>\n",
       "<span style=\"color: #008000; text-decoration-color: #008000\">LLMs with other components also involves addressing reliability concerns. Since the natural language outputs of </span>\n",
       "<span style=\"color: #008000; text-decoration-color: #008000\">LLMs can sometimes be prone to errors, careful design is needed to parse and manage these outputs effectively, </span>\n",
       "<span style=\"color: #008000; text-decoration-color: #008000\">ensuring that the LLM can interact reliably with external tools and APIs.\\n\\nIn summary, LLMs in autonomous systems</span>\n",
       "<span style=\"color: #008000; text-decoration-color: #008000\">serve as central units that collaborate with planning mechanisms, memory systems, and other technologies to create </span>\n",
       "<span style=\"color: #008000; text-decoration-color: #008000\">adaptable, context-aware agents capable of performing complex tasks autonomously.\\n\\n'</span>,\n",
       "        <span style=\"color: #008000; text-decoration-color: #008000\">'current_question_idx'</span>: <span style=\"color: #008080; text-decoration-color: #008080; font-weight: bold\">3</span>\n",
       "    <span style=\"font-weight: bold\">}</span>\n",
       "<span style=\"font-weight: bold\">}</span>\n",
       "</pre>\n"
      ],
      "text/plain": [
       "\u001b[1m{\u001b[0m\n",
       "    \u001b[32m'generate_answer'\u001b[0m: \u001b[1m{\u001b[0m\n",
       "        \u001b[32m'qa_pairs'\u001b[0m: \u001b[32m'Question: What is a large language model \u001b[0m\u001b[32m(\u001b[0m\u001b[32mLLM\u001b[0m\u001b[32m)\u001b[0m\u001b[32m and how does it function?  \\nAnswer:\\nA large \u001b[0m\n",
       "\u001b[32mlanguage model \u001b[0m\u001b[32m(\u001b[0m\u001b[32mLLM\u001b[0m\u001b[32m)\u001b[0m\u001b[32m is an advanced artificial intelligence system designed to understand and generate human-like \u001b[0m\n",
       "\u001b[32mtext based on the input it receives. It functions by utilizing deep learning techniques, particularly neural \u001b[0m\n",
       "\u001b[32mnetworks, to analyze vast amounts of text data, which allows it to learn language patterns, grammar, facts, and \u001b[0m\n",
       "\u001b[32mvarious forms of knowledge. \\n\\nLLMs operate on the principles of probabilistic modeling, where they calculate the \u001b[0m\n",
       "\u001b[32mprobability of a word or phrase occurring in a given context and generate responses accordingly. They are often \u001b[0m\n",
       "\u001b[32mused in various applications such as text generation, translation, summarization, and even problem-solving \u001b[0m\n",
       "\u001b[32mtasks.\\n\\nIn an LLM-powered autonomous agent system, the LLM acts as the core controller or \"brain\" of the agent. \u001b[0m\n",
       "\u001b[32mIt is complemented by several key components, including:\\n\\n1. **Planning**: The LLM can break down large tasks \u001b[0m\n",
       "\u001b[32minto smaller, manageable subgoals, allowing it to tackle complex tasks more efficiently.\\n   \\n2. **Reflection and \u001b[0m\n",
       "\u001b[32mRefinement**: The model has the capability for self-criticism and reflection, enabling it to learn from past \u001b[0m\n",
       "\u001b[32mactions and improve future outputs.\\n\\n3. **Response Generation**: After performing tasks, the LLM summarizes the \u001b[0m\n",
       "\u001b[32mexecution results for the user, facilitating clear communication of outcomes.\\n\\nDespite their capabilities, LLMs \u001b[0m\n",
       "\u001b[32mface challenges, such as ensuring reliability in their outputs and effectively managing interactions with external \u001b[0m\n",
       "\u001b[32mtools and APIs. Issues like formatting errors and inconsistent behavior can arise, necessitating careful design of \u001b[0m\n",
       "\u001b[32mthe systems that incorporate these models. Overall, LLMs represent a powerful computational tool for various \u001b[0m\n",
       "\u001b[32mnatural language processing tasks and beyond.\\n\\nQuestion: What are the essential components required for building \u001b[0m\n",
       "\u001b[32man autonomous agent system?  \\nAnswer:\\nTo build an autonomous agent system, several essential components are \u001b[0m\n",
       "\u001b[32mrequired:\\n\\n1. **Planning**: The agent must be capable of breaking down complex tasks into smaller, manageable \u001b[0m\n",
       "\u001b[32msubgoals. This involves task decomposition, often enhanced through techniques like the chain of thought \u001b[0m\u001b[32m(\u001b[0m\u001b[32mCoT\u001b[0m\u001b[32m)\u001b[0m\u001b[32m \u001b[0m\n",
       "\u001b[32mprompting, which encourages the model to think step by step during the execution of tasks.\\n\\n2. **Reflection and \u001b[0m\n",
       "\u001b[32mRefinement**: The agent should possess the ability to self-reflect on its past actions, learn from mistakes, and \u001b[0m\n",
       "\u001b[32mrefine its future strategies. This self-critical capability improves the quality and effectiveness of the agent\\'s \u001b[0m\n",
       "\u001b[32moutputs over time.\\n\\n3. **Memory**: Maintaining a memory system is crucial for remembering past interactions and \u001b[0m\n",
       "\u001b[32mdecisions, allowing the agent to have context and continuity in its actions. This component aids in enhancing \u001b[0m\n",
       "\u001b[32mconversations and task management by recalling previous states and objectives.\\n\\n4. **Response Generation**: After\u001b[0m\n",
       "\u001b[32mcompleting tasks, the agent needs to generate clear and concise responses or summaries of its actions. This helps \u001b[0m\n",
       "\u001b[32mcommunicate the outcomes effectively to users or other systems.\\n\\nIncorporating these components allows for the \u001b[0m\n",
       "\u001b[32mcreation of sophisticated autonomous agents that can perform tasks independently, adaptively, and in a \u001b[0m\n",
       "\u001b[32mcontext-aware manner.\\n\\nQuestion: How do LLMs integrate with other technologies in an autonomous system?  \u001b[0m\n",
       "\u001b[32m\\nAnswer:\\nLarge language models \u001b[0m\u001b[32m(\u001b[0m\u001b[32mLLMs\u001b[0m\u001b[32m)\u001b[0m\u001b[32m integrate with other technologies in an autonomous system by serving as the\u001b[0m\n",
       "\u001b[32mcore controller—often referred to as the \"brain\"—and collaborating with various essential components that enhance \u001b[0m\n",
       "\u001b[32mthe system\\'s capabilities. This integration is foundational in enabling the autonomous agents to perform complex \u001b[0m\n",
       "\u001b[32mtasks effectively. Here are key ways LLMs integrate with other technologies in such systems:\\n\\n1. **Planning**: \u001b[0m\n",
       "\u001b[32mLLMs enable task decomposition, breaking down complex goals into smaller, manageable subgoals. This is often \u001b[0m\n",
       "\u001b[32machieved using techniques like the Chain of Thought \u001b[0m\u001b[32m(\u001b[0m\u001b[32mCoT\u001b[0m\u001b[32m)\u001b[0m\u001b[32m prompting, which encourages the model to think \u001b[0m\n",
       "\u001b[32mstep-by-step. Additionally, LLMs can interface with external planning tools. For instance, they can utilize \u001b[0m\n",
       "\u001b[32mclassical planning methods through the Planning Domain Definition Language \u001b[0m\u001b[32m(\u001b[0m\u001b[32mPDDL\u001b[0m\u001b[32m)\u001b[0m\u001b[32m, where an LLM translates a \u001b[0m\n",
       "\u001b[32mproblem into PDDL, requests a classical planner to generate a plan, and then translates that plan back into natural\u001b[0m\n",
       "\u001b[32mlanguage.\\n\\n2. **Reflection and Refinement**: LLMs are equipped with self-reflection functionalities, allowing \u001b[0m\n",
       "\u001b[32mthem to learn from past actions and refine their future strategies. This iterative improvement process is crucial \u001b[0m\n",
       "\u001b[32mfor adapting to new challenges and correcting previous mistakes, thus enhancing the system\\'s overall \u001b[0m\n",
       "\u001b[32mperformance.\\n\\n3. **Memory Systems**: To maintain context and continuity, LLMs may integrate with memory \u001b[0m\n",
       "\u001b[32mtechnologies. These systems keep track of past interactions, decisions, and states, providing the LLM with the \u001b[0m\n",
       "\u001b[32mnecessary context to make informed decisions as it engages in tasks.\\n\\n4. **Response Generation and \u001b[0m\n",
       "\u001b[32mCommunication**: After completing tasks, LLMs are responsible for generating clear and concise summaries or \u001b[0m\n",
       "\u001b[32mresponses. This communication capability is vital for allowing users or other systems to understand the outcomes of\u001b[0m\n",
       "\u001b[32mthe agent\\'s actions effectively.\\n\\n5. **Reliability and Integration with External Tools**: The integration of \u001b[0m\n",
       "\u001b[32mLLMs with other components also involves addressing reliability concerns. Since the natural language outputs of \u001b[0m\n",
       "\u001b[32mLLMs can sometimes be prone to errors, careful design is needed to parse and manage these outputs effectively, \u001b[0m\n",
       "\u001b[32mensuring that the LLM can interact reliably with external tools and APIs.\\n\\nIn summary, LLMs in autonomous systems\u001b[0m\n",
       "\u001b[32mserve as central units that collaborate with planning mechanisms, memory systems, and other technologies to create \u001b[0m\n",
       "\u001b[32madaptable, context-aware agents capable of performing complex tasks autonomously.\\n\\n'\u001b[0m,\n",
       "        \u001b[32m'current_question_idx'\u001b[0m: \u001b[1;36m3\u001b[0m\n",
       "    \u001b[1m}\u001b[0m\n",
       "\u001b[1m}\u001b[0m\n"
      ]
     },
     "metadata": {},
     "output_type": "display_data"
    },
    {
     "data": {
      "text/html": [
       "<pre style=\"white-space:pre;overflow-x:auto;line-height:normal;font-family:Menlo,'DejaVu Sans Mono',consolas,'Courier New',monospace\"><span style=\"font-weight: bold\">{</span>\n",
       "    <span style=\"color: #008000; text-decoration-color: #008000\">'retrieve_docs'</span>: <span style=\"font-weight: bold\">{</span>\n",
       "        <span style=\"color: #008000; text-decoration-color: #008000\">'context'</span>: <span style=\"font-weight: bold\">[</span>\n",
       "            <span style=\"color: #800080; text-decoration-color: #800080; font-weight: bold\">Document</span><span style=\"font-weight: bold\">(</span>\n",
       "                <span style=\"color: #808000; text-decoration-color: #808000\">id</span>=<span style=\"color: #008000; text-decoration-color: #008000\">'722e6b6b-580c-4ac0-9e9c-9377b0d6914f'</span>,\n",
       "                <span style=\"color: #808000; text-decoration-color: #808000\">metadata</span>=<span style=\"font-weight: bold\">{</span><span style=\"color: #008000; text-decoration-color: #008000\">'source'</span>: <span style=\"color: #008000; text-decoration-color: #008000\">'https://lilianweng.github.io/posts/2023-06-23-agent/'</span><span style=\"font-weight: bold\">}</span>,\n",
       "                <span style=\"color: #808000; text-decoration-color: #808000\">page_content</span>=<span style=\"color: #008000; text-decoration-color: #008000\">'LLM Powered Autonomous Agents\\n    \\nDate: June 23, 2023  |  Estimated Reading Time: </span>\n",
       "<span style=\"color: #008000; text-decoration-color: #008000\">31 min  |  Author: Lilian Weng\\n\\n\\nBuilding agents with LLM (large language model) as its core controller is a </span>\n",
       "<span style=\"color: #008000; text-decoration-color: #008000\">cool concept. Several proof-of-concepts demos, such as AutoGPT, GPT-Engineer and BabyAGI, serve as inspiring </span>\n",
       "<span style=\"color: #008000; text-decoration-color: #008000\">examples. The potentiality of LLM extends beyond generating well-written copies, stories, essays and programs; it </span>\n",
       "<span style=\"color: #008000; text-decoration-color: #008000\">can be framed as a powerful general problem solver.\\nAgent System Overview#\\nIn a LLM-powered autonomous agent </span>\n",
       "<span style=\"color: #008000; text-decoration-color: #008000\">system, LLM functions as the agent’s brain, complemented by several key components:\\n\\nPlanning\\n\\nSubgoal and </span>\n",
       "<span style=\"color: #008000; text-decoration-color: #008000\">decomposition: The agent breaks down large tasks into smaller, manageable subgoals, enabling efficient handling of </span>\n",
       "<span style=\"color: #008000; text-decoration-color: #008000\">complex tasks.\\nReflection and refinement: The agent can do self-criticism and self-reflection over past actions, </span>\n",
       "<span style=\"color: #008000; text-decoration-color: #008000\">learn from mistakes and refine them for future steps, thereby improving the quality of final results.\\n\\n\\nMemory'</span>\n",
       "            <span style=\"font-weight: bold\">)</span>,\n",
       "            <span style=\"color: #800080; text-decoration-color: #800080; font-weight: bold\">Document</span><span style=\"font-weight: bold\">(</span>\n",
       "                <span style=\"color: #808000; text-decoration-color: #808000\">id</span>=<span style=\"color: #008000; text-decoration-color: #008000\">'c8dba136-1894-422b-990e-9e2ffd92fb9c'</span>,\n",
       "                <span style=\"color: #808000; text-decoration-color: #808000\">metadata</span>=<span style=\"font-weight: bold\">{</span><span style=\"color: #008000; text-decoration-color: #008000\">'source'</span>: <span style=\"color: #008000; text-decoration-color: #008000\">'https://lilianweng.github.io/posts/2023-06-23-agent/'</span><span style=\"font-weight: bold\">}</span>,\n",
       "                <span style=\"color: #808000; text-decoration-color: #808000\">page_content</span>=<span style=\"color: #008000; text-decoration-color: #008000\">'Fig. 1. Overview of a LLM-powered autonomous agent system.\\nComponent One: </span>\n",
       "<span style=\"color: #008000; text-decoration-color: #008000\">Planning#\\nA complicated task usually involves many steps. An agent needs to know what they are and plan </span>\n",
       "<span style=\"color: #008000; text-decoration-color: #008000\">ahead.\\nTask Decomposition#\\nChain of thought (CoT; Wei et al. 2022) has become a standard prompting technique for </span>\n",
       "<span style=\"color: #008000; text-decoration-color: #008000\">enhancing model performance on complex tasks. The model is instructed to “think step by step” to utilize more </span>\n",
       "<span style=\"color: #008000; text-decoration-color: #008000\">test-time computation to decompose hard tasks into smaller and simpler steps. CoT transforms big tasks into </span>\n",
       "<span style=\"color: #008000; text-decoration-color: #008000\">multiple manageable tasks and shed lights into an interpretation of the model’s thinking process.'</span>\n",
       "            <span style=\"font-weight: bold\">)</span>,\n",
       "            <span style=\"color: #800080; text-decoration-color: #800080; font-weight: bold\">Document</span><span style=\"font-weight: bold\">(</span>\n",
       "                <span style=\"color: #808000; text-decoration-color: #808000\">id</span>=<span style=\"color: #008000; text-decoration-color: #008000\">'8c6aba8b-17dc-44df-b269-f2de039f9e2b'</span>,\n",
       "                <span style=\"color: #808000; text-decoration-color: #808000\">metadata</span>=<span style=\"font-weight: bold\">{</span><span style=\"color: #008000; text-decoration-color: #008000\">'source'</span>: <span style=\"color: #008000; text-decoration-color: #008000\">'https://lilianweng.github.io/posts/2023-06-23-agent/'</span><span style=\"font-weight: bold\">}</span>,\n",
       "                <span style=\"color: #808000; text-decoration-color: #808000\">page_content</span>=<span style=\"color: #008000; text-decoration-color: #008000\">'Reliability of natural language interface: Current agent system relies on natural </span>\n",
       "<span style=\"color: #008000; text-decoration-color: #008000\">language as an interface between LLMs and external components such as memory and tools. However, the reliability of</span>\n",
       "<span style=\"color: #008000; text-decoration-color: #008000\">model outputs is questionable, as LLMs may make formatting errors and occasionally exhibit rebellious behavior </span>\n",
       "<span style=\"color: #008000; text-decoration-color: #008000\">(e.g. refuse to follow an instruction). Consequently, much of the agent demo code focuses on parsing model </span>\n",
       "<span style=\"color: #008000; text-decoration-color: #008000\">output.\\n\\n\\nCitation#\\nCited as:\\n\\nWeng, Lilian. (Jun 2023). “LLM-powered Autonomous Agents”. Lil’Log. </span>\n",
       "<span style=\"color: #008000; text-decoration-color: #008000\">https://lilianweng.github.io/posts/2023-06-23-agent/.'</span>\n",
       "            <span style=\"font-weight: bold\">)</span>,\n",
       "            <span style=\"color: #800080; text-decoration-color: #800080; font-weight: bold\">Document</span><span style=\"font-weight: bold\">(</span>\n",
       "                <span style=\"color: #808000; text-decoration-color: #808000\">id</span>=<span style=\"color: #008000; text-decoration-color: #008000\">'5302075d-9342-43b9-936e-4db7b2c4423f'</span>,\n",
       "                <span style=\"color: #808000; text-decoration-color: #808000\">metadata</span>=<span style=\"font-weight: bold\">{</span><span style=\"color: #008000; text-decoration-color: #008000\">'source'</span>: <span style=\"color: #008000; text-decoration-color: #008000\">'https://lilianweng.github.io/posts/2023-06-23-agent/'</span><span style=\"font-weight: bold\">}</span>,\n",
       "                <span style=\"color: #808000; text-decoration-color: #808000\">page_content</span>=<span style=\"color: #008000; text-decoration-color: #008000\">'Fig. 13. The generative agent architecture. (Image source: Park et al. 2023)\\nThis </span>\n",
       "<span style=\"color: #008000; text-decoration-color: #008000\">fun simulation results in emergent social behavior, such as information diffusion, relationship memory (e.g. two </span>\n",
       "<span style=\"color: #008000; text-decoration-color: #008000\">agents continuing the conversation topic) and coordination of social events (e.g. host a party and invite many </span>\n",
       "<span style=\"color: #008000; text-decoration-color: #008000\">others).\\nProof-of-Concept Examples#\\nAutoGPT has drawn a lot of attention into the possibility of setting up </span>\n",
       "<span style=\"color: #008000; text-decoration-color: #008000\">autonomous agents with LLM as the main controller. It has quite a lot of reliability issues given the natural </span>\n",
       "<span style=\"color: #008000; text-decoration-color: #008000\">language interface, but nevertheless a cool proof-of-concept demo. A lot of code in AutoGPT is about format </span>\n",
       "<span style=\"color: #008000; text-decoration-color: #008000\">parsing.\\nHere is the system message used by AutoGPT, where {{...}} are user inputs:\\nYou are {{ai-name}}, </span>\n",
       "<span style=\"color: #008000; text-decoration-color: #008000\">{{user-provided AI bot description}}.\\nYour decisions must always be made independently without seeking user </span>\n",
       "<span style=\"color: #008000; text-decoration-color: #008000\">assistance. Play to your strengths as an LLM and pursue simple strategies with no legal complications.\\n\\nGOALS:'</span>\n",
       "            <span style=\"font-weight: bold\">)</span>\n",
       "        <span style=\"font-weight: bold\">]</span>\n",
       "    <span style=\"font-weight: bold\">}</span>\n",
       "<span style=\"font-weight: bold\">}</span>\n",
       "</pre>\n"
      ],
      "text/plain": [
       "\u001b[1m{\u001b[0m\n",
       "    \u001b[32m'retrieve_docs'\u001b[0m: \u001b[1m{\u001b[0m\n",
       "        \u001b[32m'context'\u001b[0m: \u001b[1m[\u001b[0m\n",
       "            \u001b[1;35mDocument\u001b[0m\u001b[1m(\u001b[0m\n",
       "                \u001b[33mid\u001b[0m=\u001b[32m'722e6b6b-580c-4ac0-9e9c-9377b0d6914f'\u001b[0m,\n",
       "                \u001b[33mmetadata\u001b[0m=\u001b[1m{\u001b[0m\u001b[32m'source'\u001b[0m: \u001b[32m'https://lilianweng.github.io/posts/2023-06-23-agent/'\u001b[0m\u001b[1m}\u001b[0m,\n",
       "                \u001b[33mpage_content\u001b[0m=\u001b[32m'LLM Powered Autonomous Agents\\n    \\nDate: June 23, 2023  |  Estimated Reading Time: \u001b[0m\n",
       "\u001b[32m31 min  |  Author: Lilian Weng\\n\\n\\nBuilding agents with LLM \u001b[0m\u001b[32m(\u001b[0m\u001b[32mlarge language model\u001b[0m\u001b[32m)\u001b[0m\u001b[32m as its core controller is a \u001b[0m\n",
       "\u001b[32mcool concept. Several proof-of-concepts demos, such as AutoGPT, GPT-Engineer and BabyAGI, serve as inspiring \u001b[0m\n",
       "\u001b[32mexamples. The potentiality of LLM extends beyond generating well-written copies, stories, essays and programs; it \u001b[0m\n",
       "\u001b[32mcan be framed as a powerful general problem solver.\\nAgent System Overview#\\nIn a LLM-powered autonomous agent \u001b[0m\n",
       "\u001b[32msystem, LLM functions as the agent’s brain, complemented by several key components:\\n\\nPlanning\\n\\nSubgoal and \u001b[0m\n",
       "\u001b[32mdecomposition: The agent breaks down large tasks into smaller, manageable subgoals, enabling efficient handling of \u001b[0m\n",
       "\u001b[32mcomplex tasks.\\nReflection and refinement: The agent can do self-criticism and self-reflection over past actions, \u001b[0m\n",
       "\u001b[32mlearn from mistakes and refine them for future steps, thereby improving the quality of final results.\\n\\n\\nMemory'\u001b[0m\n",
       "            \u001b[1m)\u001b[0m,\n",
       "            \u001b[1;35mDocument\u001b[0m\u001b[1m(\u001b[0m\n",
       "                \u001b[33mid\u001b[0m=\u001b[32m'c8dba136-1894-422b-990e-9e2ffd92fb9c'\u001b[0m,\n",
       "                \u001b[33mmetadata\u001b[0m=\u001b[1m{\u001b[0m\u001b[32m'source'\u001b[0m: \u001b[32m'https://lilianweng.github.io/posts/2023-06-23-agent/'\u001b[0m\u001b[1m}\u001b[0m,\n",
       "                \u001b[33mpage_content\u001b[0m=\u001b[32m'Fig. 1. Overview of a LLM-powered autonomous agent system.\\nComponent One: \u001b[0m\n",
       "\u001b[32mPlanning#\\nA complicated task usually involves many steps. An agent needs to know what they are and plan \u001b[0m\n",
       "\u001b[32mahead.\\nTask Decomposition#\\nChain of thought \u001b[0m\u001b[32m(\u001b[0m\u001b[32mCoT; Wei et al. 2022\u001b[0m\u001b[32m)\u001b[0m\u001b[32m has become a standard prompting technique for \u001b[0m\n",
       "\u001b[32menhancing model performance on complex tasks. The model is instructed to “think step by step” to utilize more \u001b[0m\n",
       "\u001b[32mtest-time computation to decompose hard tasks into smaller and simpler steps. CoT transforms big tasks into \u001b[0m\n",
       "\u001b[32mmultiple manageable tasks and shed lights into an interpretation of the model’s thinking process.'\u001b[0m\n",
       "            \u001b[1m)\u001b[0m,\n",
       "            \u001b[1;35mDocument\u001b[0m\u001b[1m(\u001b[0m\n",
       "                \u001b[33mid\u001b[0m=\u001b[32m'8c6aba8b-17dc-44df-b269-f2de039f9e2b'\u001b[0m,\n",
       "                \u001b[33mmetadata\u001b[0m=\u001b[1m{\u001b[0m\u001b[32m'source'\u001b[0m: \u001b[32m'https://lilianweng.github.io/posts/2023-06-23-agent/'\u001b[0m\u001b[1m}\u001b[0m,\n",
       "                \u001b[33mpage_content\u001b[0m=\u001b[32m'Reliability of natural language interface: Current agent system relies on natural \u001b[0m\n",
       "\u001b[32mlanguage as an interface between LLMs and external components such as memory and tools. However, the reliability of\u001b[0m\n",
       "\u001b[32mmodel outputs is questionable, as LLMs may make formatting errors and occasionally exhibit rebellious behavior \u001b[0m\n",
       "\u001b[32m(\u001b[0m\u001b[32me.g. refuse to follow an instruction\u001b[0m\u001b[32m)\u001b[0m\u001b[32m. Consequently, much of the agent demo code focuses on parsing model \u001b[0m\n",
       "\u001b[32moutput.\\n\\n\\nCitation#\\nCited as:\\n\\nWeng, Lilian. \u001b[0m\u001b[32m(\u001b[0m\u001b[32mJun 2023\u001b[0m\u001b[32m)\u001b[0m\u001b[32m. “LLM-powered Autonomous Agents”. Lil’Log. \u001b[0m\n",
       "\u001b[32mhttps://lilianweng.github.io/posts/2023-06-23-agent/.'\u001b[0m\n",
       "            \u001b[1m)\u001b[0m,\n",
       "            \u001b[1;35mDocument\u001b[0m\u001b[1m(\u001b[0m\n",
       "                \u001b[33mid\u001b[0m=\u001b[32m'5302075d-9342-43b9-936e-4db7b2c4423f'\u001b[0m,\n",
       "                \u001b[33mmetadata\u001b[0m=\u001b[1m{\u001b[0m\u001b[32m'source'\u001b[0m: \u001b[32m'https://lilianweng.github.io/posts/2023-06-23-agent/'\u001b[0m\u001b[1m}\u001b[0m,\n",
       "                \u001b[33mpage_content\u001b[0m=\u001b[32m'Fig. 13. The generative agent architecture. \u001b[0m\u001b[32m(\u001b[0m\u001b[32mImage source: Park et al. 2023\u001b[0m\u001b[32m)\u001b[0m\u001b[32m\\nThis \u001b[0m\n",
       "\u001b[32mfun simulation results in emergent social behavior, such as information diffusion, relationship memory \u001b[0m\u001b[32m(\u001b[0m\u001b[32me.g. two \u001b[0m\n",
       "\u001b[32magents continuing the conversation topic\u001b[0m\u001b[32m)\u001b[0m\u001b[32m and coordination of social events \u001b[0m\u001b[32m(\u001b[0m\u001b[32me.g. host a party and invite many \u001b[0m\n",
       "\u001b[32mothers\u001b[0m\u001b[32m)\u001b[0m\u001b[32m.\\nProof-of-Concept Examples#\\nAutoGPT has drawn a lot of attention into the possibility of setting up \u001b[0m\n",
       "\u001b[32mautonomous agents with LLM as the main controller. It has quite a lot of reliability issues given the natural \u001b[0m\n",
       "\u001b[32mlanguage interface, but nevertheless a cool proof-of-concept demo. A lot of code in AutoGPT is about format \u001b[0m\n",
       "\u001b[32mparsing.\\nHere is the system message used by AutoGPT, where \u001b[0m\u001b[32m{\u001b[0m\u001b[32m{\u001b[0m\u001b[32m...\u001b[0m\u001b[32m}\u001b[0m\u001b[32m}\u001b[0m\u001b[32m are user inputs:\\nYou are \u001b[0m\u001b[32m{\u001b[0m\u001b[32m{\u001b[0m\u001b[32mai-name\u001b[0m\u001b[32m}\u001b[0m\u001b[32m}\u001b[0m\u001b[32m, \u001b[0m\n",
       "\u001b[32m{\u001b[0m\u001b[32m{\u001b[0m\u001b[32muser-provided AI bot description\u001b[0m\u001b[32m}\u001b[0m\u001b[32m}\u001b[0m\u001b[32m.\\nYour decisions must always be made independently without seeking user \u001b[0m\n",
       "\u001b[32massistance. Play to your strengths as an LLM and pursue simple strategies with no legal complications.\\n\\nGOALS:'\u001b[0m\n",
       "            \u001b[1m)\u001b[0m\n",
       "        \u001b[1m]\u001b[0m\n",
       "    \u001b[1m}\u001b[0m\n",
       "\u001b[1m}\u001b[0m\n"
      ]
     },
     "metadata": {},
     "output_type": "display_data"
    },
    {
     "name": "stdout",
     "output_type": "stream",
     "text": [
      "The main components of an LLM-powered autonomous agent system are:\n",
      "\n",
      "1. **Planning**: This component allows the agent to break down complex tasks into smaller, manageable subgoals. Techniques such as the Chain of Thought (CoT) prompting help in achieving this, enabling the agent to think step-by-step and approach tasks systematically.\n",
      "\n",
      "2. **Reflection and Refinement**: The agent possesses the ability to reflect on its past actions, learn from mistakes, and refine its strategies for future tasks. This self-critical capability improves the quality and effectiveness of the agent's output over time.\n",
      "\n",
      "3. **Memory**: A memory system is essential for maintaining context and continuity in the agent's actions. This allows the agent to remember past interactions and decisions, enhancing its ability to manage tasks and engage in conversations.\n",
      "\n",
      "4. **Response Generation**: After completing tasks, the agent generates clear and concise summaries of its actions. This communication capability is vital for effectively conveying outcomes to users or other systems.\n",
      "\n",
      "Each of these components plays a significant role in creating a sophisticated and adaptable autonomous agent that can perform tasks independently and contextually."
     ]
    },
    {
     "data": {
      "text/html": [
       "<pre style=\"white-space:pre;overflow-x:auto;line-height:normal;font-family:Menlo,'DejaVu Sans Mono',consolas,'Courier New',monospace\"><span style=\"font-weight: bold\">{</span>\n",
       "    <span style=\"color: #008000; text-decoration-color: #008000\">'generate_answer'</span>: <span style=\"font-weight: bold\">{</span>\n",
       "        <span style=\"color: #008000; text-decoration-color: #008000\">'answer'</span>: <span style=\"color: #008000; text-decoration-color: #008000\">\"The main components of an LLM-powered autonomous agent system are:\\n\\n1. **Planning**: This </span>\n",
       "<span style=\"color: #008000; text-decoration-color: #008000\">component allows the agent to break down complex tasks into smaller, manageable subgoals. Techniques such as the </span>\n",
       "<span style=\"color: #008000; text-decoration-color: #008000\">Chain of Thought (CoT) prompting help in achieving this, enabling the agent to think step-by-step and approach </span>\n",
       "<span style=\"color: #008000; text-decoration-color: #008000\">tasks systematically.\\n\\n2. **Reflection and Refinement**: The agent possesses the ability to reflect on its past </span>\n",
       "<span style=\"color: #008000; text-decoration-color: #008000\">actions, learn from mistakes, and refine its strategies for future tasks. This self-critical capability improves </span>\n",
       "<span style=\"color: #008000; text-decoration-color: #008000\">the quality and effectiveness of the agent's output over time.\\n\\n3. **Memory**: A memory system is essential for </span>\n",
       "<span style=\"color: #008000; text-decoration-color: #008000\">maintaining context and continuity in the agent's actions. This allows the agent to remember past interactions and </span>\n",
       "<span style=\"color: #008000; text-decoration-color: #008000\">decisions, enhancing its ability to manage tasks and engage in conversations.\\n\\n4. **Response Generation**: After </span>\n",
       "<span style=\"color: #008000; text-decoration-color: #008000\">completing tasks, the agent generates clear and concise summaries of its actions. This communication capability is </span>\n",
       "<span style=\"color: #008000; text-decoration-color: #008000\">vital for effectively conveying outcomes to users or other systems.\\n\\nEach of these components plays a significant</span>\n",
       "<span style=\"color: #008000; text-decoration-color: #008000\">role in creating a sophisticated and adaptable autonomous agent that can perform tasks independently and </span>\n",
       "<span style=\"color: #008000; text-decoration-color: #008000\">contextually.\"</span>\n",
       "    <span style=\"font-weight: bold\">}</span>\n",
       "<span style=\"font-weight: bold\">}</span>\n",
       "</pre>\n"
      ],
      "text/plain": [
       "\u001b[1m{\u001b[0m\n",
       "    \u001b[32m'generate_answer'\u001b[0m: \u001b[1m{\u001b[0m\n",
       "        \u001b[32m'answer'\u001b[0m: \u001b[32m\"The main components of an LLM-powered autonomous agent system are:\\n\\n1. **Planning**: This \u001b[0m\n",
       "\u001b[32mcomponent allows the agent to break down complex tasks into smaller, manageable subgoals. Techniques such as the \u001b[0m\n",
       "\u001b[32mChain of Thought \u001b[0m\u001b[32m(\u001b[0m\u001b[32mCoT\u001b[0m\u001b[32m)\u001b[0m\u001b[32m prompting help in achieving this, enabling the agent to think step-by-step and approach \u001b[0m\n",
       "\u001b[32mtasks systematically.\\n\\n2. **Reflection and Refinement**: The agent possesses the ability to reflect on its past \u001b[0m\n",
       "\u001b[32mactions, learn from mistakes, and refine its strategies for future tasks. This self-critical capability improves \u001b[0m\n",
       "\u001b[32mthe quality and effectiveness of the agent's output over time.\\n\\n3. **Memory**: A memory system is essential for \u001b[0m\n",
       "\u001b[32mmaintaining context and continuity in the agent's actions. This allows the agent to remember past interactions and \u001b[0m\n",
       "\u001b[32mdecisions, enhancing its ability to manage tasks and engage in conversations.\\n\\n4. **Response Generation**: After \u001b[0m\n",
       "\u001b[32mcompleting tasks, the agent generates clear and concise summaries of its actions. This communication capability is \u001b[0m\n",
       "\u001b[32mvital for effectively conveying outcomes to users or other systems.\\n\\nEach of these components plays a significant\u001b[0m\n",
       "\u001b[32mrole in creating a sophisticated and adaptable autonomous agent that can perform tasks independently and \u001b[0m\n",
       "\u001b[32mcontextually.\"\u001b[0m\n",
       "    \u001b[1m}\u001b[0m\n",
       "\u001b[1m}\u001b[0m\n"
      ]
     },
     "metadata": {},
     "output_type": "display_data"
    },
    {
     "data": {
      "text/html": [
       "<pre style=\"white-space:pre;overflow-x:auto;line-height:normal;font-family:Menlo,'DejaVu Sans Mono',consolas,'Courier New',monospace\">The main components of an LLM-powered autonomous agent system are:                                                 \n",
       "\n",
       "<span style=\"color: #808000; text-decoration-color: #808000; font-weight: bold\"> 1 </span><span style=\"font-weight: bold\">Planning</span>: This component allows the agent to break down complex tasks into smaller, manageable subgoals.        \n",
       "<span style=\"color: #808000; text-decoration-color: #808000; font-weight: bold\">   </span>Techniques such as the Chain of Thought (CoT) prompting help in achieving this, enabling the agent to think     \n",
       "<span style=\"color: #808000; text-decoration-color: #808000; font-weight: bold\">   </span>step-by-step and approach tasks systematically.                                                                 \n",
       "<span style=\"color: #808000; text-decoration-color: #808000; font-weight: bold\"> 2 </span><span style=\"font-weight: bold\">Reflection and Refinement</span>: The agent possesses the ability to reflect on its past actions, learn from mistakes, \n",
       "<span style=\"color: #808000; text-decoration-color: #808000; font-weight: bold\">   </span>and refine its strategies for future tasks. This self-critical capability improves the quality and effectiveness\n",
       "<span style=\"color: #808000; text-decoration-color: #808000; font-weight: bold\">   </span>of the agent's output over time.                                                                                \n",
       "<span style=\"color: #808000; text-decoration-color: #808000; font-weight: bold\"> 3 </span><span style=\"font-weight: bold\">Memory</span>: A memory system is essential for maintaining context and continuity in the agent's actions. This allows \n",
       "<span style=\"color: #808000; text-decoration-color: #808000; font-weight: bold\">   </span>the agent to remember past interactions and decisions, enhancing its ability to manage tasks and engage in      \n",
       "<span style=\"color: #808000; text-decoration-color: #808000; font-weight: bold\">   </span>conversations.                                                                                                  \n",
       "<span style=\"color: #808000; text-decoration-color: #808000; font-weight: bold\"> 4 </span><span style=\"font-weight: bold\">Response Generation</span>: After completing tasks, the agent generates clear and concise summaries of its actions.    \n",
       "<span style=\"color: #808000; text-decoration-color: #808000; font-weight: bold\">   </span>This communication capability is vital for effectively conveying outcomes to users or other systems.            \n",
       "\n",
       "Each of these components plays a significant role in creating a sophisticated and adaptable autonomous agent that  \n",
       "can perform tasks independently and contextually.                                                                  \n",
       "</pre>\n"
      ],
      "text/plain": [
       "The main components of an LLM-powered autonomous agent system are:                                                 \n",
       "\n",
       "\u001b[1;33m 1 \u001b[0m\u001b[1mPlanning\u001b[0m: This component allows the agent to break down complex tasks into smaller, manageable subgoals.        \n",
       "\u001b[1;33m   \u001b[0mTechniques such as the Chain of Thought (CoT) prompting help in achieving this, enabling the agent to think     \n",
       "\u001b[1;33m   \u001b[0mstep-by-step and approach tasks systematically.                                                                 \n",
       "\u001b[1;33m 2 \u001b[0m\u001b[1mReflection and Refinement\u001b[0m: The agent possesses the ability to reflect on its past actions, learn from mistakes, \n",
       "\u001b[1;33m   \u001b[0mand refine its strategies for future tasks. This self-critical capability improves the quality and effectiveness\n",
       "\u001b[1;33m   \u001b[0mof the agent's output over time.                                                                                \n",
       "\u001b[1;33m 3 \u001b[0m\u001b[1mMemory\u001b[0m: A memory system is essential for maintaining context and continuity in the agent's actions. This allows \n",
       "\u001b[1;33m   \u001b[0mthe agent to remember past interactions and decisions, enhancing its ability to manage tasks and engage in      \n",
       "\u001b[1;33m   \u001b[0mconversations.                                                                                                  \n",
       "\u001b[1;33m 4 \u001b[0m\u001b[1mResponse Generation\u001b[0m: After completing tasks, the agent generates clear and concise summaries of its actions.    \n",
       "\u001b[1;33m   \u001b[0mThis communication capability is vital for effectively conveying outcomes to users or other systems.            \n",
       "\n",
       "Each of these components plays a significant role in creating a sophisticated and adaptable autonomous agent that  \n",
       "can perform tasks independently and contextually.                                                                  \n"
      ]
     },
     "metadata": {},
     "output_type": "display_data"
    }
   ],
   "source": [
    "config = {\n",
    "    \"configurable\": {\n",
    "        \"max_generated_sub_questions_count\": 3\n",
    "    }\n",
    "}\n",
    "\n",
    "for stream_mode, event in graph.stream(\n",
    "    {\"question\": query}, \n",
    "    stream_mode=[\"messages\", \"updates\"],\n",
    "    config=config\n",
    "):\n",
    "    match stream_mode:\n",
    "        case \"messages\":\n",
    "            message, metadata = event\n",
    "            print(message.content, end=\"\", flush=True)\n",
    "        case \"updates\":\n",
    "            rprint(event)\n",
    "\n",
    "display(Markdown(event['generate_answer']['answer']))"
   ]
  }
 ],
 "metadata": {
  "kernelspec": {
   "display_name": "llm-rag",
   "language": "python",
   "name": "llm-rag"
  },
  "language_info": {
   "codemirror_mode": {
    "name": "ipython",
    "version": 3
   },
   "file_extension": ".py",
   "mimetype": "text/x-python",
   "name": "python",
   "nbconvert_exporter": "python",
   "pygments_lexer": "ipython3",
   "version": "3.11.11"
  }
 },
 "nbformat": 4,
 "nbformat_minor": 5
}
