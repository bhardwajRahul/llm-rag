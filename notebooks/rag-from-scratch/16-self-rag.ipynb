{
 "cells": [
  {
   "cell_type": "code",
   "execution_count": 1,
   "id": "48b36494-274b-43f4-a307-c1b9e5253b3e",
   "metadata": {},
   "outputs": [],
   "source": [
    "import os\n",
    "import re\n",
    "\n",
    "from dotenv import find_dotenv, load_dotenv\n",
    "from IPython.display import display, Image\n",
    "from rich import print as rprint\n",
    "from rich.markdown import Markdown\n",
    "from rich.pretty import Pretty\n",
    "from rich.text import Text"
   ]
  },
  {
   "cell_type": "code",
   "execution_count": 2,
   "id": "664bd98e-5d0b-48ef-857d-44d03b90fc95",
   "metadata": {},
   "outputs": [
    {
     "data": {
      "text/plain": [
       "True"
      ]
     },
     "execution_count": 2,
     "metadata": {},
     "output_type": "execute_result"
    }
   ],
   "source": [
    "load_dotenv(find_dotenv('.env'))"
   ]
  },
  {
   "cell_type": "code",
   "execution_count": 3,
   "id": "4c4c6966-8773-4f76-b912-e7a62752bc6e",
   "metadata": {},
   "outputs": [],
   "source": [
    "os.environ[\"LANGCHAIN_PROJECT\"] = \"RAG From Scratch: Part 16 (Generation - Self-RAG)\""
   ]
  },
  {
   "cell_type": "markdown",
   "id": "f3b60d17-f30f-44e5-b6b9-b7ecdbf8ceeb",
   "metadata": {},
   "source": [
    "# Generation"
   ]
  },
  {
   "cell_type": "markdown",
   "id": "0afc86a5-f35d-4516-bbbe-9736d5435a7c",
   "metadata": {},
   "source": [
    "![](images/generation.png)"
   ]
  },
  {
   "attachments": {},
   "cell_type": "markdown",
   "id": "8889a307-fa3f-4d38-9127-d41e4686ae47",
   "metadata": {},
   "source": [
    "# Self-RAG"
   ]
  },
  {
   "cell_type": "markdown",
   "id": "f30920b5-6d77-4e47-befb-4efff989cb9e",
   "metadata": {},
   "source": [
    "![](images/16-self-rag.png)"
   ]
  },
  {
   "cell_type": "markdown",
   "id": "549d826c-ad1d-4d65-8341-59dbac76053c",
   "metadata": {},
   "source": [
    "![](images/16-self-rag-implementation.png)"
   ]
  },
  {
   "cell_type": "markdown",
   "id": "19fd601f-39bd-454b-a21a-990a039811b8",
   "metadata": {},
   "source": [
    "## Configure components"
   ]
  },
  {
   "cell_type": "code",
   "execution_count": 4,
   "id": "a24f2640-f366-4df2-afd9-e5a0fc5bc4d2",
   "metadata": {},
   "outputs": [],
   "source": [
    "from langchain_openai import ChatOpenAI, OpenAIEmbeddings"
   ]
  },
  {
   "cell_type": "code",
   "execution_count": 5,
   "id": "af2d609f-8904-4c41-a029-817d1871a233",
   "metadata": {},
   "outputs": [
    {
     "data": {
      "text/plain": [
       "AIMessage(content='Hello! How can I assist you today?', additional_kwargs={'refusal': None}, response_metadata={'token_usage': {'completion_tokens': 10, 'prompt_tokens': 8, 'total_tokens': 18, 'completion_tokens_details': {'accepted_prediction_tokens': 0, 'audio_tokens': 0, 'reasoning_tokens': 0, 'rejected_prediction_tokens': 0}, 'prompt_tokens_details': {'audio_tokens': 0, 'cached_tokens': 0}}, 'model_name': 'gpt-4.1-mini-2025-04-14', 'system_fingerprint': 'fp_38647f5e19', 'id': 'chatcmpl-BQDpuUuq3GxM93181kPv9KAezyixR', 'finish_reason': 'stop', 'logprobs': None}, id='run-357964f7-f3aa-4974-9faa-d340e177cca9-0', usage_metadata={'input_tokens': 8, 'output_tokens': 10, 'total_tokens': 18, 'input_token_details': {'audio': 0, 'cache_read': 0}, 'output_token_details': {'audio': 0, 'reasoning': 0}})"
      ]
     },
     "execution_count": 5,
     "metadata": {},
     "output_type": "execute_result"
    }
   ],
   "source": [
    "llm = ChatOpenAI(\n",
    "    model=\"gpt-4.1-mini\",\n",
    "    temperature=1\n",
    ")\n",
    "llm.invoke(\"Hello\")"
   ]
  },
  {
   "cell_type": "code",
   "execution_count": 6,
   "id": "936c53fc-e31d-4948-8db0-c64072f2acf7",
   "metadata": {},
   "outputs": [
    {
     "data": {
      "text/plain": [
       "1536"
      ]
     },
     "execution_count": 6,
     "metadata": {},
     "output_type": "execute_result"
    }
   ],
   "source": [
    "embeddings = OpenAIEmbeddings(model=\"text-embedding-3-small\")\n",
    "len(embeddings.embed_query(\"Hello\"))"
   ]
  },
  {
   "cell_type": "markdown",
   "id": "5310364c-7f1b-4660-86f6-757f0cb81a42",
   "metadata": {},
   "source": [
    "## Load documents"
   ]
  },
  {
   "cell_type": "code",
   "execution_count": 7,
   "id": "efdb52b7-6d03-402a-a9e8-349b6afb8b7a",
   "metadata": {},
   "outputs": [
    {
     "name": "stderr",
     "output_type": "stream",
     "text": [
      "USER_AGENT environment variable not set, consider setting it to identify your requests.\n"
     ]
    }
   ],
   "source": [
    "import bs4\n",
    "from langchain_community.document_loaders import WebBaseLoader"
   ]
  },
  {
   "cell_type": "code",
   "execution_count": 8,
   "id": "33acb22b-4015-4cf8-b1ef-8341e607a598",
   "metadata": {},
   "outputs": [
    {
     "data": {
      "text/plain": [
       "3"
      ]
     },
     "execution_count": 8,
     "metadata": {},
     "output_type": "execute_result"
    }
   ],
   "source": [
    "articles = [\n",
    "    \"https://lilianweng.github.io/posts/2023-06-23-agent/\",\n",
    "    \"https://lilianweng.github.io/posts/2023-03-15-prompt-engineering/\",\n",
    "    \"https://lilianweng.github.io/posts/2023-10-25-adv-attack-llm/\",\n",
    "]\n",
    "\n",
    "loader = WebBaseLoader(\n",
    "    web_paths=articles,\n",
    "    bs_kwargs=dict(\n",
    "        parse_only=bs4.SoupStrainer(\n",
    "            class_=(\"post-content\", \"post-title\", \"post-header\")\n",
    "        )\n",
    "    ),\n",
    ")\n",
    "docs = loader.load()\n",
    "len(docs)"
   ]
  },
  {
   "cell_type": "code",
   "execution_count": 9,
   "id": "ef525ba0-bfd0-484f-82ec-4aa4ed213915",
   "metadata": {},
   "outputs": [
    {
     "name": "stdout",
     "output_type": "stream",
     "text": [
      "\n",
      "\n",
      "      LLM Powered Autonomous Agents\n",
      "    \n",
      "Date: June 23, 2023  |  Estimated Reading Time: 31 min  |  Author: Lilian Weng\n",
      "\n",
      "\n",
      "Building agents with LLM (large language model) as its core controller is a cool concept. Several proof-of-concepts demos, such as AutoGPT, GPT-Engineer and BabyAGI, serve as inspiring examples. The potentiality of LLM extends beyond generating well-written copies, stories, essays and programs; it can be framed as a powerful general problem solver.\n",
      "Agent System Overview#\n",
      "In a LLM-powered autonomous agent system, LLM functions as the agent’s brain, complemented by several key components:\n",
      "\n",
      "Planning\n",
      "\n",
      "Subgoal and decomposition: The agent breaks down large tasks into smaller, manageable subgoals, enabling efficient handling of complex tasks.\n",
      "Reflection and refinement: The agent can do self-criticism and self-reflection over past actions, learn from mistakes and refine them for future steps, thereby improving the quality of final results.\n",
      "\n",
      "\n",
      "Memory\n",
      "\n",
      "Short-term memory: I \n"
     ]
    }
   ],
   "source": [
    "print(docs[0].page_content[:1000])"
   ]
  },
  {
   "cell_type": "code",
   "execution_count": 10,
   "id": "a1a2d79a-83d1-4106-9b1f-9f9699cfb14f",
   "metadata": {},
   "outputs": [
    {
     "name": "stdout",
     "output_type": "stream",
     "text": [
      "\n",
      "\n",
      "      Prompt Engineering\n",
      "    \n",
      "Date: March 15, 2023  |  Estimated Reading Time: 21 min  |  Author: Lilian Weng\n",
      "\n",
      "\n",
      "Prompt Engineering, also known as In-Context Prompting, refers to methods for how to communicate with LLM to steer its behavior for desired outcomes without updating the model weights. It is an empirical science and the effect of prompt engineering methods can vary a lot among models, thus requiring heavy experimentation and heuristics.\n",
      "This post only focuses on prompt engineering for autoregressive language models, so nothing with Cloze tests, image generation or multimodality models. At its core, the goal of prompt engineering is about alignment and model steerability. Check my previous post on controllable text generation.\n",
      "[My personal spicy take] In my opinion, some prompt engineering papers are not worthy 8 pages long, since those tricks can be explained in one or a few sentences and the rest is all about benchmarking. An easy-to-use and shared benchmark infrastructure\n"
     ]
    }
   ],
   "source": [
    "print(docs[1].page_content[:1000])"
   ]
  },
  {
   "cell_type": "code",
   "execution_count": 11,
   "id": "4b320811-4089-4590-a499-24d701fb9b2e",
   "metadata": {},
   "outputs": [
    {
     "name": "stdout",
     "output_type": "stream",
     "text": [
      "\n",
      "\n",
      "      Adversarial Attacks on LLMs\n",
      "    \n",
      "Date: October 25, 2023  |  Estimated Reading Time: 33 min  |  Author: Lilian Weng\n",
      "\n",
      "\n",
      "The use of large language models in the real world has strongly accelerated by the launch of ChatGPT. We (including my team at OpenAI, shoutout to them) have invested a lot of effort to build default safe behavior into the model during the alignment process (e.g. via RLHF). However, adversarial attacks or jailbreak prompts could potentially trigger the model to output something undesired.\n",
      "A large body of ground work on adversarial attacks is on images, and differently it operates in the continuous, high-dimensional space. Attacks for discrete data like text have been considered to be a lot more challenging, due to lack of direct gradient signals. My past post on Controllable Text Generation is quite relevant to this topic, as attacking LLMs is essentially to control the model to output a certain type of (unsafe) content.\n",
      "There is also a branch of work on attackin\n"
     ]
    }
   ],
   "source": [
    "print(docs[2].page_content[:1000])"
   ]
  },
  {
   "cell_type": "markdown",
   "id": "c2efc2ed-bde8-4152-b867-a685b1543ddc",
   "metadata": {},
   "source": [
    "## Split documents"
   ]
  },
  {
   "cell_type": "code",
   "execution_count": 12,
   "id": "999dfbf7-07e8-4b7b-aeab-e3ad9f9b2347",
   "metadata": {},
   "outputs": [],
   "source": [
    "from langchain.text_splitter import RecursiveCharacterTextSplitter"
   ]
  },
  {
   "cell_type": "code",
   "execution_count": 13,
   "id": "b89d7902-b90f-4918-a20f-c90315d6d708",
   "metadata": {},
   "outputs": [
    {
     "data": {
      "text/plain": [
       "180"
      ]
     },
     "execution_count": 13,
     "metadata": {},
     "output_type": "execute_result"
    }
   ],
   "source": [
    "text_splitter = RecursiveCharacterTextSplitter(chunk_size=1000, chunk_overlap=0)\n",
    "splits = text_splitter.split_documents(docs)\n",
    "len(splits)"
   ]
  },
  {
   "cell_type": "markdown",
   "id": "00516264-bf6a-4972-b997-053aaf13c2a1",
   "metadata": {},
   "source": [
    "## Store documents"
   ]
  },
  {
   "cell_type": "code",
   "execution_count": 14,
   "id": "2676ca99-2159-4026-9015-415fd3188e3d",
   "metadata": {},
   "outputs": [],
   "source": [
    "from langchain_core.vectorstores import InMemoryVectorStore"
   ]
  },
  {
   "cell_type": "code",
   "execution_count": 15,
   "id": "5419c0e5-b712-41ae-82b9-c4a0a1a84fd6",
   "metadata": {},
   "outputs": [
    {
     "data": {
      "text/plain": [
       "(180, 180)"
      ]
     },
     "execution_count": 15,
     "metadata": {},
     "output_type": "execute_result"
    }
   ],
   "source": [
    "vectorstore = InMemoryVectorStore(embeddings)\n",
    "doc_ids = vectorstore.add_documents(documents=splits)\n",
    "len(doc_ids), len(vectorstore.store)"
   ]
  },
  {
   "cell_type": "code",
   "execution_count": 16,
   "id": "feb37e81-2999-480c-b504-7025ddf7a125",
   "metadata": {},
   "outputs": [],
   "source": [
    "retriever = vectorstore.as_retriever()"
   ]
  },
  {
   "cell_type": "markdown",
   "id": "3809144c-6bf0-4512-9fa3-520f981efd00",
   "metadata": {},
   "source": [
    "## RAG"
   ]
  },
  {
   "cell_type": "code",
   "execution_count": 17,
   "id": "31da3a96-cbb6-4749-b619-51b9cfed3161",
   "metadata": {},
   "outputs": [],
   "source": [
    "from typing import Annotated, Literal, TypedDict\n",
    "\n",
    "from langchain_community.tools.tavily_search import TavilySearchResults\n",
    "from langchain_core.documents import Document\n",
    "from langchain_core.messages import HumanMessage\n",
    "from langchain_core.runnables import chain\n",
    "from langgraph.graph import END, START, StateGraph\n",
    "from langgraph.types import Command\n",
    "from pydantic import BaseModel, Field"
   ]
  },
  {
   "cell_type": "code",
   "execution_count": 18,
   "id": "3bf3dc00-ccde-433d-9327-e7f52e03f1e0",
   "metadata": {},
   "outputs": [
    {
     "name": "stdout",
     "output_type": "stream",
     "text": [
      "You are grader assistant assessing the need to retrieve additional documents to answer the user's question.\n",
      "If you are sure that all the necessary data is available, then you do not need to retrieve additional documents.\n",
      "Give a binary score to indicate whether retrieval is required.\n",
      "\n",
      "User question:\n",
      "{question}\n",
      "\n"
     ]
    }
   ],
   "source": [
    "retrieval_prompt_template = \"\"\"You are grader assistant assessing the need to retrieve additional documents to answer the user's question.\n",
    "If you are sure that all the necessary data is available, then you do not need to retrieve additional documents.\n",
    "Give a binary score to indicate whether retrieval is required.\n",
    "\n",
    "User question:\n",
    "{question}\n",
    "\"\"\"\n",
    "print(retrieval_prompt_template)"
   ]
  },
  {
   "cell_type": "code",
   "execution_count": 19,
   "id": "1e3ce2f0-8fa2-413f-b065-a9fe06132508",
   "metadata": {},
   "outputs": [
    {
     "name": "stdout",
     "output_type": "stream",
     "text": [
      "Answer the following question based on this context:\n",
      "\n",
      "{context}\n",
      "\n",
      "Question: {question}\n",
      "\n"
     ]
    }
   ],
   "source": [
    "rag_prompt_template = \"\"\"Answer the following question based on this context:\n",
    "\n",
    "{context}\n",
    "\n",
    "Question: {question}\n",
    "\"\"\"\n",
    "print(rag_prompt_template)"
   ]
  },
  {
   "cell_type": "code",
   "execution_count": 20,
   "id": "6fed2035-c9d6-4759-8e07-e43f8e8a273b",
   "metadata": {},
   "outputs": [
    {
     "name": "stdout",
     "output_type": "stream",
     "text": [
      "Answer the following question:\n",
      "\n",
      "Question: {question}\n",
      "\n"
     ]
    }
   ],
   "source": [
    "answer_prompt_template = \"\"\"Answer the following question:\n",
    "\n",
    "Question: {question}\n",
    "\"\"\"\n",
    "print(answer_prompt_template)"
   ]
  },
  {
   "cell_type": "code",
   "execution_count": 21,
   "id": "cadb6159-49ac-4c41-bd78-c03a75fdecc4",
   "metadata": {},
   "outputs": [
    {
     "name": "stdout",
     "output_type": "stream",
     "text": [
      "I don't have an answer to the question.\n"
     ]
    }
   ],
   "source": [
    "no_answer_prompt = \"I don't have an answer to the question.\"\n",
    "print(no_answer_prompt)"
   ]
  },
  {
   "cell_type": "code",
   "execution_count": 22,
   "id": "dcffecf4-d9f4-437b-a014-82160a2b30fd",
   "metadata": {},
   "outputs": [
    {
     "name": "stdout",
     "output_type": "stream",
     "text": [
      "You are a grader assessing relevance of a retrieved document to a user question.\n",
      "It does not need to be a stringent test. The goal is to filter out erroneous retrievals.\n",
      "If the document contains keyword(s) or semantic meaning related to the user question, grade it as relevant.\n",
      "Give a binary score to indicate whether the document is relevant to the question.\n",
      "\n",
      "Retrieved document:\n",
      "{document}\n",
      "\n",
      "User question:\n",
      "{question}\n",
      "\n"
     ]
    }
   ],
   "source": [
    "relevance_grading_prompt_template = \"\"\"You are a grader assessing relevance of a retrieved document to a user question.\n",
    "It does not need to be a stringent test. The goal is to filter out erroneous retrievals.\n",
    "If the document contains keyword(s) or semantic meaning related to the user question, grade it as relevant.\n",
    "Give a binary score to indicate whether the document is relevant to the question.\n",
    "\n",
    "Retrieved document:\n",
    "{document}\n",
    "\n",
    "User question:\n",
    "{question}\n",
    "\"\"\"\n",
    "\n",
    "print(relevance_grading_prompt_template)"
   ]
  },
  {
   "cell_type": "code",
   "execution_count": 23,
   "id": "c94e2d5d-71e5-452e-bf4b-33c992e2b6f2",
   "metadata": {},
   "outputs": [
    {
     "name": "stdout",
     "output_type": "stream",
     "text": [
      "You are a grader assessing whether an LLM answer is grounded in / supported by a set of retrieved facts.\n",
      "Give a binary score whether the answer is grounded in / supported by the set of facts.\n",
      "\n",
      "Set of facts:\n",
      "{context}\n",
      "\n",
      "LLM answer:\n",
      "{answer}\n",
      "\n"
     ]
    }
   ],
   "source": [
    "hallucinations_grading_prompt_template = \"\"\"You are a grader assessing whether an LLM answer is grounded in / supported by a set of retrieved facts.\n",
    "Give a binary score whether the answer is grounded in / supported by the set of facts.\n",
    "\n",
    "Set of facts:\n",
    "{context}\n",
    "\n",
    "LLM answer:\n",
    "{answer}\n",
    "\"\"\"\n",
    "\n",
    "print(hallucinations_grading_prompt_template)"
   ]
  },
  {
   "cell_type": "code",
   "execution_count": 24,
   "id": "356f9fdf-b84f-4f9a-919a-f8bee7c65ea0",
   "metadata": {},
   "outputs": [
    {
     "name": "stdout",
     "output_type": "stream",
     "text": [
      "You are a grader assessing whether an answer addresses / resolves a question. \n",
      "Give a binary score whether the answer resolves the question.\n",
      "\n",
      "User question:\n",
      "{question}\n",
      "\n",
      "LLM answer:\n",
      "{answer}\n",
      "\n"
     ]
    }
   ],
   "source": [
    "answer_grading_prompt_template = \"\"\"You are a grader assessing whether an answer addresses / resolves a question. \n",
    "Give a binary score whether the answer resolves the question.\n",
    "\n",
    "User question:\n",
    "{question}\n",
    "\n",
    "LLM answer:\n",
    "{answer}\n",
    "\"\"\"\n",
    "\n",
    "print(answer_grading_prompt_template)"
   ]
  },
  {
   "cell_type": "code",
   "execution_count": 25,
   "id": "3fc800a2-62f1-4004-9dfb-b5fc427247e7",
   "metadata": {},
   "outputs": [
    {
     "name": "stdout",
     "output_type": "stream",
     "text": [
      "You a question re-writer that converts an input question to a better version that is optimized for web search. \n",
      "Look at the input and try to reason about the underlying semantic intent / meaning.\n",
      "\n",
      "Here is the initial question:\n",
      "{question}\n",
      "\n",
      "Formulate an improved question.\n"
     ]
    }
   ],
   "source": [
    "query_rewriting_prompt_template = \"\"\"You a question re-writer that converts an input question to a better version that is optimized for web search. \n",
    "Look at the input and try to reason about the underlying semantic intent / meaning.\n",
    "\n",
    "Here is the initial question:\n",
    "{question}\n",
    "\n",
    "Formulate an improved question.\"\"\"\n",
    "\n",
    "print(query_rewriting_prompt_template)"
   ]
  },
  {
   "cell_type": "code",
   "execution_count": 26,
   "id": "7ebb4e4c-a3ad-474c-9d85-cd2deb33a91b",
   "metadata": {},
   "outputs": [],
   "source": [
    "class RetrievalGrade(BaseModel):\n",
    "    \"\"\"Check if retrieval of additional documents is required.\"\"\"\n",
    "    chain_of_thought: str = Field(\n",
    "        ..., description=\"Step by step reasoning to check if retrieval of additional documents is required\"\n",
    "    )\n",
    "    is_required: bool = Field(\n",
    "        description=\"Retrieval of additional documents is required\"\n",
    "    )\n",
    "\n",
    "retrieval_grader_llm = llm.with_structured_output(RetrievalGrade, method=\"function_calling\")"
   ]
  },
  {
   "cell_type": "code",
   "execution_count": 27,
   "id": "f97fba9c-f104-412f-8b87-897bce3dc0e4",
   "metadata": {},
   "outputs": [],
   "source": [
    "class RelevanceGrade(BaseModel):\n",
    "    \"\"\"Relevance check on retrieved document.\"\"\"\n",
    "    chain_of_thought: str = Field(\n",
    "        ..., description=\"Step by step reasoning to check if the document is relevant to the question\"\n",
    "    )\n",
    "    is_relevant: bool = Field(\n",
    "        description=\"Document is relevant to the question\"\n",
    "    )\n",
    "\n",
    "relevance_grader_llm = llm.with_structured_output(RelevanceGrade, method=\"function_calling\")\n",
    "\n",
    "@chain\n",
    "def grade_document_relevance(document, question):\n",
    "    relevance_grading_prompt = relevance_grading_prompt_template.format(document=document, question=question)\n",
    "    response = relevance_grader_llm.invoke([HumanMessage(content=relevance_grading_prompt)])\n",
    "    return response"
   ]
  },
  {
   "cell_type": "code",
   "execution_count": 28,
   "id": "a40ce122-812d-4294-b7c3-314796e01a0d",
   "metadata": {},
   "outputs": [],
   "source": [
    "class HallucationsGrade(BaseModel):\n",
    "    \"\"\"Hallucination check in generated answer.\"\"\"\n",
    "    chain_of_thought: str = Field(\n",
    "        ..., description=\"Step by step reasoning to check if the answer is grounded in the facts\"\n",
    "    )\n",
    "    is_grounded: bool = Field(\n",
    "        description=\"Answer is grounded in the facts\"\n",
    "    )\n",
    "\n",
    "hallucations_grader_llm = llm.with_structured_output(HallucationsGrade, method=\"function_calling\")"
   ]
  },
  {
   "cell_type": "code",
   "execution_count": 29,
   "id": "880b11b4-9314-41bf-bda6-7e118a877348",
   "metadata": {},
   "outputs": [],
   "source": [
    "class AnswerGrade(BaseModel):\n",
    "    \"\"\"Check if answer addresses the question.\"\"\"\n",
    "    chain_of_thought: str = Field(\n",
    "        ..., description=\"Step by step reasoning to check if the answer addresses the questions\"\n",
    "    )\n",
    "    is_useful: bool = Field(\n",
    "        description=\"Answer addresses the question\"\n",
    "    )\n",
    "\n",
    "answer_grader_llm = llm.with_structured_output(AnswerGrade, method=\"function_calling\")"
   ]
  },
  {
   "cell_type": "code",
   "execution_count": 30,
   "id": "9db6437e-b9c5-40ff-8244-2cb81f27c1e5",
   "metadata": {},
   "outputs": [],
   "source": [
    "class SearchQuery(BaseModel):\n",
    "    \"\"\"Question optimization for search.\"\"\"\n",
    "    chain_of_thought: str = Field(\n",
    "        ..., description=\"Step by step reasoning to optimize query for search\"\n",
    "    )\n",
    "    search_query: str = Field(\n",
    "        description=\"Optimized search query\"\n",
    "    )\n",
    "\n",
    "search_llm = llm.with_structured_output(SearchQuery, method=\"function_calling\")"
   ]
  },
  {
   "cell_type": "code",
   "execution_count": 31,
   "id": "ba910aa4-c2e7-4274-82b0-e9a24fd88913",
   "metadata": {},
   "outputs": [],
   "source": [
    "def format_docs(docs: list[Document]) -> list[str]:\n",
    "    return \"\\n\\n\".join(doc.page_content for doc in docs)"
   ]
  },
  {
   "cell_type": "code",
   "execution_count": 32,
   "id": "b9d13f6e-342d-4a51-87c7-a42dd91c9171",
   "metadata": {},
   "outputs": [],
   "source": [
    "class State(TypedDict):\n",
    "    question: str\n",
    "    retrieval_grade: RetrievalGrade\n",
    "    documents: list[Document]\n",
    "    relevance_grades: list[RelevanceGrade]\n",
    "    generation: str\n",
    "    hallucinations_grade: HallucationsGrade\n",
    "    context: list[Document]\n",
    "    answer_grade: AnswerGrade\n",
    "    answer: str"
   ]
  },
  {
   "cell_type": "code",
   "execution_count": 33,
   "id": "4330b73a-e93a-44a8-9671-92af99eae231",
   "metadata": {},
   "outputs": [],
   "source": [
    "def grade_retrieval(state: State):\n",
    "    question = state[\"question\"]\n",
    "    retrieval_prompt = retrieval_prompt_template.format(question=question)\n",
    "    retrieval_grade = retrieval_grader_llm.invoke(retrieval_prompt)\n",
    "    return {\"retrieval_grade\": retrieval_grade}\n",
    "\n",
    "\n",
    "def decide_to_retrieve(state: State) -> Literal[\"retrieve\", \"generate_answer\"]:\n",
    "    retrieval_grade = state[\"retrieval_grade\"]\n",
    "    \n",
    "    if retrieval_grade.is_required:\n",
    "        return \"retrieve\"\n",
    "    else:\n",
    "        return \"generate_answer\"\n",
    "\n",
    "\n",
    "def retrieve(state: State):\n",
    "    question = state[\"question\"]\n",
    "    documents = retriever.invoke(question)\n",
    "    return {\"documents\": documents}\n",
    "\n",
    "\n",
    "def grade_documents(state: State):\n",
    "    question = state[\"question\"]\n",
    "    documents = state[\"documents\"]\n",
    "\n",
    "    relevance_grades = grade_document_relevance.batch(\n",
    "        documents, question=question\n",
    "    )\n",
    "    filtered_documents = [document for (document, relevance_grade) in zip(documents, relevance_grades) if relevance_grade.is_relevant]\n",
    "            \n",
    "    return {\"context\": filtered_documents, \"relevance_grades\": relevance_grades}\n",
    "\n",
    "    \n",
    "def check_documents_relevance(state: State) -> Literal[\"generate_rag_answer\", \"generate_no_answer\"]:\n",
    "    filtered_documents = state[\"context\"]\n",
    "    \n",
    "    if len(filtered_documents) > 0:\n",
    "        return \"generate_rag_answer\"\n",
    "    else:\n",
    "        return \"generate_no_answer\"\n",
    "        \n",
    "\n",
    "def generate_rag_answer(state: State):\n",
    "    docs_content = format_docs(state[\"context\"])\n",
    "    rag_prompt = rag_prompt_template.format(\n",
    "        question=state[\"question\"],\n",
    "        context=docs_content\n",
    "    )\n",
    "    response = llm.invoke([\n",
    "        HumanMessage(content=rag_prompt)\n",
    "    ])\n",
    "    return {\"answer\": response.content}\n",
    "\n",
    "\n",
    "def generate_answer(state: State):\n",
    "    answer_prompt = answer_prompt_template.format(\n",
    "        question=state[\"question\"]\n",
    "    )\n",
    "    response = llm.invoke([\n",
    "        HumanMessage(content=answer_prompt)\n",
    "    ])\n",
    "    return {\"answer\": response.content}\n",
    "    \n",
    "\n",
    "def generate_no_answer(state: State):\n",
    "    return {\"answer\": no_answer_prompt}\n",
    "    \n",
    "\n",
    "def grade_hallucinations(state: State):\n",
    "    filtered_documents = state[\"context\"]\n",
    "    answer = state[\"answer\"]\n",
    "    hallucinations_grading_prompt = hallucinations_grading_prompt_template.format(\n",
    "        context=filtered_documents,\n",
    "        answer=answer\n",
    "    )\n",
    "    hallucinations_grade = hallucations_grader_llm.invoke(hallucinations_grading_prompt)\n",
    "    return {\"hallucinations_grade\": hallucinations_grade}\n",
    "\n",
    "\n",
    "def check_hallucinations(state: State) -> Literal[\"grade_answer\", \"generate_rag_answer\"]:\n",
    "    hallucinations_grade = state[\"hallucinations_grade\"]\n",
    "    \n",
    "    if hallucinations_grade.is_grounded:\n",
    "        return \"grade_answer\"\n",
    "    else:\n",
    "        return \"generate_rag_answer\"\n",
    "\n",
    "\n",
    "def grade_answer(state: State):\n",
    "    question = state[\"question\"]\n",
    "    answer = state[\"answer\"]\n",
    "    answer_grading_prompt = answer_grading_prompt_template.format(\n",
    "        question=question,\n",
    "        answer=answer\n",
    "    )\n",
    "    answer_grade = answer_grader_llm.invoke(answer_grading_prompt)\n",
    "    return {\"answer_grade\": answer_grade}\n",
    "\n",
    "\n",
    "def check_answer(state: State) -> Literal[\"__end__\", \"rewrite_query\"]:\n",
    "    answer_grade = state[\"answer_grade\"]\n",
    "    \n",
    "    if answer_grade.is_useful:\n",
    "        return END\n",
    "    else:\n",
    "        return \"rewrite_query\"\n",
    "\n",
    "\n",
    "def rewrite_query(state: State):\n",
    "    question = state[\"question\"]\n",
    "    query_rewriting_prompt = query_rewriting_prompt_template.format(question=question)\n",
    "    response = search_llm.invoke(query_rewriting_prompt)\n",
    "    return {\"question\": response.search_query}"
   ]
  },
  {
   "cell_type": "code",
   "execution_count": 34,
   "id": "6ead6e91-8dd8-45a6-a79a-0fab3fa8c36c",
   "metadata": {},
   "outputs": [
    {
     "data": {
      "image/png": "[encoded data removed]",
      "text/plain": [
       "<langgraph.graph.state.CompiledStateGraph object at 0x7f4e884a8490>"
      ]
     },
     "execution_count": 34,
     "metadata": {},
     "output_type": "execute_result"
    }
   ],
   "source": [
    "graph_builder = StateGraph(State)\n",
    "\n",
    "graph_builder.add_edge(START, \"grade_retrieval\")\n",
    "graph_builder.add_node(\"grade_retrieval\", grade_retrieval)\n",
    "graph_builder.add_conditional_edges(\n",
    "    \"grade_retrieval\", \n",
    "    decide_to_retrieve,\n",
    "    [\"retrieve\", \"generate_answer\"]\n",
    ")\n",
    "\n",
    "graph_builder.add_node(\"generate_answer\", generate_answer)\n",
    "graph_builder.add_edge(\"generate_answer\", END)\n",
    "\n",
    "graph_builder.add_node(\"retrieve\", retrieve)\n",
    "graph_builder.add_edge(\"retrieve\", \"grade_documents\")\n",
    "graph_builder.add_node(\"grade_documents\", grade_documents)\n",
    "graph_builder.add_conditional_edges(\n",
    "    \"grade_documents\", \n",
    "    check_documents_relevance,\n",
    "    [\"generate_rag_answer\", \"generate_no_answer\"]\n",
    ")\n",
    "\n",
    "graph_builder.add_node(\"generate_rag_answer\", generate_rag_answer)\n",
    "graph_builder.add_edge(\"generate_rag_answer\", \"grade_hallucinations\")\n",
    "graph_builder.add_node(\"grade_hallucinations\", grade_hallucinations)\n",
    "graph_builder.add_conditional_edges(\n",
    "    \"grade_hallucinations\", \n",
    "    check_hallucinations,\n",
    "    [\"grade_answer\", \"generate_rag_answer\"]\n",
    ")\n",
    "\n",
    "graph_builder.add_node(\"generate_no_answer\", generate_no_answer)\n",
    "graph_builder.add_edge(\"generate_no_answer\", END)\n",
    "\n",
    "graph_builder.add_node(\"grade_answer\", grade_answer)\n",
    "graph_builder.add_conditional_edges(\n",
    "    \"grade_answer\", \n",
    "    check_answer,\n",
    "    [\"__end__\", \"rewrite_query\"]\n",
    ")\n",
    "\n",
    "graph_builder.add_node(\"rewrite_query\", rewrite_query)\n",
    "graph_builder.add_edge(\"rewrite_query\", \"retrieve\")\n",
    "\n",
    "graph = graph_builder.compile()\n",
    "graph"
   ]
  },
  {
   "cell_type": "code",
   "execution_count": 35,
   "id": "f12ae9ea-a596-4136-93f7-551f6933f8b7",
   "metadata": {},
   "outputs": [
    {
     "data": {
      "text/html": [
       "<pre style=\"white-space:pre;overflow-x:auto;line-height:normal;font-family:Menlo,'DejaVu Sans Mono',consolas,'Courier New',monospace\"><span style=\"font-weight: bold\">{</span>\n",
       "    <span style=\"color: #008000; text-decoration-color: #008000\">'question'</span>: <span style=\"color: #008000; text-decoration-color: #008000\">'What are common types of agent memory?'</span>,\n",
       "    <span style=\"color: #008000; text-decoration-color: #008000\">'retrieval_grade'</span>: <span style=\"color: #800080; text-decoration-color: #800080; font-weight: bold\">RetrievalGrade</span><span style=\"font-weight: bold\">(</span>\n",
       "        <span style=\"color: #808000; text-decoration-color: #808000\">chain_of_thought</span>=<span style=\"color: #008000; text-decoration-color: #008000\">'The user asks about common types of agent memory. Typically, agent memory types include </span>\n",
       "<span style=\"color: #008000; text-decoration-color: #008000\">episodic memory, semantic memory, working memory, and long-term memory, among others. These are standard concepts </span>\n",
       "<span style=\"color: #008000; text-decoration-color: #008000\">likely to be included in general knowledge or documents about agents. If the available data covers basic AI or </span>\n",
       "<span style=\"color: #008000; text-decoration-color: #008000\">agent memory types, no additional retrieval is needed. Without evidence suggesting a lack of these details, </span>\n",
       "<span style=\"color: #008000; text-decoration-color: #008000\">retrieval is not required.'</span>,\n",
       "        <span style=\"color: #808000; text-decoration-color: #808000\">is_required</span>=<span style=\"color: #ff0000; text-decoration-color: #ff0000; font-style: italic\">False</span>\n",
       "    <span style=\"font-weight: bold\">)</span>,\n",
       "    <span style=\"color: #008000; text-decoration-color: #008000\">'answer'</span>: <span style=\"color: #008000; text-decoration-color: #008000\">'Common types of agent memory include:\\n\\n1. **Short-term memory (Working Memory):** Used to store </span>\n",
       "<span style=\"color: #008000; text-decoration-color: #008000\">information temporarily for immediate processing and decision-making. It holds recent sensory inputs or </span>\n",
       "<span style=\"color: #008000; text-decoration-color: #008000\">intermediate results.\\n\\n2. **Long-term memory:** Stores knowledge, experiences, and learned behaviors that the </span>\n",
       "<span style=\"color: #008000; text-decoration-color: #008000\">agent can retrieve and use over extended periods.\\n\\n3. **Episodic memory:** Stores specific experiences or events </span>\n",
       "<span style=\"color: #008000; text-decoration-color: #008000\">that the agent has encountered, enabling the agent to recall past states or situations.\\n\\n4. **Semantic memory:** </span>\n",
       "<span style=\"color: #008000; text-decoration-color: #008000\">Contains general facts, concepts, and information about the world that the agent has learned but is not tied to </span>\n",
       "<span style=\"color: #008000; text-decoration-color: #008000\">specific experiences.\\n\\n5. **Procedural memory:** Holds knowledge about how to perform tasks or actions, such as </span>\n",
       "<span style=\"color: #008000; text-decoration-color: #008000\">skills or routines that the agent can execute automatically.\\n\\nThese memory types help agents to perceive their </span>\n",
       "<span style=\"color: #008000; text-decoration-color: #008000\">environment, learn from it, and make informed decisions.'</span>\n",
       "<span style=\"font-weight: bold\">}</span>\n",
       "</pre>\n"
      ],
      "text/plain": [
       "\u001b[1m{\u001b[0m\n",
       "    \u001b[32m'question'\u001b[0m: \u001b[32m'What are common types of agent memory?'\u001b[0m,\n",
       "    \u001b[32m'retrieval_grade'\u001b[0m: \u001b[1;35mRetrievalGrade\u001b[0m\u001b[1m(\u001b[0m\n",
       "        \u001b[33mchain_of_thought\u001b[0m=\u001b[32m'The user asks about common types of agent memory. Typically, agent memory types include \u001b[0m\n",
       "\u001b[32mepisodic memory, semantic memory, working memory, and long-term memory, among others. These are standard concepts \u001b[0m\n",
       "\u001b[32mlikely to be included in general knowledge or documents about agents. If the available data covers basic AI or \u001b[0m\n",
       "\u001b[32magent memory types, no additional retrieval is needed. Without evidence suggesting a lack of these details, \u001b[0m\n",
       "\u001b[32mretrieval is not required.'\u001b[0m,\n",
       "        \u001b[33mis_required\u001b[0m=\u001b[3;91mFalse\u001b[0m\n",
       "    \u001b[1m)\u001b[0m,\n",
       "    \u001b[32m'answer'\u001b[0m: \u001b[32m'Common types of agent memory include:\\n\\n1. **Short-term memory \u001b[0m\u001b[32m(\u001b[0m\u001b[32mWorking Memory\u001b[0m\u001b[32m)\u001b[0m\u001b[32m:** Used to store \u001b[0m\n",
       "\u001b[32minformation temporarily for immediate processing and decision-making. It holds recent sensory inputs or \u001b[0m\n",
       "\u001b[32mintermediate results.\\n\\n2. **Long-term memory:** Stores knowledge, experiences, and learned behaviors that the \u001b[0m\n",
       "\u001b[32magent can retrieve and use over extended periods.\\n\\n3. **Episodic memory:** Stores specific experiences or events \u001b[0m\n",
       "\u001b[32mthat the agent has encountered, enabling the agent to recall past states or situations.\\n\\n4. **Semantic memory:** \u001b[0m\n",
       "\u001b[32mContains general facts, concepts, and information about the world that the agent has learned but is not tied to \u001b[0m\n",
       "\u001b[32mspecific experiences.\\n\\n5. **Procedural memory:** Holds knowledge about how to perform tasks or actions, such as \u001b[0m\n",
       "\u001b[32mskills or routines that the agent can execute automatically.\\n\\nThese memory types help agents to perceive their \u001b[0m\n",
       "\u001b[32menvironment, learn from it, and make informed decisions.'\u001b[0m\n",
       "\u001b[1m}\u001b[0m\n"
      ]
     },
     "metadata": {},
     "output_type": "display_data"
    },
    {
     "data": {
      "text/html": [
       "<pre style=\"white-space:pre;overflow-x:auto;line-height:normal;font-family:Menlo,'DejaVu Sans Mono',consolas,'Courier New',monospace\">Common types of agent memory include:                                                                              \n",
       "\n",
       "<span style=\"color: #808000; text-decoration-color: #808000; font-weight: bold\"> 1 </span><span style=\"font-weight: bold\">Short-term memory (Working Memory):</span> Used to store information temporarily for immediate processing and          \n",
       "<span style=\"color: #808000; text-decoration-color: #808000; font-weight: bold\">   </span>decision-making. It holds recent sensory inputs or intermediate results.                                        \n",
       "<span style=\"color: #808000; text-decoration-color: #808000; font-weight: bold\"> 2 </span><span style=\"font-weight: bold\">Long-term memory:</span> Stores knowledge, experiences, and learned behaviors that the agent can retrieve and use over \n",
       "<span style=\"color: #808000; text-decoration-color: #808000; font-weight: bold\">   </span>extended periods.                                                                                               \n",
       "<span style=\"color: #808000; text-decoration-color: #808000; font-weight: bold\"> 3 </span><span style=\"font-weight: bold\">Episodic memory:</span> Stores specific experiences or events that the agent has encountered, enabling the agent to    \n",
       "<span style=\"color: #808000; text-decoration-color: #808000; font-weight: bold\">   </span>recall past states or situations.                                                                               \n",
       "<span style=\"color: #808000; text-decoration-color: #808000; font-weight: bold\"> 4 </span><span style=\"font-weight: bold\">Semantic memory:</span> Contains general facts, concepts, and information about the world that the agent has learned   \n",
       "<span style=\"color: #808000; text-decoration-color: #808000; font-weight: bold\">   </span>but is not tied to specific experiences.                                                                        \n",
       "<span style=\"color: #808000; text-decoration-color: #808000; font-weight: bold\"> 5 </span><span style=\"font-weight: bold\">Procedural memory:</span> Holds knowledge about how to perform tasks or actions, such as skills or routines that the   \n",
       "<span style=\"color: #808000; text-decoration-color: #808000; font-weight: bold\">   </span>agent can execute automatically.                                                                                \n",
       "\n",
       "These memory types help agents to perceive their environment, learn from it, and make informed decisions.          \n",
       "</pre>\n"
      ],
      "text/plain": [
       "Common types of agent memory include:                                                                              \n",
       "\n",
       "\u001b[1;33m 1 \u001b[0m\u001b[1mShort-term memory (Working Memory):\u001b[0m Used to store information temporarily for immediate processing and          \n",
       "\u001b[1;33m   \u001b[0mdecision-making. It holds recent sensory inputs or intermediate results.                                        \n",
       "\u001b[1;33m 2 \u001b[0m\u001b[1mLong-term memory:\u001b[0m Stores knowledge, experiences, and learned behaviors that the agent can retrieve and use over \n",
       "\u001b[1;33m   \u001b[0mextended periods.                                                                                               \n",
       "\u001b[1;33m 3 \u001b[0m\u001b[1mEpisodic memory:\u001b[0m Stores specific experiences or events that the agent has encountered, enabling the agent to    \n",
       "\u001b[1;33m   \u001b[0mrecall past states or situations.                                                                               \n",
       "\u001b[1;33m 4 \u001b[0m\u001b[1mSemantic memory:\u001b[0m Contains general facts, concepts, and information about the world that the agent has learned   \n",
       "\u001b[1;33m   \u001b[0mbut is not tied to specific experiences.                                                                        \n",
       "\u001b[1;33m 5 \u001b[0m\u001b[1mProcedural memory:\u001b[0m Holds knowledge about how to perform tasks or actions, such as skills or routines that the   \n",
       "\u001b[1;33m   \u001b[0magent can execute automatically.                                                                                \n",
       "\n",
       "These memory types help agents to perceive their environment, learn from it, and make informed decisions.          \n"
      ]
     },
     "metadata": {},
     "output_type": "display_data"
    }
   ],
   "source": [
    "query = \"What are common types of agent memory?\"\n",
    "\n",
    "response = graph.invoke({\"question\": query})\n",
    "rprint(response)\n",
    "rprint(Markdown(response[\"answer\"]))"
   ]
  },
  {
   "cell_type": "code",
   "execution_count": 36,
   "id": "3a4cc058-ed9e-4a91-8d6f-593dfd7f6cf4",
   "metadata": {},
   "outputs": [
    {
     "data": {
      "text/html": [
       "<pre style=\"white-space:pre;overflow-x:auto;line-height:normal;font-family:Menlo,'DejaVu Sans Mono',consolas,'Courier New',monospace\"><span style=\"font-weight: bold\">{</span>\n",
       "    <span style=\"color: #008000; text-decoration-color: #008000\">'question'</span>: <span style=\"color: #008000; text-decoration-color: #008000\">'What are recent types of adversarial attacks in LLM?'</span>,\n",
       "    <span style=\"color: #008000; text-decoration-color: #008000\">'retrieval_grade'</span>: <span style=\"color: #800080; text-decoration-color: #800080; font-weight: bold\">RetrievalGrade</span><span style=\"font-weight: bold\">(</span>\n",
       "        <span style=\"color: #808000; text-decoration-color: #808000\">chain_of_thought</span>=<span style=\"color: #008000; text-decoration-color: #008000\">'User is asking about recent types of adversarial attacks on large language models (LLMs).</span>\n",
       "<span style=\"color: #008000; text-decoration-color: #008000\">To answer this, specific and up-to-date information about various adversarial attacks targeting LLMs is required. </span>\n",
       "<span style=\"color: #008000; text-decoration-color: #008000\">Since the question explicitly asks for recent types, this implies a need for the latest research findings or news, </span>\n",
       "<span style=\"color: #008000; text-decoration-color: #008000\">which might not be contained in default knowledge. Therefore, additional document retrieval is likely necessary to </span>\n",
       "<span style=\"color: #008000; text-decoration-color: #008000\">provide a comprehensive and current answer.'</span>,\n",
       "        <span style=\"color: #808000; text-decoration-color: #808000\">is_required</span>=<span style=\"color: #00ff00; text-decoration-color: #00ff00; font-style: italic\">True</span>\n",
       "    <span style=\"font-weight: bold\">)</span>,\n",
       "    <span style=\"color: #008000; text-decoration-color: #008000\">'documents'</span>: <span style=\"font-weight: bold\">[</span>\n",
       "        <span style=\"color: #800080; text-decoration-color: #800080; font-weight: bold\">Document</span><span style=\"font-weight: bold\">(</span>\n",
       "            <span style=\"color: #808000; text-decoration-color: #808000\">id</span>=<span style=\"color: #008000; text-decoration-color: #008000\">'699566fc-cb81-4747-bc34-a1e96753b4cc'</span>,\n",
       "            <span style=\"color: #808000; text-decoration-color: #808000\">metadata</span>=<span style=\"font-weight: bold\">{</span><span style=\"color: #008000; text-decoration-color: #008000\">'source'</span>: <span style=\"color: #008000; text-decoration-color: #008000\">'https://lilianweng.github.io/posts/2023-10-25-adv-attack-llm/'</span><span style=\"font-weight: bold\">}</span>,\n",
       "            <span style=\"color: #808000; text-decoration-color: #808000\">page_content</span>=<span style=\"color: #008000; text-decoration-color: #008000\">'Weng, Lilian. (Oct 2023). “Adversarial Attacks on LLMs”. Lil’Log. </span>\n",
       "<span style=\"color: #008000; text-decoration-color: #008000\">https://lilianweng.github.io/posts/2023-10-25-adv-attack-llm/.'</span>\n",
       "        <span style=\"font-weight: bold\">)</span>,\n",
       "        <span style=\"color: #800080; text-decoration-color: #800080; font-weight: bold\">Document</span><span style=\"font-weight: bold\">(</span>\n",
       "            <span style=\"color: #808000; text-decoration-color: #808000\">id</span>=<span style=\"color: #008000; text-decoration-color: #008000\">'b27ccb01-34d4-4f43-8bdc-243fc00cb01f'</span>,\n",
       "            <span style=\"color: #808000; text-decoration-color: #808000\">metadata</span>=<span style=\"font-weight: bold\">{</span><span style=\"color: #008000; text-decoration-color: #008000\">'source'</span>: <span style=\"color: #008000; text-decoration-color: #008000\">'https://lilianweng.github.io/posts/2023-10-25-adv-attack-llm/'</span><span style=\"font-weight: bold\">}</span>,\n",
       "            <span style=\"color: #808000; text-decoration-color: #808000\">page_content</span>=<span style=\"color: #008000; text-decoration-color: #008000\">'Adversarial Attacks on LLMs\\n    \\nDate: October 25, 2023  |  Estimated Reading Time: 33 </span>\n",
       "<span style=\"color: #008000; text-decoration-color: #008000\">min  |  Author: Lilian Weng'</span>\n",
       "        <span style=\"font-weight: bold\">)</span>,\n",
       "        <span style=\"color: #800080; text-decoration-color: #800080; font-weight: bold\">Document</span><span style=\"font-weight: bold\">(</span>\n",
       "            <span style=\"color: #808000; text-decoration-color: #808000\">id</span>=<span style=\"color: #008000; text-decoration-color: #008000\">'b882f510-aed2-489e-9ad0-50f0e574ea51'</span>,\n",
       "            <span style=\"color: #808000; text-decoration-color: #808000\">metadata</span>=<span style=\"font-weight: bold\">{</span><span style=\"color: #008000; text-decoration-color: #008000\">'source'</span>: <span style=\"color: #008000; text-decoration-color: #008000\">'https://lilianweng.github.io/posts/2023-10-25-adv-attack-llm/'</span><span style=\"font-weight: bold\">}</span>,\n",
       "            <span style=\"color: #808000; text-decoration-color: #808000\">page_content</span>=<span style=\"color: #008000; text-decoration-color: #008000\">'Or\\n@article{weng2023attack,\\n  title   = \"Adversarial Attacks on LLMs\",\\n  author  = </span>\n",
       "<span style=\"color: #008000; text-decoration-color: #008000\">\"Weng, Lilian\",\\n  journal = \"lilianweng.github.io\",\\n  year    = \"2023\",\\n  month   = \"Oct\",\\n  url     = </span>\n",
       "<span style=\"color: #008000; text-decoration-color: #008000\">\"https://lilianweng.github.io/posts/2023-10-25-adv-attack-llm/\"\\n}\\nReferences#\\n[1] Madry et al. “Towards Deep </span>\n",
       "<span style=\"color: #008000; text-decoration-color: #008000\">Learning Models Resistant to Adversarial Attacks”. ICLR 2018.\\n[2] Ribeiro et al. “Semantically equivalent </span>\n",
       "<span style=\"color: #008000; text-decoration-color: #008000\">adversarial rules for debugging NLP models”. ACL 2018.\\n[3] Guo et al. “Gradient-based adversarial attacks against </span>\n",
       "<span style=\"color: #008000; text-decoration-color: #008000\">text transformers”. arXiv preprint arXiv:2104.13733 (2021).\\n[4] Ebrahimi et al. “HotFlip: White-Box Adversarial </span>\n",
       "<span style=\"color: #008000; text-decoration-color: #008000\">Examples for Text Classification”. ACL 2018.\\n[5] Wallace et al. “Universal Adversarial Triggers for Attacking and </span>\n",
       "<span style=\"color: #008000; text-decoration-color: #008000\">Analyzing NLP.” EMNLP-IJCNLP 2019. | code\\n[6] Mehrabi et al. “Robust Conversational Agents against Imperceptible </span>\n",
       "<span style=\"color: #008000; text-decoration-color: #008000\">Toxicity Triggers.” NAACL 2022.'</span>\n",
       "        <span style=\"font-weight: bold\">)</span>,\n",
       "        <span style=\"color: #800080; text-decoration-color: #800080; font-weight: bold\">Document</span><span style=\"font-weight: bold\">(</span>\n",
       "            <span style=\"color: #808000; text-decoration-color: #808000\">id</span>=<span style=\"color: #008000; text-decoration-color: #008000\">'e5967c3a-5ad9-4182-98ce-08c8fd5e7e03'</span>,\n",
       "            <span style=\"color: #808000; text-decoration-color: #808000\">metadata</span>=<span style=\"font-weight: bold\">{</span><span style=\"color: #008000; text-decoration-color: #008000\">'source'</span>: <span style=\"color: #008000; text-decoration-color: #008000\">'https://lilianweng.github.io/posts/2023-10-25-adv-attack-llm/'</span><span style=\"font-weight: bold\">}</span>,\n",
       "            <span style=\"color: #808000; text-decoration-color: #808000\">page_content</span>=<span style=\"color: #008000; text-decoration-color: #008000\">'Fig. 1. An overview of threats to LLM-based applications. (Image source: Greshake et al. </span>\n",
       "<span style=\"color: #008000; text-decoration-color: #008000\">2023)\\nClassification#\\nAdversarial attacks on classifiers have attracted more attention in the research community </span>\n",
       "<span style=\"color: #008000; text-decoration-color: #008000\">in the past, many in the image domain. LLMs can be used for classification too. Given an input $\\\\mathbf{x}$ and a </span>\n",
       "<span style=\"color: #008000; text-decoration-color: #008000\">classifier $f(.)$, we would like to find an adversarial version of the input, denoted as $\\\\mathbf{x}_\\\\text{adv}$,</span>\n",
       "<span style=\"color: #008000; text-decoration-color: #008000\">with imperceptible difference from $\\\\mathbf{x}$, such that $f(\\\\mathbf{x}) \\\\neq </span>\n",
       "<span style=\"color: #008000; text-decoration-color: #008000\">f(\\\\mathbf{x}_\\\\text{adv})$.\\nText Generation#'</span>\n",
       "        <span style=\"font-weight: bold\">)</span>\n",
       "    <span style=\"font-weight: bold\">]</span>,\n",
       "    <span style=\"color: #008000; text-decoration-color: #008000\">'relevance_grades'</span>: <span style=\"font-weight: bold\">[</span>\n",
       "        <span style=\"color: #800080; text-decoration-color: #800080; font-weight: bold\">RelevanceGrade</span><span style=\"font-weight: bold\">(</span>\n",
       "            <span style=\"color: #808000; text-decoration-color: #808000\">chain_of_thought</span>=<span style=\"color: #008000; text-decoration-color: #008000\">'The user question asks about recent types of adversarial attacks in large language </span>\n",
       "<span style=\"color: #008000; text-decoration-color: #008000\">models (LLMs). The document retrieved is titled \"Adversarial Attacks on LLMs\" and was published recently in October</span>\n",
       "<span style=\"color: #008000; text-decoration-color: #008000\">2023. This document likely discusses adversarial attack methods related to LLMs, which directly matches the focus </span>\n",
       "<span style=\"color: #008000; text-decoration-color: #008000\">of the user question. Therefore, the document is relevant for answering the user question.'</span>,\n",
       "            <span style=\"color: #808000; text-decoration-color: #808000\">is_relevant</span>=<span style=\"color: #00ff00; text-decoration-color: #00ff00; font-style: italic\">True</span>\n",
       "        <span style=\"font-weight: bold\">)</span>,\n",
       "        <span style=\"color: #800080; text-decoration-color: #800080; font-weight: bold\">RelevanceGrade</span><span style=\"font-weight: bold\">(</span>\n",
       "            <span style=\"color: #808000; text-decoration-color: #808000\">chain_of_thought</span>=<span style=\"color: #008000; text-decoration-color: #008000\">\"The user's question is about recent types of adversarial attacks in large language </span>\n",
       "<span style=\"color: #008000; text-decoration-color: #008000\">models (LLMs). The retrieved document's title is 'Adversarial Attacks on LLMs' and it is authored recently (October</span>\n",
       "<span style=\"color: #008000; text-decoration-color: #008000\">25, 2023). This strongly suggests that the document discusses adversarial attacks on LLMs, which likely includes </span>\n",
       "<span style=\"color: #008000; text-decoration-color: #008000\">recent types of such attacks. Therefore, the document is relevant to the user's question.\"</span>,\n",
       "            <span style=\"color: #808000; text-decoration-color: #808000\">is_relevant</span>=<span style=\"color: #00ff00; text-decoration-color: #00ff00; font-style: italic\">True</span>\n",
       "        <span style=\"font-weight: bold\">)</span>,\n",
       "        <span style=\"color: #800080; text-decoration-color: #800080; font-weight: bold\">RelevanceGrade</span><span style=\"font-weight: bold\">(</span>\n",
       "            <span style=\"color: #808000; text-decoration-color: #808000\">chain_of_thought</span>=<span style=\"color: #008000; text-decoration-color: #008000\">\"The user question asks about recent types of adversarial attacks in large language </span>\n",
       "<span style=\"color: #008000; text-decoration-color: #008000\">models (LLM). The retrieved document is an article titled 'Adversarial Attacks on LLMs' by Lilian Weng, published </span>\n",
       "<span style=\"color: #008000; text-decoration-color: #008000\">in 2023. The document appears to be focused on adversarial attacks in LLMs and even includes references to relevant</span>\n",
       "<span style=\"color: #008000; text-decoration-color: #008000\">literature in the area such as works on deep learning models resistant to adversarial attacks, adversarial rules </span>\n",
       "<span style=\"color: #008000; text-decoration-color: #008000\">for NLP models, gradient-based adversarial attacks against text transformers, and more. This context suggests the </span>\n",
       "<span style=\"color: #008000; text-decoration-color: #008000\">document is highly relevant to the user's question since it specifically addresses adversarial attacks on LLMs and </span>\n",
       "<span style=\"color: #008000; text-decoration-color: #008000\">is recent (2023). Therefore, the document is relevant.\"</span>,\n",
       "            <span style=\"color: #808000; text-decoration-color: #808000\">is_relevant</span>=<span style=\"color: #00ff00; text-decoration-color: #00ff00; font-style: italic\">True</span>\n",
       "        <span style=\"font-weight: bold\">)</span>,\n",
       "        <span style=\"color: #800080; text-decoration-color: #800080; font-weight: bold\">RelevanceGrade</span><span style=\"font-weight: bold\">(</span>\n",
       "            <span style=\"color: #808000; text-decoration-color: #808000\">chain_of_thought</span>=<span style=\"color: #008000; text-decoration-color: #008000\">'The user question asks about recent types of adversarial attacks in LLMs. The </span>\n",
       "<span style=\"color: #008000; text-decoration-color: #008000\">document mentions adversarial attacks specifically in the context of LLM-based applications and discusses the </span>\n",
       "<span style=\"color: #008000; text-decoration-color: #008000\">concept of adversarial attacks on classifiers, including LLMs used for classification. It also elaborates on </span>\n",
       "<span style=\"color: #008000; text-decoration-color: #008000\">generating adversarial inputs to fool classifiers. This shows the document is directly addressing adversarial </span>\n",
       "<span style=\"color: #008000; text-decoration-color: #008000\">attacks related to LLMs, making it relevant to the question asked.'</span>,\n",
       "            <span style=\"color: #808000; text-decoration-color: #808000\">is_relevant</span>=<span style=\"color: #00ff00; text-decoration-color: #00ff00; font-style: italic\">True</span>\n",
       "        <span style=\"font-weight: bold\">)</span>\n",
       "    <span style=\"font-weight: bold\">]</span>,\n",
       "    <span style=\"color: #008000; text-decoration-color: #008000\">'hallucinations_grade'</span>: <span style=\"color: #800080; text-decoration-color: #800080; font-weight: bold\">HallucationsGrade</span><span style=\"font-weight: bold\">(</span>\n",
       "        <span style=\"color: #808000; text-decoration-color: #808000\">chain_of_thought</span>=<span style=\"color: #008000; text-decoration-color: #008000\">'The answer summarizes types of adversarial attacks on large language models (LLMs) based </span>\n",
       "<span style=\"color: #008000; text-decoration-color: #008000\">on Lilian Weng\\'s October 2023 article \"Adversarial Attacks on LLMs\". The facts include a citation to this article,</span>\n",
       "<span style=\"color: #008000; text-decoration-color: #008000\">the name of the author, the date, and the URL, all confirming that the source is trustworthy and authoritative. The</span>\n",
       "<span style=\"color: #008000; text-decoration-color: #008000\">detailed attacks listed in the answer correspond to the references cited in the facts: Ribeiro et al. (2018), Guo </span>\n",
       "<span style=\"color: #008000; text-decoration-color: #008000\">et al. (2021), Ebrahimi et al. (2018), Wallace et al. (2019), Mehrabi et al. (2022), all explicitly mentioned in </span>\n",
       "<span style=\"color: #008000; text-decoration-color: #008000\">the retrieved documents. The answer correctly describes classification adversarial attacks with the notation </span>\n",
       "<span style=\"color: #008000; text-decoration-color: #008000\">\\\\(f(\\\\mathbf{x}) \\\\neq f(\\\\mathbf{x}_\\\\text{adv})\\\\) which matches the fact snippet describing adversarial attacks</span>\n",
       "<span style=\"color: #008000; text-decoration-color: #008000\">on classifiers from Lilian Weng\\'s article. The answer\\'s categories and examples are well aligned with the factual</span>\n",
       "<span style=\"color: #008000; text-decoration-color: #008000\">references listed. There is no contradictory information or hallucinated claims outside those references. Hence, </span>\n",
       "<span style=\"color: #008000; text-decoration-color: #008000\">the answer is grounded in the set of facts provided.'</span>,\n",
       "        <span style=\"color: #808000; text-decoration-color: #808000\">is_grounded</span>=<span style=\"color: #00ff00; text-decoration-color: #00ff00; font-style: italic\">True</span>\n",
       "    <span style=\"font-weight: bold\">)</span>,\n",
       "    <span style=\"color: #008000; text-decoration-color: #008000\">'context'</span>: <span style=\"font-weight: bold\">[</span>\n",
       "        <span style=\"color: #800080; text-decoration-color: #800080; font-weight: bold\">Document</span><span style=\"font-weight: bold\">(</span>\n",
       "            <span style=\"color: #808000; text-decoration-color: #808000\">id</span>=<span style=\"color: #008000; text-decoration-color: #008000\">'699566fc-cb81-4747-bc34-a1e96753b4cc'</span>,\n",
       "            <span style=\"color: #808000; text-decoration-color: #808000\">metadata</span>=<span style=\"font-weight: bold\">{</span><span style=\"color: #008000; text-decoration-color: #008000\">'source'</span>: <span style=\"color: #008000; text-decoration-color: #008000\">'https://lilianweng.github.io/posts/2023-10-25-adv-attack-llm/'</span><span style=\"font-weight: bold\">}</span>,\n",
       "            <span style=\"color: #808000; text-decoration-color: #808000\">page_content</span>=<span style=\"color: #008000; text-decoration-color: #008000\">'Weng, Lilian. (Oct 2023). “Adversarial Attacks on LLMs”. Lil’Log. </span>\n",
       "<span style=\"color: #008000; text-decoration-color: #008000\">https://lilianweng.github.io/posts/2023-10-25-adv-attack-llm/.'</span>\n",
       "        <span style=\"font-weight: bold\">)</span>,\n",
       "        <span style=\"color: #800080; text-decoration-color: #800080; font-weight: bold\">Document</span><span style=\"font-weight: bold\">(</span>\n",
       "            <span style=\"color: #808000; text-decoration-color: #808000\">id</span>=<span style=\"color: #008000; text-decoration-color: #008000\">'b27ccb01-34d4-4f43-8bdc-243fc00cb01f'</span>,\n",
       "            <span style=\"color: #808000; text-decoration-color: #808000\">metadata</span>=<span style=\"font-weight: bold\">{</span><span style=\"color: #008000; text-decoration-color: #008000\">'source'</span>: <span style=\"color: #008000; text-decoration-color: #008000\">'https://lilianweng.github.io/posts/2023-10-25-adv-attack-llm/'</span><span style=\"font-weight: bold\">}</span>,\n",
       "            <span style=\"color: #808000; text-decoration-color: #808000\">page_content</span>=<span style=\"color: #008000; text-decoration-color: #008000\">'Adversarial Attacks on LLMs\\n    \\nDate: October 25, 2023  |  Estimated Reading Time: 33 </span>\n",
       "<span style=\"color: #008000; text-decoration-color: #008000\">min  |  Author: Lilian Weng'</span>\n",
       "        <span style=\"font-weight: bold\">)</span>,\n",
       "        <span style=\"color: #800080; text-decoration-color: #800080; font-weight: bold\">Document</span><span style=\"font-weight: bold\">(</span>\n",
       "            <span style=\"color: #808000; text-decoration-color: #808000\">id</span>=<span style=\"color: #008000; text-decoration-color: #008000\">'b882f510-aed2-489e-9ad0-50f0e574ea51'</span>,\n",
       "            <span style=\"color: #808000; text-decoration-color: #808000\">metadata</span>=<span style=\"font-weight: bold\">{</span><span style=\"color: #008000; text-decoration-color: #008000\">'source'</span>: <span style=\"color: #008000; text-decoration-color: #008000\">'https://lilianweng.github.io/posts/2023-10-25-adv-attack-llm/'</span><span style=\"font-weight: bold\">}</span>,\n",
       "            <span style=\"color: #808000; text-decoration-color: #808000\">page_content</span>=<span style=\"color: #008000; text-decoration-color: #008000\">'Or\\n@article{weng2023attack,\\n  title   = \"Adversarial Attacks on LLMs\",\\n  author  = </span>\n",
       "<span style=\"color: #008000; text-decoration-color: #008000\">\"Weng, Lilian\",\\n  journal = \"lilianweng.github.io\",\\n  year    = \"2023\",\\n  month   = \"Oct\",\\n  url     = </span>\n",
       "<span style=\"color: #008000; text-decoration-color: #008000\">\"https://lilianweng.github.io/posts/2023-10-25-adv-attack-llm/\"\\n}\\nReferences#\\n[1] Madry et al. “Towards Deep </span>\n",
       "<span style=\"color: #008000; text-decoration-color: #008000\">Learning Models Resistant to Adversarial Attacks”. ICLR 2018.\\n[2] Ribeiro et al. “Semantically equivalent </span>\n",
       "<span style=\"color: #008000; text-decoration-color: #008000\">adversarial rules for debugging NLP models”. ACL 2018.\\n[3] Guo et al. “Gradient-based adversarial attacks against </span>\n",
       "<span style=\"color: #008000; text-decoration-color: #008000\">text transformers”. arXiv preprint arXiv:2104.13733 (2021).\\n[4] Ebrahimi et al. “HotFlip: White-Box Adversarial </span>\n",
       "<span style=\"color: #008000; text-decoration-color: #008000\">Examples for Text Classification”. ACL 2018.\\n[5] Wallace et al. “Universal Adversarial Triggers for Attacking and </span>\n",
       "<span style=\"color: #008000; text-decoration-color: #008000\">Analyzing NLP.” EMNLP-IJCNLP 2019. | code\\n[6] Mehrabi et al. “Robust Conversational Agents against Imperceptible </span>\n",
       "<span style=\"color: #008000; text-decoration-color: #008000\">Toxicity Triggers.” NAACL 2022.'</span>\n",
       "        <span style=\"font-weight: bold\">)</span>,\n",
       "        <span style=\"color: #800080; text-decoration-color: #800080; font-weight: bold\">Document</span><span style=\"font-weight: bold\">(</span>\n",
       "            <span style=\"color: #808000; text-decoration-color: #808000\">id</span>=<span style=\"color: #008000; text-decoration-color: #008000\">'e5967c3a-5ad9-4182-98ce-08c8fd5e7e03'</span>,\n",
       "            <span style=\"color: #808000; text-decoration-color: #808000\">metadata</span>=<span style=\"font-weight: bold\">{</span><span style=\"color: #008000; text-decoration-color: #008000\">'source'</span>: <span style=\"color: #008000; text-decoration-color: #008000\">'https://lilianweng.github.io/posts/2023-10-25-adv-attack-llm/'</span><span style=\"font-weight: bold\">}</span>,\n",
       "            <span style=\"color: #808000; text-decoration-color: #808000\">page_content</span>=<span style=\"color: #008000; text-decoration-color: #008000\">'Fig. 1. An overview of threats to LLM-based applications. (Image source: Greshake et al. </span>\n",
       "<span style=\"color: #008000; text-decoration-color: #008000\">2023)\\nClassification#\\nAdversarial attacks on classifiers have attracted more attention in the research community </span>\n",
       "<span style=\"color: #008000; text-decoration-color: #008000\">in the past, many in the image domain. LLMs can be used for classification too. Given an input $\\\\mathbf{x}$ and a </span>\n",
       "<span style=\"color: #008000; text-decoration-color: #008000\">classifier $f(.)$, we would like to find an adversarial version of the input, denoted as $\\\\mathbf{x}_\\\\text{adv}$,</span>\n",
       "<span style=\"color: #008000; text-decoration-color: #008000\">with imperceptible difference from $\\\\mathbf{x}$, such that $f(\\\\mathbf{x}) \\\\neq </span>\n",
       "<span style=\"color: #008000; text-decoration-color: #008000\">f(\\\\mathbf{x}_\\\\text{adv})$.\\nText Generation#'</span>\n",
       "        <span style=\"font-weight: bold\">)</span>\n",
       "    <span style=\"font-weight: bold\">]</span>,\n",
       "    <span style=\"color: #008000; text-decoration-color: #008000\">'answer_grade'</span>: <span style=\"color: #800080; text-decoration-color: #800080; font-weight: bold\">AnswerGrade</span><span style=\"font-weight: bold\">(</span>\n",
       "        <span style=\"color: #808000; text-decoration-color: #808000\">chain_of_thought</span>=<span style=\"color: #008000; text-decoration-color: #008000\">'The question asks for recent types of adversarial attacks in large language models </span>\n",
       "<span style=\"color: #008000; text-decoration-color: #008000\">(LLMs). The answer provides a detailed, categorized list of different attack types specifically referencing a </span>\n",
       "<span style=\"color: #008000; text-decoration-color: #008000\">recent source from October 2023. It includes a variety of attack types such as adversarial attacks on classifiers, </span>\n",
       "<span style=\"color: #008000; text-decoration-color: #008000\">gradient-based attacks, white-box token-level attacks, universal adversarial triggers, semantically equivalent </span>\n",
       "<span style=\"color: #008000; text-decoration-color: #008000\">adversarial rules, imperceptible or subtle toxic triggers, and attacks targeting text generation. The answer also </span>\n",
       "<span style=\"color: #008000; text-decoration-color: #008000\">summarizes these types and references a credible source for further reading. The response is thorough, relevant, </span>\n",
       "<span style=\"color: #008000; text-decoration-color: #008000\">and clearly addresses the question fully.'</span>,\n",
       "        <span style=\"color: #808000; text-decoration-color: #808000\">is_useful</span>=<span style=\"color: #00ff00; text-decoration-color: #00ff00; font-style: italic\">True</span>\n",
       "    <span style=\"font-weight: bold\">)</span>,\n",
       "    <span style=\"color: #008000; text-decoration-color: #008000\">'answer'</span>: <span style=\"color: #008000; text-decoration-color: #008000\">\"Based on Lilian Weng’s October 2023 article *“Adversarial Attacks on LLMs”*, recent types of </span>\n",
       "<span style=\"color: #008000; text-decoration-color: #008000\">adversarial attacks on large language models (LLMs) can be broadly categorized as follows:\\n\\n1. **Adversarial </span>\n",
       "<span style=\"color: #008000; text-decoration-color: #008000\">attacks on classifiers**:  \\n   These attacks attempt to slightly perturb an input text \\\\(\\\\mathbf{x}\\\\) to </span>\n",
       "<span style=\"color: #008000; text-decoration-color: #008000\">produce an adversarial example \\\\(\\\\mathbf{x}_\\\\text{adv}\\\\) that causes the model’s classifier \\\\(f(.)\\\\) to </span>\n",
       "<span style=\"color: #008000; text-decoration-color: #008000\">change its prediction, i.e., \\\\(f(\\\\mathbf{x}) \\\\neq f(\\\\mathbf{x}_\\\\text{adv})\\\\), while keeping the modifications</span>\n",
       "<span style=\"color: #008000; text-decoration-color: #008000\">imperceptible or semantically similar to humans. This category is inspired by classical adversarial attacks widely </span>\n",
       "<span style=\"color: #008000; text-decoration-color: #008000\">studied in image classification and adapted to text classification and LLMs functioning as classifiers.\\n\\n2. </span>\n",
       "<span style=\"color: #008000; text-decoration-color: #008000\">**Gradient-based attacks**:  \\n   Methods that use the model gradients to guide perturbations in the text input to </span>\n",
       "<span style=\"color: #008000; text-decoration-color: #008000\">mislead the model outputs, such as the work by Guo et al. (2021) [3].\\n\\n3. **White-box attacks at the token level </span>\n",
       "<span style=\"color: #008000; text-decoration-color: #008000\">(e.g., HotFlip)**:  \\n   White-box attacks that flip tokens based on gradient information to change the model's </span>\n",
       "<span style=\"color: #008000; text-decoration-color: #008000\">prediction with minimal edits introduced to the text, exemplified by Ebrahimi et al. (2018) [4].\\n\\n4. **Universal </span>\n",
       "<span style=\"color: #008000; text-decoration-color: #008000\">adversarial triggers**:  \\n   These are input triggers—specific sequences of tokens—that, when prepended or </span>\n",
       "<span style=\"color: #008000; text-decoration-color: #008000\">appended to any input, can consistently cause the model to produce incorrect or undesired outputs, as shown by </span>\n",
       "<span style=\"color: #008000; text-decoration-color: #008000\">Wallace et al. (2019) [5].\\n\\n5. **Semantically equivalent adversarial rules**:  \\n   Creating adversarial examples</span>\n",
       "<span style=\"color: #008000; text-decoration-color: #008000\">by applying transformations that preserve semantic meaning but fool the model, following approaches like Ribeiro et</span>\n",
       "<span style=\"color: #008000; text-decoration-color: #008000\">al. (2018) [2].\\n\\n6. **Imperceptible or subtle toxic triggers**:  \\n   Tiny perturbations designed to inject toxic</span>\n",
       "<span style=\"color: #008000; text-decoration-color: #008000\">or harmful content into otherwise safe prompts, as studied by Mehrabi et al. (2022) [6].\\n\\n7. **Attacks targeting </span>\n",
       "<span style=\"color: #008000; text-decoration-color: #008000\">text generation** (implied but less explicitly described):  \\n   Attackers manipulate prompts or inputs to generate</span>\n",
       "<span style=\"color: #008000; text-decoration-color: #008000\">harmful, biased, or misleading outputs from LLMs.\\n\\n---\\n\\n**Summary:**  \\nRecent adversarial attacks on LLMs </span>\n",
       "<span style=\"color: #008000; text-decoration-color: #008000\">include gradient-based token perturbations, white-box token flips (HotFlip), universal adversarial triggers that </span>\n",
       "<span style=\"color: #008000; text-decoration-color: #008000\">work across inputs, semantically preserving adversarial substitutions, and imperceptible toxicity injections. These</span>\n",
       "<span style=\"color: #008000; text-decoration-color: #008000\">strategies exploit LLM vulnerabilities both in classification and generation tasks to cause undesired output </span>\n",
       "<span style=\"color: #008000; text-decoration-color: #008000\">behaviors.\\n\\nFor full details, see the referenced article:  \\nWeng, Lilian. (Oct 2023). “Adversarial Attacks on </span>\n",
       "<span style=\"color: #008000; text-decoration-color: #008000\">LLMs”. Lil’Log. https://lilianweng.github.io/posts/2023-10-25-adv-attack-llm/\"</span>\n",
       "<span style=\"font-weight: bold\">}</span>\n",
       "</pre>\n"
      ],
      "text/plain": [
       "\u001b[1m{\u001b[0m\n",
       "    \u001b[32m'question'\u001b[0m: \u001b[32m'What are recent types of adversarial attacks in LLM?'\u001b[0m,\n",
       "    \u001b[32m'retrieval_grade'\u001b[0m: \u001b[1;35mRetrievalGrade\u001b[0m\u001b[1m(\u001b[0m\n",
       "        \u001b[33mchain_of_thought\u001b[0m=\u001b[32m'User is asking about recent types of adversarial attacks on large language models \u001b[0m\u001b[32m(\u001b[0m\u001b[32mLLMs\u001b[0m\u001b[32m)\u001b[0m\u001b[32m.\u001b[0m\n",
       "\u001b[32mTo answer this, specific and up-to-date information about various adversarial attacks targeting LLMs is required. \u001b[0m\n",
       "\u001b[32mSince the question explicitly asks for recent types, this implies a need for the latest research findings or news, \u001b[0m\n",
       "\u001b[32mwhich might not be contained in default knowledge. Therefore, additional document retrieval is likely necessary to \u001b[0m\n",
       "\u001b[32mprovide a comprehensive and current answer.'\u001b[0m,\n",
       "        \u001b[33mis_required\u001b[0m=\u001b[3;92mTrue\u001b[0m\n",
       "    \u001b[1m)\u001b[0m,\n",
       "    \u001b[32m'documents'\u001b[0m: \u001b[1m[\u001b[0m\n",
       "        \u001b[1;35mDocument\u001b[0m\u001b[1m(\u001b[0m\n",
       "            \u001b[33mid\u001b[0m=\u001b[32m'699566fc-cb81-4747-bc34-a1e96753b4cc'\u001b[0m,\n",
       "            \u001b[33mmetadata\u001b[0m=\u001b[1m{\u001b[0m\u001b[32m'source'\u001b[0m: \u001b[32m'https://lilianweng.github.io/posts/2023-10-25-adv-attack-llm/'\u001b[0m\u001b[1m}\u001b[0m,\n",
       "            \u001b[33mpage_content\u001b[0m=\u001b[32m'Weng, Lilian. \u001b[0m\u001b[32m(\u001b[0m\u001b[32mOct 2023\u001b[0m\u001b[32m)\u001b[0m\u001b[32m. “Adversarial Attacks on LLMs”. Lil’Log. \u001b[0m\n",
       "\u001b[32mhttps://lilianweng.github.io/posts/2023-10-25-adv-attack-llm/.'\u001b[0m\n",
       "        \u001b[1m)\u001b[0m,\n",
       "        \u001b[1;35mDocument\u001b[0m\u001b[1m(\u001b[0m\n",
       "            \u001b[33mid\u001b[0m=\u001b[32m'b27ccb01-34d4-4f43-8bdc-243fc00cb01f'\u001b[0m,\n",
       "            \u001b[33mmetadata\u001b[0m=\u001b[1m{\u001b[0m\u001b[32m'source'\u001b[0m: \u001b[32m'https://lilianweng.github.io/posts/2023-10-25-adv-attack-llm/'\u001b[0m\u001b[1m}\u001b[0m,\n",
       "            \u001b[33mpage_content\u001b[0m=\u001b[32m'Adversarial Attacks on LLMs\\n    \\nDate: October 25, 2023  |  Estimated Reading Time: 33 \u001b[0m\n",
       "\u001b[32mmin  |  Author: Lilian Weng'\u001b[0m\n",
       "        \u001b[1m)\u001b[0m,\n",
       "        \u001b[1;35mDocument\u001b[0m\u001b[1m(\u001b[0m\n",
       "            \u001b[33mid\u001b[0m=\u001b[32m'b882f510-aed2-489e-9ad0-50f0e574ea51'\u001b[0m,\n",
       "            \u001b[33mmetadata\u001b[0m=\u001b[1m{\u001b[0m\u001b[32m'source'\u001b[0m: \u001b[32m'https://lilianweng.github.io/posts/2023-10-25-adv-attack-llm/'\u001b[0m\u001b[1m}\u001b[0m,\n",
       "            \u001b[33mpage_content\u001b[0m=\u001b[32m'Or\\n@article\u001b[0m\u001b[32m{\u001b[0m\u001b[32mweng2023attack,\\n  title   = \"Adversarial Attacks on LLMs\",\\n  author  = \u001b[0m\n",
       "\u001b[32m\"Weng, Lilian\",\\n  journal = \"lilianweng.github.io\",\\n  year    = \"2023\",\\n  month   = \"Oct\",\\n  url     = \u001b[0m\n",
       "\u001b[32m\"https://lilianweng.github.io/posts/2023-10-25-adv-attack-llm/\"\\n\u001b[0m\u001b[32m}\u001b[0m\u001b[32m\\nReferences#\\n\u001b[0m\u001b[32m[\u001b[0m\u001b[32m1\u001b[0m\u001b[32m]\u001b[0m\u001b[32m Madry et al. “Towards Deep \u001b[0m\n",
       "\u001b[32mLearning Models Resistant to Adversarial Attacks”. ICLR 2018.\\n\u001b[0m\u001b[32m[\u001b[0m\u001b[32m2\u001b[0m\u001b[32m]\u001b[0m\u001b[32m Ribeiro et al. “Semantically equivalent \u001b[0m\n",
       "\u001b[32madversarial rules for debugging NLP models”. ACL 2018.\\n\u001b[0m\u001b[32m[\u001b[0m\u001b[32m3\u001b[0m\u001b[32m]\u001b[0m\u001b[32m Guo et al. “Gradient-based adversarial attacks against \u001b[0m\n",
       "\u001b[32mtext transformers”. arXiv preprint arXiv:2104.13733 \u001b[0m\u001b[32m(\u001b[0m\u001b[32m2021\u001b[0m\u001b[32m)\u001b[0m\u001b[32m.\\n\u001b[0m\u001b[32m[\u001b[0m\u001b[32m4\u001b[0m\u001b[32m]\u001b[0m\u001b[32m Ebrahimi et al. “HotFlip: White-Box Adversarial \u001b[0m\n",
       "\u001b[32mExamples for Text Classification”. ACL 2018.\\n\u001b[0m\u001b[32m[\u001b[0m\u001b[32m5\u001b[0m\u001b[32m]\u001b[0m\u001b[32m Wallace et al. “Universal Adversarial Triggers for Attacking and \u001b[0m\n",
       "\u001b[32mAnalyzing NLP.” EMNLP-IJCNLP 2019. | code\\n\u001b[0m\u001b[32m[\u001b[0m\u001b[32m6\u001b[0m\u001b[32m]\u001b[0m\u001b[32m Mehrabi et al. “Robust Conversational Agents against Imperceptible \u001b[0m\n",
       "\u001b[32mToxicity Triggers.” NAACL 2022.'\u001b[0m\n",
       "        \u001b[1m)\u001b[0m,\n",
       "        \u001b[1;35mDocument\u001b[0m\u001b[1m(\u001b[0m\n",
       "            \u001b[33mid\u001b[0m=\u001b[32m'e5967c3a-5ad9-4182-98ce-08c8fd5e7e03'\u001b[0m,\n",
       "            \u001b[33mmetadata\u001b[0m=\u001b[1m{\u001b[0m\u001b[32m'source'\u001b[0m: \u001b[32m'https://lilianweng.github.io/posts/2023-10-25-adv-attack-llm/'\u001b[0m\u001b[1m}\u001b[0m,\n",
       "            \u001b[33mpage_content\u001b[0m=\u001b[32m'Fig. 1. An overview of threats to LLM-based applications. \u001b[0m\u001b[32m(\u001b[0m\u001b[32mImage source: Greshake et al. \u001b[0m\n",
       "\u001b[32m2023\u001b[0m\u001b[32m)\u001b[0m\u001b[32m\\nClassification#\\nAdversarial attacks on classifiers have attracted more attention in the research community \u001b[0m\n",
       "\u001b[32min the past, many in the image domain. LLMs can be used for classification too. Given an input $\\\\mathbf\u001b[0m\u001b[32m{\u001b[0m\u001b[32mx\u001b[0m\u001b[32m}\u001b[0m\u001b[32m$ and a \u001b[0m\n",
       "\u001b[32mclassifier $f\u001b[0m\u001b[32m(\u001b[0m\u001b[32m.\u001b[0m\u001b[32m)\u001b[0m\u001b[32m$, we would like to find an adversarial version of the input, denoted as $\\\\mathbf\u001b[0m\u001b[32m{\u001b[0m\u001b[32mx\u001b[0m\u001b[32m}\u001b[0m\u001b[32m_\\\\text\u001b[0m\u001b[32m{\u001b[0m\u001b[32madv\u001b[0m\u001b[32m}\u001b[0m\u001b[32m$,\u001b[0m\n",
       "\u001b[32mwith imperceptible difference from $\\\\mathbf\u001b[0m\u001b[32m{\u001b[0m\u001b[32mx\u001b[0m\u001b[32m}\u001b[0m\u001b[32m$, such that $f\u001b[0m\u001b[32m(\u001b[0m\u001b[32m\\\\mathbf\u001b[0m\u001b[32m{\u001b[0m\u001b[32mx\u001b[0m\u001b[32m}\u001b[0m\u001b[32m)\u001b[0m\u001b[32m \\\\neq \u001b[0m\n",
       "\u001b[32mf\u001b[0m\u001b[32m(\u001b[0m\u001b[32m\\\\mathbf\u001b[0m\u001b[32m{\u001b[0m\u001b[32mx\u001b[0m\u001b[32m}\u001b[0m\u001b[32m_\\\\text\u001b[0m\u001b[32m{\u001b[0m\u001b[32madv\u001b[0m\u001b[32m}\u001b[0m\u001b[32m)\u001b[0m\u001b[32m$.\\nText Generation#'\u001b[0m\n",
       "        \u001b[1m)\u001b[0m\n",
       "    \u001b[1m]\u001b[0m,\n",
       "    \u001b[32m'relevance_grades'\u001b[0m: \u001b[1m[\u001b[0m\n",
       "        \u001b[1;35mRelevanceGrade\u001b[0m\u001b[1m(\u001b[0m\n",
       "            \u001b[33mchain_of_thought\u001b[0m=\u001b[32m'The user question asks about recent types of adversarial attacks in large language \u001b[0m\n",
       "\u001b[32mmodels \u001b[0m\u001b[32m(\u001b[0m\u001b[32mLLMs\u001b[0m\u001b[32m)\u001b[0m\u001b[32m. The document retrieved is titled \"Adversarial Attacks on LLMs\" and was published recently in October\u001b[0m\n",
       "\u001b[32m2023. This document likely discusses adversarial attack methods related to LLMs, which directly matches the focus \u001b[0m\n",
       "\u001b[32mof the user question. Therefore, the document is relevant for answering the user question.'\u001b[0m,\n",
       "            \u001b[33mis_relevant\u001b[0m=\u001b[3;92mTrue\u001b[0m\n",
       "        \u001b[1m)\u001b[0m,\n",
       "        \u001b[1;35mRelevanceGrade\u001b[0m\u001b[1m(\u001b[0m\n",
       "            \u001b[33mchain_of_thought\u001b[0m=\u001b[32m\"The\u001b[0m\u001b[32m user's question is about recent types of adversarial attacks in large language \u001b[0m\n",
       "\u001b[32mmodels \u001b[0m\u001b[32m(\u001b[0m\u001b[32mLLMs\u001b[0m\u001b[32m)\u001b[0m\u001b[32m. The retrieved document's title is 'Adversarial Attacks on LLMs' and it is authored recently \u001b[0m\u001b[32m(\u001b[0m\u001b[32mOctober\u001b[0m\n",
       "\u001b[32m25, 2023\u001b[0m\u001b[32m)\u001b[0m\u001b[32m. This strongly suggests that the document discusses adversarial attacks on LLMs, which likely includes \u001b[0m\n",
       "\u001b[32mrecent types of such attacks. Therefore, the document is relevant to the user's question.\"\u001b[0m,\n",
       "            \u001b[33mis_relevant\u001b[0m=\u001b[3;92mTrue\u001b[0m\n",
       "        \u001b[1m)\u001b[0m,\n",
       "        \u001b[1;35mRelevanceGrade\u001b[0m\u001b[1m(\u001b[0m\n",
       "            \u001b[33mchain_of_thought\u001b[0m=\u001b[32m\"The\u001b[0m\u001b[32m user question asks about recent types of adversarial attacks in large language \u001b[0m\n",
       "\u001b[32mmodels \u001b[0m\u001b[32m(\u001b[0m\u001b[32mLLM\u001b[0m\u001b[32m)\u001b[0m\u001b[32m. The retrieved document is an article titled 'Adversarial Attacks on LLMs' by Lilian Weng, published \u001b[0m\n",
       "\u001b[32min 2023. The document appears to be focused on adversarial attacks in LLMs and even includes references to relevant\u001b[0m\n",
       "\u001b[32mliterature in the area such as works on deep learning models resistant to adversarial attacks, adversarial rules \u001b[0m\n",
       "\u001b[32mfor NLP models, gradient-based adversarial attacks against text transformers, and more. This context suggests the \u001b[0m\n",
       "\u001b[32mdocument is highly relevant to the user's question since it specifically addresses adversarial attacks on LLMs and \u001b[0m\n",
       "\u001b[32mis recent \u001b[0m\u001b[32m(\u001b[0m\u001b[32m2023\u001b[0m\u001b[32m)\u001b[0m\u001b[32m. Therefore, the document is relevant.\"\u001b[0m,\n",
       "            \u001b[33mis_relevant\u001b[0m=\u001b[3;92mTrue\u001b[0m\n",
       "        \u001b[1m)\u001b[0m,\n",
       "        \u001b[1;35mRelevanceGrade\u001b[0m\u001b[1m(\u001b[0m\n",
       "            \u001b[33mchain_of_thought\u001b[0m=\u001b[32m'The user question asks about recent types of adversarial attacks in LLMs. The \u001b[0m\n",
       "\u001b[32mdocument mentions adversarial attacks specifically in the context of LLM-based applications and discusses the \u001b[0m\n",
       "\u001b[32mconcept of adversarial attacks on classifiers, including LLMs used for classification. It also elaborates on \u001b[0m\n",
       "\u001b[32mgenerating adversarial inputs to fool classifiers. This shows the document is directly addressing adversarial \u001b[0m\n",
       "\u001b[32mattacks related to LLMs, making it relevant to the question asked.'\u001b[0m,\n",
       "            \u001b[33mis_relevant\u001b[0m=\u001b[3;92mTrue\u001b[0m\n",
       "        \u001b[1m)\u001b[0m\n",
       "    \u001b[1m]\u001b[0m,\n",
       "    \u001b[32m'hallucinations_grade'\u001b[0m: \u001b[1;35mHallucationsGrade\u001b[0m\u001b[1m(\u001b[0m\n",
       "        \u001b[33mchain_of_thought\u001b[0m=\u001b[32m'The answer summarizes types of adversarial attacks on large language models \u001b[0m\u001b[32m(\u001b[0m\u001b[32mLLMs\u001b[0m\u001b[32m)\u001b[0m\u001b[32m based \u001b[0m\n",
       "\u001b[32mon Lilian Weng\\'s October 2023 article \"Adversarial Attacks on LLMs\". The facts include a citation to this article,\u001b[0m\n",
       "\u001b[32mthe name of the author, the date, and the URL, all confirming that the source is trustworthy and authoritative. The\u001b[0m\n",
       "\u001b[32mdetailed attacks listed in the answer correspond to the references cited in the facts: Ribeiro et al. \u001b[0m\u001b[32m(\u001b[0m\u001b[32m2018\u001b[0m\u001b[32m)\u001b[0m\u001b[32m, Guo \u001b[0m\n",
       "\u001b[32met al. \u001b[0m\u001b[32m(\u001b[0m\u001b[32m2021\u001b[0m\u001b[32m)\u001b[0m\u001b[32m, Ebrahimi et al. \u001b[0m\u001b[32m(\u001b[0m\u001b[32m2018\u001b[0m\u001b[32m)\u001b[0m\u001b[32m, Wallace et al. \u001b[0m\u001b[32m(\u001b[0m\u001b[32m2019\u001b[0m\u001b[32m)\u001b[0m\u001b[32m, Mehrabi et al. \u001b[0m\u001b[32m(\u001b[0m\u001b[32m2022\u001b[0m\u001b[32m)\u001b[0m\u001b[32m, all explicitly mentioned in \u001b[0m\n",
       "\u001b[32mthe retrieved documents. The answer correctly describes classification adversarial attacks with the notation \u001b[0m\n",
       "\u001b[32m\\\\\u001b[0m\u001b[32m(\u001b[0m\u001b[32mf\u001b[0m\u001b[32m(\u001b[0m\u001b[32m\\\\mathbf\u001b[0m\u001b[32m{\u001b[0m\u001b[32mx\u001b[0m\u001b[32m}\u001b[0m\u001b[32m)\u001b[0m\u001b[32m \\\\neq f\u001b[0m\u001b[32m(\u001b[0m\u001b[32m\\\\mathbf\u001b[0m\u001b[32m{\u001b[0m\u001b[32mx\u001b[0m\u001b[32m}\u001b[0m\u001b[32m_\\\\text\u001b[0m\u001b[32m{\u001b[0m\u001b[32madv\u001b[0m\u001b[32m}\u001b[0m\u001b[32m)\u001b[0m\u001b[32m\\\\\u001b[0m\u001b[32m)\u001b[0m\u001b[32m which matches the fact snippet describing adversarial attacks\u001b[0m\n",
       "\u001b[32mon classifiers from Lilian Weng\\'s article. The answer\\'s categories and examples are well aligned with the factual\u001b[0m\n",
       "\u001b[32mreferences listed. There is no contradictory information or hallucinated claims outside those references. Hence, \u001b[0m\n",
       "\u001b[32mthe answer is grounded in the set of facts provided.'\u001b[0m,\n",
       "        \u001b[33mis_grounded\u001b[0m=\u001b[3;92mTrue\u001b[0m\n",
       "    \u001b[1m)\u001b[0m,\n",
       "    \u001b[32m'context'\u001b[0m: \u001b[1m[\u001b[0m\n",
       "        \u001b[1;35mDocument\u001b[0m\u001b[1m(\u001b[0m\n",
       "            \u001b[33mid\u001b[0m=\u001b[32m'699566fc-cb81-4747-bc34-a1e96753b4cc'\u001b[0m,\n",
       "            \u001b[33mmetadata\u001b[0m=\u001b[1m{\u001b[0m\u001b[32m'source'\u001b[0m: \u001b[32m'https://lilianweng.github.io/posts/2023-10-25-adv-attack-llm/'\u001b[0m\u001b[1m}\u001b[0m,\n",
       "            \u001b[33mpage_content\u001b[0m=\u001b[32m'Weng, Lilian. \u001b[0m\u001b[32m(\u001b[0m\u001b[32mOct 2023\u001b[0m\u001b[32m)\u001b[0m\u001b[32m. “Adversarial Attacks on LLMs”. Lil’Log. \u001b[0m\n",
       "\u001b[32mhttps://lilianweng.github.io/posts/2023-10-25-adv-attack-llm/.'\u001b[0m\n",
       "        \u001b[1m)\u001b[0m,\n",
       "        \u001b[1;35mDocument\u001b[0m\u001b[1m(\u001b[0m\n",
       "            \u001b[33mid\u001b[0m=\u001b[32m'b27ccb01-34d4-4f43-8bdc-243fc00cb01f'\u001b[0m,\n",
       "            \u001b[33mmetadata\u001b[0m=\u001b[1m{\u001b[0m\u001b[32m'source'\u001b[0m: \u001b[32m'https://lilianweng.github.io/posts/2023-10-25-adv-attack-llm/'\u001b[0m\u001b[1m}\u001b[0m,\n",
       "            \u001b[33mpage_content\u001b[0m=\u001b[32m'Adversarial Attacks on LLMs\\n    \\nDate: October 25, 2023  |  Estimated Reading Time: 33 \u001b[0m\n",
       "\u001b[32mmin  |  Author: Lilian Weng'\u001b[0m\n",
       "        \u001b[1m)\u001b[0m,\n",
       "        \u001b[1;35mDocument\u001b[0m\u001b[1m(\u001b[0m\n",
       "            \u001b[33mid\u001b[0m=\u001b[32m'b882f510-aed2-489e-9ad0-50f0e574ea51'\u001b[0m,\n",
       "            \u001b[33mmetadata\u001b[0m=\u001b[1m{\u001b[0m\u001b[32m'source'\u001b[0m: \u001b[32m'https://lilianweng.github.io/posts/2023-10-25-adv-attack-llm/'\u001b[0m\u001b[1m}\u001b[0m,\n",
       "            \u001b[33mpage_content\u001b[0m=\u001b[32m'Or\\n@article\u001b[0m\u001b[32m{\u001b[0m\u001b[32mweng2023attack,\\n  title   = \"Adversarial Attacks on LLMs\",\\n  author  = \u001b[0m\n",
       "\u001b[32m\"Weng, Lilian\",\\n  journal = \"lilianweng.github.io\",\\n  year    = \"2023\",\\n  month   = \"Oct\",\\n  url     = \u001b[0m\n",
       "\u001b[32m\"https://lilianweng.github.io/posts/2023-10-25-adv-attack-llm/\"\\n\u001b[0m\u001b[32m}\u001b[0m\u001b[32m\\nReferences#\\n\u001b[0m\u001b[32m[\u001b[0m\u001b[32m1\u001b[0m\u001b[32m]\u001b[0m\u001b[32m Madry et al. “Towards Deep \u001b[0m\n",
       "\u001b[32mLearning Models Resistant to Adversarial Attacks”. ICLR 2018.\\n\u001b[0m\u001b[32m[\u001b[0m\u001b[32m2\u001b[0m\u001b[32m]\u001b[0m\u001b[32m Ribeiro et al. “Semantically equivalent \u001b[0m\n",
       "\u001b[32madversarial rules for debugging NLP models”. ACL 2018.\\n\u001b[0m\u001b[32m[\u001b[0m\u001b[32m3\u001b[0m\u001b[32m]\u001b[0m\u001b[32m Guo et al. “Gradient-based adversarial attacks against \u001b[0m\n",
       "\u001b[32mtext transformers”. arXiv preprint arXiv:2104.13733 \u001b[0m\u001b[32m(\u001b[0m\u001b[32m2021\u001b[0m\u001b[32m)\u001b[0m\u001b[32m.\\n\u001b[0m\u001b[32m[\u001b[0m\u001b[32m4\u001b[0m\u001b[32m]\u001b[0m\u001b[32m Ebrahimi et al. “HotFlip: White-Box Adversarial \u001b[0m\n",
       "\u001b[32mExamples for Text Classification”. ACL 2018.\\n\u001b[0m\u001b[32m[\u001b[0m\u001b[32m5\u001b[0m\u001b[32m]\u001b[0m\u001b[32m Wallace et al. “Universal Adversarial Triggers for Attacking and \u001b[0m\n",
       "\u001b[32mAnalyzing NLP.” EMNLP-IJCNLP 2019. | code\\n\u001b[0m\u001b[32m[\u001b[0m\u001b[32m6\u001b[0m\u001b[32m]\u001b[0m\u001b[32m Mehrabi et al. “Robust Conversational Agents against Imperceptible \u001b[0m\n",
       "\u001b[32mToxicity Triggers.” NAACL 2022.'\u001b[0m\n",
       "        \u001b[1m)\u001b[0m,\n",
       "        \u001b[1;35mDocument\u001b[0m\u001b[1m(\u001b[0m\n",
       "            \u001b[33mid\u001b[0m=\u001b[32m'e5967c3a-5ad9-4182-98ce-08c8fd5e7e03'\u001b[0m,\n",
       "            \u001b[33mmetadata\u001b[0m=\u001b[1m{\u001b[0m\u001b[32m'source'\u001b[0m: \u001b[32m'https://lilianweng.github.io/posts/2023-10-25-adv-attack-llm/'\u001b[0m\u001b[1m}\u001b[0m,\n",
       "            \u001b[33mpage_content\u001b[0m=\u001b[32m'Fig. 1. An overview of threats to LLM-based applications. \u001b[0m\u001b[32m(\u001b[0m\u001b[32mImage source: Greshake et al. \u001b[0m\n",
       "\u001b[32m2023\u001b[0m\u001b[32m)\u001b[0m\u001b[32m\\nClassification#\\nAdversarial attacks on classifiers have attracted more attention in the research community \u001b[0m\n",
       "\u001b[32min the past, many in the image domain. LLMs can be used for classification too. Given an input $\\\\mathbf\u001b[0m\u001b[32m{\u001b[0m\u001b[32mx\u001b[0m\u001b[32m}\u001b[0m\u001b[32m$ and a \u001b[0m\n",
       "\u001b[32mclassifier $f\u001b[0m\u001b[32m(\u001b[0m\u001b[32m.\u001b[0m\u001b[32m)\u001b[0m\u001b[32m$, we would like to find an adversarial version of the input, denoted as $\\\\mathbf\u001b[0m\u001b[32m{\u001b[0m\u001b[32mx\u001b[0m\u001b[32m}\u001b[0m\u001b[32m_\\\\text\u001b[0m\u001b[32m{\u001b[0m\u001b[32madv\u001b[0m\u001b[32m}\u001b[0m\u001b[32m$,\u001b[0m\n",
       "\u001b[32mwith imperceptible difference from $\\\\mathbf\u001b[0m\u001b[32m{\u001b[0m\u001b[32mx\u001b[0m\u001b[32m}\u001b[0m\u001b[32m$, such that $f\u001b[0m\u001b[32m(\u001b[0m\u001b[32m\\\\mathbf\u001b[0m\u001b[32m{\u001b[0m\u001b[32mx\u001b[0m\u001b[32m}\u001b[0m\u001b[32m)\u001b[0m\u001b[32m \\\\neq \u001b[0m\n",
       "\u001b[32mf\u001b[0m\u001b[32m(\u001b[0m\u001b[32m\\\\mathbf\u001b[0m\u001b[32m{\u001b[0m\u001b[32mx\u001b[0m\u001b[32m}\u001b[0m\u001b[32m_\\\\text\u001b[0m\u001b[32m{\u001b[0m\u001b[32madv\u001b[0m\u001b[32m}\u001b[0m\u001b[32m)\u001b[0m\u001b[32m$.\\nText Generation#'\u001b[0m\n",
       "        \u001b[1m)\u001b[0m\n",
       "    \u001b[1m]\u001b[0m,\n",
       "    \u001b[32m'answer_grade'\u001b[0m: \u001b[1;35mAnswerGrade\u001b[0m\u001b[1m(\u001b[0m\n",
       "        \u001b[33mchain_of_thought\u001b[0m=\u001b[32m'The question asks for recent types of adversarial attacks in large language models \u001b[0m\n",
       "\u001b[32m(\u001b[0m\u001b[32mLLMs\u001b[0m\u001b[32m)\u001b[0m\u001b[32m. The answer provides a detailed, categorized list of different attack types specifically referencing a \u001b[0m\n",
       "\u001b[32mrecent source from October 2023. It includes a variety of attack types such as adversarial attacks on classifiers, \u001b[0m\n",
       "\u001b[32mgradient-based attacks, white-box token-level attacks, universal adversarial triggers, semantically equivalent \u001b[0m\n",
       "\u001b[32madversarial rules, imperceptible or subtle toxic triggers, and attacks targeting text generation. The answer also \u001b[0m\n",
       "\u001b[32msummarizes these types and references a credible source for further reading. The response is thorough, relevant, \u001b[0m\n",
       "\u001b[32mand clearly addresses the question fully.'\u001b[0m,\n",
       "        \u001b[33mis_useful\u001b[0m=\u001b[3;92mTrue\u001b[0m\n",
       "    \u001b[1m)\u001b[0m,\n",
       "    \u001b[32m'answer'\u001b[0m: \u001b[32m\"Based on Lilian Weng’s October 2023 article *“Adversarial Attacks on LLMs”*, recent types of \u001b[0m\n",
       "\u001b[32madversarial attacks on large language models \u001b[0m\u001b[32m(\u001b[0m\u001b[32mLLMs\u001b[0m\u001b[32m)\u001b[0m\u001b[32m can be broadly categorized as follows:\\n\\n1. **Adversarial \u001b[0m\n",
       "\u001b[32mattacks on classifiers**:  \\n   These attacks attempt to slightly perturb an input text \\\\\u001b[0m\u001b[32m(\u001b[0m\u001b[32m\\\\mathbf\u001b[0m\u001b[32m{\u001b[0m\u001b[32mx\u001b[0m\u001b[32m}\u001b[0m\u001b[32m\\\\\u001b[0m\u001b[32m)\u001b[0m\u001b[32m to \u001b[0m\n",
       "\u001b[32mproduce an adversarial example \\\\\u001b[0m\u001b[32m(\u001b[0m\u001b[32m\\\\mathbf\u001b[0m\u001b[32m{\u001b[0m\u001b[32mx\u001b[0m\u001b[32m}\u001b[0m\u001b[32m_\\\\text\u001b[0m\u001b[32m{\u001b[0m\u001b[32madv\u001b[0m\u001b[32m}\u001b[0m\u001b[32m\\\\\u001b[0m\u001b[32m)\u001b[0m\u001b[32m that causes the model’s classifier \\\\\u001b[0m\u001b[32m(\u001b[0m\u001b[32mf\u001b[0m\u001b[32m(\u001b[0m\u001b[32m.\u001b[0m\u001b[32m)\u001b[0m\u001b[32m\\\\\u001b[0m\u001b[32m)\u001b[0m\u001b[32m to \u001b[0m\n",
       "\u001b[32mchange its prediction, i.e., \\\\\u001b[0m\u001b[32m(\u001b[0m\u001b[32mf\u001b[0m\u001b[32m(\u001b[0m\u001b[32m\\\\mathbf\u001b[0m\u001b[32m{\u001b[0m\u001b[32mx\u001b[0m\u001b[32m}\u001b[0m\u001b[32m)\u001b[0m\u001b[32m \\\\neq f\u001b[0m\u001b[32m(\u001b[0m\u001b[32m\\\\mathbf\u001b[0m\u001b[32m{\u001b[0m\u001b[32mx\u001b[0m\u001b[32m}\u001b[0m\u001b[32m_\\\\text\u001b[0m\u001b[32m{\u001b[0m\u001b[32madv\u001b[0m\u001b[32m}\u001b[0m\u001b[32m)\u001b[0m\u001b[32m\\\\\u001b[0m\u001b[32m)\u001b[0m\u001b[32m, while keeping the modifications\u001b[0m\n",
       "\u001b[32mimperceptible or semantically similar to humans. This category is inspired by classical adversarial attacks widely \u001b[0m\n",
       "\u001b[32mstudied in image classification and adapted to text classification and LLMs functioning as classifiers.\\n\\n2. \u001b[0m\n",
       "\u001b[32m**Gradient-based attacks**:  \\n   Methods that use the model gradients to guide perturbations in the text input to \u001b[0m\n",
       "\u001b[32mmislead the model outputs, such as the work by Guo et al. \u001b[0m\u001b[32m(\u001b[0m\u001b[32m2021\u001b[0m\u001b[32m)\u001b[0m\u001b[32m \u001b[0m\u001b[32m[\u001b[0m\u001b[32m3\u001b[0m\u001b[32m]\u001b[0m\u001b[32m.\\n\\n3. **White-box attacks at the token level \u001b[0m\n",
       "\u001b[32m(\u001b[0m\u001b[32me.g., HotFlip\u001b[0m\u001b[32m)\u001b[0m\u001b[32m**:  \\n   White-box attacks that flip tokens based on gradient information to change the model's \u001b[0m\n",
       "\u001b[32mprediction with minimal edits introduced to the text, exemplified by Ebrahimi et al. \u001b[0m\u001b[32m(\u001b[0m\u001b[32m2018\u001b[0m\u001b[32m)\u001b[0m\u001b[32m \u001b[0m\u001b[32m[\u001b[0m\u001b[32m4\u001b[0m\u001b[32m]\u001b[0m\u001b[32m.\\n\\n4. **Universal \u001b[0m\n",
       "\u001b[32madversarial triggers**:  \\n   These are input triggers—specific sequences of tokens—that, when prepended or \u001b[0m\n",
       "\u001b[32mappended to any input, can consistently cause the model to produce incorrect or undesired outputs, as shown by \u001b[0m\n",
       "\u001b[32mWallace et al. \u001b[0m\u001b[32m(\u001b[0m\u001b[32m2019\u001b[0m\u001b[32m)\u001b[0m\u001b[32m \u001b[0m\u001b[32m[\u001b[0m\u001b[32m5\u001b[0m\u001b[32m]\u001b[0m\u001b[32m.\\n\\n5. **Semantically equivalent adversarial rules**:  \\n   Creating adversarial examples\u001b[0m\n",
       "\u001b[32mby applying transformations that preserve semantic meaning but fool the model, following approaches like Ribeiro et\u001b[0m\n",
       "\u001b[32mal. \u001b[0m\u001b[32m(\u001b[0m\u001b[32m2018\u001b[0m\u001b[32m)\u001b[0m\u001b[32m \u001b[0m\u001b[32m[\u001b[0m\u001b[32m2\u001b[0m\u001b[32m]\u001b[0m\u001b[32m.\\n\\n6. **Imperceptible or subtle toxic triggers**:  \\n   Tiny perturbations designed to inject toxic\u001b[0m\n",
       "\u001b[32mor harmful content into otherwise safe prompts, as studied by Mehrabi et al. \u001b[0m\u001b[32m(\u001b[0m\u001b[32m2022\u001b[0m\u001b[32m)\u001b[0m\u001b[32m \u001b[0m\u001b[32m[\u001b[0m\u001b[32m6\u001b[0m\u001b[32m]\u001b[0m\u001b[32m.\\n\\n7. **Attacks targeting \u001b[0m\n",
       "\u001b[32mtext generation** \u001b[0m\u001b[32m(\u001b[0m\u001b[32mimplied but less explicitly described\u001b[0m\u001b[32m)\u001b[0m\u001b[32m:  \\n   Attackers manipulate prompts or inputs to generate\u001b[0m\n",
       "\u001b[32mharmful, biased, or misleading outputs from LLMs.\\n\\n---\\n\\n**Summary:**  \\nRecent adversarial attacks on LLMs \u001b[0m\n",
       "\u001b[32minclude gradient-based token perturbations, white-box token flips \u001b[0m\u001b[32m(\u001b[0m\u001b[32mHotFlip\u001b[0m\u001b[32m)\u001b[0m\u001b[32m, universal adversarial triggers that \u001b[0m\n",
       "\u001b[32mwork across inputs, semantically preserving adversarial substitutions, and imperceptible toxicity injections. These\u001b[0m\n",
       "\u001b[32mstrategies exploit LLM vulnerabilities both in classification and generation tasks to cause undesired output \u001b[0m\n",
       "\u001b[32mbehaviors.\\n\\nFor full details, see the referenced article:  \\nWeng, Lilian. \u001b[0m\u001b[32m(\u001b[0m\u001b[32mOct 2023\u001b[0m\u001b[32m)\u001b[0m\u001b[32m. “Adversarial Attacks on \u001b[0m\n",
       "\u001b[32mLLMs”. Lil’Log. https://lilianweng.github.io/posts/2023-10-25-adv-attack-llm/\"\u001b[0m\n",
       "\u001b[1m}\u001b[0m\n"
      ]
     },
     "metadata": {},
     "output_type": "display_data"
    },
    {
     "data": {
      "text/html": [
       "<pre style=\"white-space:pre;overflow-x:auto;line-height:normal;font-family:Menlo,'DejaVu Sans Mono',consolas,'Courier New',monospace\">Based on Lilian Weng’s October 2023 article <span style=\"font-style: italic\">“Adversarial Attacks on LLMs”</span>, recent types of adversarial attacks on  \n",
       "large language models (LLMs) can be broadly categorized as follows:                                                \n",
       "\n",
       "<span style=\"color: #808000; text-decoration-color: #808000; font-weight: bold\"> 1 </span><span style=\"font-weight: bold\">Adversarial attacks on classifiers</span>:                                                                             \n",
       "<span style=\"color: #808000; text-decoration-color: #808000; font-weight: bold\">   </span>These attacks attempt to slightly perturb an input text (\\mathbf{x}) to produce an adversarial example          \n",
       "<span style=\"color: #808000; text-decoration-color: #808000; font-weight: bold\">   </span>(\\mathbf{x}<span style=\"font-style: italic\">\\text{adv}) that causes the model’s classifier (f(.)) to change its prediction, i.e., (f(\\mathbf{x}) </span>\n",
       "<span style=\"color: #808000; text-decoration-color: #808000; font-weight: bold\">   </span><span style=\"font-style: italic\">\\neq f(\\mathbf{x}</span>\\text{adv})), while keeping the modifications imperceptible or semantically similar to humans. \n",
       "<span style=\"color: #808000; text-decoration-color: #808000; font-weight: bold\">   </span>This category is inspired by classical adversarial attacks widely studied in image classification and adapted to\n",
       "<span style=\"color: #808000; text-decoration-color: #808000; font-weight: bold\">   </span>text classification and LLMs functioning as classifiers.                                                        \n",
       "<span style=\"color: #808000; text-decoration-color: #808000; font-weight: bold\"> 2 </span><span style=\"font-weight: bold\">Gradient-based attacks</span>:                                                                                         \n",
       "<span style=\"color: #808000; text-decoration-color: #808000; font-weight: bold\">   </span>Methods that use the model gradients to guide perturbations in the text input to mislead the model outputs, such\n",
       "<span style=\"color: #808000; text-decoration-color: #808000; font-weight: bold\">   </span>as the work by Guo et al. (2021) [3].                                                                           \n",
       "<span style=\"color: #808000; text-decoration-color: #808000; font-weight: bold\"> 3 </span><span style=\"font-weight: bold\">White-box attacks at the token level (e.g., HotFlip)</span>:                                                           \n",
       "<span style=\"color: #808000; text-decoration-color: #808000; font-weight: bold\">   </span>White-box attacks that flip tokens based on gradient information to change the model's prediction with minimal  \n",
       "<span style=\"color: #808000; text-decoration-color: #808000; font-weight: bold\">   </span>edits introduced to the text, exemplified by Ebrahimi et al. (2018) [4].                                        \n",
       "<span style=\"color: #808000; text-decoration-color: #808000; font-weight: bold\"> 4 </span><span style=\"font-weight: bold\">Universal adversarial triggers</span>:                                                                                 \n",
       "<span style=\"color: #808000; text-decoration-color: #808000; font-weight: bold\">   </span>These are input triggers—specific sequences of tokens—that, when prepended or appended to any input, can        \n",
       "<span style=\"color: #808000; text-decoration-color: #808000; font-weight: bold\">   </span>consistently cause the model to produce incorrect or undesired outputs, as shown by Wallace et al. (2019) [5].  \n",
       "<span style=\"color: #808000; text-decoration-color: #808000; font-weight: bold\"> 5 </span><span style=\"font-weight: bold\">Semantically equivalent adversarial rules</span>:                                                                      \n",
       "<span style=\"color: #808000; text-decoration-color: #808000; font-weight: bold\">   </span>Creating adversarial examples by applying transformations that preserve semantic meaning but fool the model,    \n",
       "<span style=\"color: #808000; text-decoration-color: #808000; font-weight: bold\">   </span>following approaches like Ribeiro et al. (2018) [2].                                                            \n",
       "<span style=\"color: #808000; text-decoration-color: #808000; font-weight: bold\"> 6 </span><span style=\"font-weight: bold\">Imperceptible or subtle toxic triggers</span>:                                                                         \n",
       "<span style=\"color: #808000; text-decoration-color: #808000; font-weight: bold\">   </span>Tiny perturbations designed to inject toxic or harmful content into otherwise safe prompts, as studied by       \n",
       "<span style=\"color: #808000; text-decoration-color: #808000; font-weight: bold\">   </span>Mehrabi et al. (2022) [6].                                                                                      \n",
       "<span style=\"color: #808000; text-decoration-color: #808000; font-weight: bold\"> 7 </span><span style=\"font-weight: bold\">Attacks targeting text generation</span> (implied but less explicitly described):                                      \n",
       "<span style=\"color: #808000; text-decoration-color: #808000; font-weight: bold\">   </span>Attackers manipulate prompts or inputs to generate harmful, biased, or misleading outputs from LLMs.            \n",
       "\n",
       "<span style=\"color: #808000; text-decoration-color: #808000\">───────────────────────────────────────────────────────────────────────────────────────────────────────────────────</span>\n",
       "<span style=\"font-weight: bold\">Summary:</span>                                                                                                           \n",
       "Recent adversarial attacks on LLMs include gradient-based token perturbations, white-box token flips (HotFlip),    \n",
       "universal adversarial triggers that work across inputs, semantically preserving adversarial substitutions, and     \n",
       "imperceptible toxicity injections. These strategies exploit LLM vulnerabilities both in classification and         \n",
       "generation tasks to cause undesired output behaviors.                                                              \n",
       "\n",
       "For full details, see the referenced article:                                                                      \n",
       "Weng, Lilian. (Oct 2023). “Adversarial Attacks on LLMs”. Lil’Log.                                                  \n",
       "https://lilianweng.github.io/posts/2023-10-25-adv-attack-llm/                                                      \n",
       "</pre>\n"
      ],
      "text/plain": [
       "Based on Lilian Weng’s October 2023 article \u001b[3m“Adversarial Attacks on LLMs”\u001b[0m, recent types of adversarial attacks on  \n",
       "large language models (LLMs) can be broadly categorized as follows:                                                \n",
       "\n",
       "\u001b[1;33m 1 \u001b[0m\u001b[1mAdversarial attacks on classifiers\u001b[0m:                                                                             \n",
       "\u001b[1;33m   \u001b[0mThese attacks attempt to slightly perturb an input text (\\mathbf{x}) to produce an adversarial example          \n",
       "\u001b[1;33m   \u001b[0m(\\mathbf{x}\u001b[3m\\text{adv}) that causes the model’s classifier (f(.)) to change its prediction, i.e., (f(\\mathbf{x}) \u001b[0m\n",
       "\u001b[1;33m   \u001b[0m\u001b[3m\\neq f(\\mathbf{x}\u001b[0m\\text{adv})), while keeping the modifications imperceptible or semantically similar to humans. \n",
       "\u001b[1;33m   \u001b[0mThis category is inspired by classical adversarial attacks widely studied in image classification and adapted to\n",
       "\u001b[1;33m   \u001b[0mtext classification and LLMs functioning as classifiers.                                                        \n",
       "\u001b[1;33m 2 \u001b[0m\u001b[1mGradient-based attacks\u001b[0m:                                                                                         \n",
       "\u001b[1;33m   \u001b[0mMethods that use the model gradients to guide perturbations in the text input to mislead the model outputs, such\n",
       "\u001b[1;33m   \u001b[0mas the work by Guo et al. (2021) [3].                                                                           \n",
       "\u001b[1;33m 3 \u001b[0m\u001b[1mWhite-box attacks at the token level (e.g., HotFlip)\u001b[0m:                                                           \n",
       "\u001b[1;33m   \u001b[0mWhite-box attacks that flip tokens based on gradient information to change the model's prediction with minimal  \n",
       "\u001b[1;33m   \u001b[0medits introduced to the text, exemplified by Ebrahimi et al. (2018) [4].                                        \n",
       "\u001b[1;33m 4 \u001b[0m\u001b[1mUniversal adversarial triggers\u001b[0m:                                                                                 \n",
       "\u001b[1;33m   \u001b[0mThese are input triggers—specific sequences of tokens—that, when prepended or appended to any input, can        \n",
       "\u001b[1;33m   \u001b[0mconsistently cause the model to produce incorrect or undesired outputs, as shown by Wallace et al. (2019) [5].  \n",
       "\u001b[1;33m 5 \u001b[0m\u001b[1mSemantically equivalent adversarial rules\u001b[0m:                                                                      \n",
       "\u001b[1;33m   \u001b[0mCreating adversarial examples by applying transformations that preserve semantic meaning but fool the model,    \n",
       "\u001b[1;33m   \u001b[0mfollowing approaches like Ribeiro et al. (2018) [2].                                                            \n",
       "\u001b[1;33m 6 \u001b[0m\u001b[1mImperceptible or subtle toxic triggers\u001b[0m:                                                                         \n",
       "\u001b[1;33m   \u001b[0mTiny perturbations designed to inject toxic or harmful content into otherwise safe prompts, as studied by       \n",
       "\u001b[1;33m   \u001b[0mMehrabi et al. (2022) [6].                                                                                      \n",
       "\u001b[1;33m 7 \u001b[0m\u001b[1mAttacks targeting text generation\u001b[0m (implied but less explicitly described):                                      \n",
       "\u001b[1;33m   \u001b[0mAttackers manipulate prompts or inputs to generate harmful, biased, or misleading outputs from LLMs.            \n",
       "\n",
       "\u001b[33m───────────────────────────────────────────────────────────────────────────────────────────────────────────────────\u001b[0m\n",
       "\u001b[1mSummary:\u001b[0m                                                                                                           \n",
       "Recent adversarial attacks on LLMs include gradient-based token perturbations, white-box token flips (HotFlip),    \n",
       "universal adversarial triggers that work across inputs, semantically preserving adversarial substitutions, and     \n",
       "imperceptible toxicity injections. These strategies exploit LLM vulnerabilities both in classification and         \n",
       "generation tasks to cause undesired output behaviors.                                                              \n",
       "\n",
       "For full details, see the referenced article:                                                                      \n",
       "Weng, Lilian. (Oct 2023). “Adversarial Attacks on LLMs”. Lil’Log.                                                  \n",
       "https://lilianweng.github.io/posts/2023-10-25-adv-attack-llm/                                                      \n"
      ]
     },
     "metadata": {},
     "output_type": "display_data"
    }
   ],
   "source": [
    "query = \"What are recent types of adversarial attacks in LLM?\"\n",
    "\n",
    "response = graph.invoke({\"question\": query})\n",
    "rprint(response)\n",
    "rprint(Markdown(response[\"answer\"]))"
   ]
  },
  {
   "cell_type": "code",
   "execution_count": 37,
   "id": "d74222a1-7085-4ecc-adc8-df307f7178e3",
   "metadata": {},
   "outputs": [
    {
     "data": {
      "text/html": [
       "<pre style=\"white-space:pre;overflow-x:auto;line-height:normal;font-family:Menlo,'DejaVu Sans Mono',consolas,'Courier New',monospace\"><span style=\"font-weight: bold\">{</span>\n",
       "    <span style=\"color: #008000; text-decoration-color: #008000\">'question'</span>: <span style=\"color: #008000; text-decoration-color: #008000\">'How does the AlphaCodium paper work?'</span>,\n",
       "    <span style=\"color: #008000; text-decoration-color: #008000\">'retrieval_grade'</span>: <span style=\"color: #800080; text-decoration-color: #800080; font-weight: bold\">RetrievalGrade</span><span style=\"font-weight: bold\">(</span>\n",
       "        <span style=\"color: #808000; text-decoration-color: #808000\">chain_of_thought</span>=<span style=\"color: #008000; text-decoration-color: #008000\">'The user is asking about how the AlphaCodium paper works, which likely requires detailed </span>\n",
       "<span style=\"color: #008000; text-decoration-color: #008000\">information on the methodology, approach, and findings of the AlphaCodium paper. Without the content or summary of </span>\n",
       "<span style=\"color: #008000; text-decoration-color: #008000\">the AlphaCodium paper provided in the current conversation, I do not have sufficient information to answer this </span>\n",
       "<span style=\"color: #008000; text-decoration-color: #008000\">question thoroughly. Therefore, retrieval of additional documents about the AlphaCodium paper is necessary.'</span>,\n",
       "        <span style=\"color: #808000; text-decoration-color: #808000\">is_required</span>=<span style=\"color: #00ff00; text-decoration-color: #00ff00; font-style: italic\">True</span>\n",
       "    <span style=\"font-weight: bold\">)</span>,\n",
       "    <span style=\"color: #008000; text-decoration-color: #008000\">'documents'</span>: <span style=\"font-weight: bold\">[</span>\n",
       "        <span style=\"color: #800080; text-decoration-color: #800080; font-weight: bold\">Document</span><span style=\"font-weight: bold\">(</span>\n",
       "            <span style=\"color: #808000; text-decoration-color: #808000\">id</span>=<span style=\"color: #008000; text-decoration-color: #008000\">'99f01c59-8b0f-4f77-8c5c-ebbedd234e80'</span>,\n",
       "            <span style=\"color: #808000; text-decoration-color: #808000\">metadata</span>=<span style=\"font-weight: bold\">{</span><span style=\"color: #008000; text-decoration-color: #008000\">'source'</span>: <span style=\"color: #008000; text-decoration-color: #008000\">'https://lilianweng.github.io/posts/2023-06-23-agent/'</span><span style=\"font-weight: bold\">}</span>,\n",
       "            <span style=\"color: #808000; text-decoration-color: #808000\">page_content</span>=<span style=\"color: #008000; text-decoration-color: #008000\">'Case Studies#\\nScientific Discovery Agent#\\nChemCrow (Bran et al. 2023) is a </span>\n",
       "<span style=\"color: #008000; text-decoration-color: #008000\">domain-specific example in which LLM is augmented with 13 expert-designed tools to accomplish tasks across organic </span>\n",
       "<span style=\"color: #008000; text-decoration-color: #008000\">synthesis, drug discovery, and materials design. The workflow, implemented in LangChain, reflects what was </span>\n",
       "<span style=\"color: #008000; text-decoration-color: #008000\">previously described in the ReAct and MRKLs and combines CoT reasoning with tools relevant to the tasks:\\n\\nThe LLM</span>\n",
       "<span style=\"color: #008000; text-decoration-color: #008000\">is provided with a list of tool names, descriptions of their utility, and details about the expected </span>\n",
       "<span style=\"color: #008000; text-decoration-color: #008000\">input/output.\\nIt is then instructed to answer a user-given prompt using the tools provided when necessary. The </span>\n",
       "<span style=\"color: #008000; text-decoration-color: #008000\">instruction suggests the model to follow the ReAct format - Thought, Action, Action Input, Observation.'</span>\n",
       "        <span style=\"font-weight: bold\">)</span>,\n",
       "        <span style=\"color: #800080; text-decoration-color: #800080; font-weight: bold\">Document</span><span style=\"font-weight: bold\">(</span>\n",
       "            <span style=\"color: #808000; text-decoration-color: #808000\">id</span>=<span style=\"color: #008000; text-decoration-color: #008000\">'6aeaf1d5-1c9e-4e06-828e-d381c6eb11e5'</span>,\n",
       "            <span style=\"color: #808000; text-decoration-color: #808000\">metadata</span>=<span style=\"font-weight: bold\">{</span><span style=\"color: #008000; text-decoration-color: #008000\">'source'</span>: <span style=\"color: #008000; text-decoration-color: #008000\">'https://lilianweng.github.io/posts/2023-10-25-adv-attack-llm/'</span><span style=\"font-weight: bold\">}</span>,\n",
       "            <span style=\"color: #808000; text-decoration-color: #808000\">page_content</span>=<span style=\"color: #008000; text-decoration-color: #008000\">'Effectiveness is measured by attack objective functions designed for different </span>\n",
       "<span style=\"color: #008000; text-decoration-color: #008000\">experiments:\\n- In text-to-image experiment, they used Q16 (Schramowski et al. 2022) and NudeNet </span>\n",
       "<span style=\"color: #008000; text-decoration-color: #008000\">(https://github.com/notAI-tech/NudeNet).\\n- text-to-text experiment: TOXIGEN\\nDiversity is measured by pairwise </span>\n",
       "<span style=\"color: #008000; text-decoration-color: #008000\">dissimilarity, in form of $\\\\sum_{(\\\\mathbf{x}_i, \\\\mathbf{x}_j) \\\\in \\\\text{All pairs}} [1 - </span>\n",
       "<span style=\"color: #008000; text-decoration-color: #008000\">\\\\text{sim}(\\\\mathbf{x}_i, \\\\mathbf{x}_j)]$\\nLow-toxicity is measured by Perspective API.\\n\\n\\nScoring-LIFO: </span>\n",
       "<span style=\"color: #008000; text-decoration-color: #008000\">Combine LIFO and Scoring strategies and force to update the last entry if the queue hasn’t been updated for a long </span>\n",
       "<span style=\"color: #008000; text-decoration-color: #008000\">time.'</span>\n",
       "        <span style=\"font-weight: bold\">)</span>,\n",
       "        <span style=\"color: #800080; text-decoration-color: #800080; font-weight: bold\">Document</span><span style=\"font-weight: bold\">(</span>\n",
       "            <span style=\"color: #808000; text-decoration-color: #808000\">id</span>=<span style=\"color: #008000; text-decoration-color: #008000\">'24a921a4-e750-4095-8a3c-57d295cece3e'</span>,\n",
       "            <span style=\"color: #808000; text-decoration-color: #808000\">metadata</span>=<span style=\"font-weight: bold\">{</span><span style=\"color: #008000; text-decoration-color: #008000\">'source'</span>: <span style=\"color: #008000; text-decoration-color: #008000\">'https://lilianweng.github.io/posts/2023-10-25-adv-attack-llm/'</span><span style=\"font-weight: bold\">}</span>,\n",
       "            <span style=\"color: #808000; text-decoration-color: #808000\">page_content</span>=<span style=\"color: #008000; text-decoration-color: #008000\">'Fig. 9. Average attack success rate on \"HB (harmful behavior)\" instructions, averaging 5 </span>\n",
       "<span style=\"color: #008000; text-decoration-color: #008000\">prompts. Two baselines are \"HB\" prompt only or HB prompt followed by `\"Sure here\\'s\"` as a suffix. \"Concatenation\" </span>\n",
       "<span style=\"color: #008000; text-decoration-color: #008000\">combines several adversarial suffixes to construct a more powerful attack with a significantly higher success rate </span>\n",
       "<span style=\"color: #008000; text-decoration-color: #008000\">in some cases. \"Ensemble\" tracks if any of 5 prompts and the concatenated one succeeded. (Image source: Zou et al. </span>\n",
       "<span style=\"color: #008000; text-decoration-color: #008000\">2023)\\nARCA (“Autoregressive Randomized Coordinate Ascent”; Jones et al. 2023) considers a broader set of </span>\n",
       "<span style=\"color: #008000; text-decoration-color: #008000\">optimization problems to find input-output pairs $(\\\\mathbf{x}, \\\\mathbf{y})$ that match certain behavior pattern; </span>\n",
       "<span style=\"color: #008000; text-decoration-color: #008000\">such as non-toxic input starting with \"Barack Obama\" but leading to toxic output. Given an auditing objective </span>\n",
       "<span style=\"color: #008000; text-decoration-color: #008000\">$\\\\phi: \\\\mathcal{X} \\\\times \\\\mathcal{Y} \\\\to \\\\mathbb{R}$ that maps a pair of (input prompt, output completion) </span>\n",
       "<span style=\"color: #008000; text-decoration-color: #008000\">into scores. Examples of behavior patterns captured by $\\\\phi$ are as follows:'</span>\n",
       "        <span style=\"font-weight: bold\">)</span>,\n",
       "        <span style=\"color: #800080; text-decoration-color: #800080; font-weight: bold\">Document</span><span style=\"font-weight: bold\">(</span>\n",
       "            <span style=\"color: #808000; text-decoration-color: #808000\">id</span>=<span style=\"color: #008000; text-decoration-color: #008000\">'c5b6d596-85f8-4a50-8842-3786b0f424b3'</span>,\n",
       "            <span style=\"color: #808000; text-decoration-color: #808000\">metadata</span>=<span style=\"font-weight: bold\">{</span><span style=\"color: #008000; text-decoration-color: #008000\">'source'</span>: <span style=\"color: #008000; text-decoration-color: #008000\">'https://lilianweng.github.io/posts/2023-06-23-agent/'</span><span style=\"font-weight: bold\">}</span>,\n",
       "            <span style=\"color: #808000; text-decoration-color: #808000\">page_content</span>=<span style=\"color: #008000; text-decoration-color: #008000\">'Fig. 4. Experiments on AlfWorld Env and HotpotQA. Hallucination is a more common failure </span>\n",
       "<span style=\"color: #008000; text-decoration-color: #008000\">than inefficient planning in AlfWorld. (Image source: Shinn &amp; Labash, 2023)'</span>\n",
       "        <span style=\"font-weight: bold\">)</span>\n",
       "    <span style=\"font-weight: bold\">]</span>,\n",
       "    <span style=\"color: #008000; text-decoration-color: #008000\">'relevance_grades'</span>: <span style=\"font-weight: bold\">[</span>\n",
       "        <span style=\"color: #800080; text-decoration-color: #800080; font-weight: bold\">RelevanceGrade</span><span style=\"font-weight: bold\">(</span>\n",
       "            <span style=\"color: #808000; text-decoration-color: #808000\">chain_of_thought</span>=<span style=\"color: #008000; text-decoration-color: #008000\">'The user question is specifically about how the AlphaCodium paper works. The </span>\n",
       "<span style=\"color: #008000; text-decoration-color: #008000\">retrieved document discusses ChemCrow, an example of using large language models augmented with expert tools for </span>\n",
       "<span style=\"color: #008000; text-decoration-color: #008000\">tasks in organic synthesis, drug discovery, and materials design. It mentions the workflow, tool integration, and </span>\n",
       "<span style=\"color: #008000; text-decoration-color: #008000\">reasoning approach but does not mention AlphaCodium or related topics. Therefore, the document does not contain </span>\n",
       "<span style=\"color: #008000; text-decoration-color: #008000\">information related to the AlphaCodium paper or how it works.'</span>,\n",
       "            <span style=\"color: #808000; text-decoration-color: #808000\">is_relevant</span>=<span style=\"color: #ff0000; text-decoration-color: #ff0000; font-style: italic\">False</span>\n",
       "        <span style=\"font-weight: bold\">)</span>,\n",
       "        <span style=\"color: #800080; text-decoration-color: #800080; font-weight: bold\">RelevanceGrade</span><span style=\"font-weight: bold\">(</span>\n",
       "            <span style=\"color: #808000; text-decoration-color: #808000\">chain_of_thought</span>=<span style=\"color: #008000; text-decoration-color: #008000\">'The user question asks specifically about how the AlphaCodium paper works. The </span>\n",
       "<span style=\"color: #008000; text-decoration-color: #008000\">retrieved document discusses evaluation metrics for attacks, such as effectiveness in text-to-image and </span>\n",
       "<span style=\"color: #008000; text-decoration-color: #008000\">text-to-text experiments, diversity measures, and low-toxicity metrics. However, the content does not mention </span>\n",
       "<span style=\"color: #008000; text-decoration-color: #008000\">AlphaCodium or provide any details about it. Therefore, the document does not address the question of how </span>\n",
       "<span style=\"color: #008000; text-decoration-color: #008000\">AlphaCodium works and is not relevant.'</span>,\n",
       "            <span style=\"color: #808000; text-decoration-color: #808000\">is_relevant</span>=<span style=\"color: #ff0000; text-decoration-color: #ff0000; font-style: italic\">False</span>\n",
       "        <span style=\"font-weight: bold\">)</span>,\n",
       "        <span style=\"color: #800080; text-decoration-color: #800080; font-weight: bold\">RelevanceGrade</span><span style=\"font-weight: bold\">(</span>\n",
       "            <span style=\"color: #808000; text-decoration-color: #808000\">chain_of_thought</span>=<span style=\"color: #008000; text-decoration-color: #008000\">'The user question is about the workings of the AlphaCodium paper. The retrieved </span>\n",
       "<span style=\"color: #008000; text-decoration-color: #008000\">document discusses attack success rates on harmful behavior instructions, adversarial suffixes, and ARCA </span>\n",
       "<span style=\"color: #008000; text-decoration-color: #008000\">optimization methods in finding input-output pairs with specific behavior patterns. There is no mention or </span>\n",
       "<span style=\"color: #008000; text-decoration-color: #008000\">indication of the AlphaCodium paper or its methods in the retrieved text. Therefore, the document does not provide </span>\n",
       "<span style=\"color: #008000; text-decoration-color: #008000\">relevant information about how the AlphaCodium paper works.'</span>,\n",
       "            <span style=\"color: #808000; text-decoration-color: #808000\">is_relevant</span>=<span style=\"color: #ff0000; text-decoration-color: #ff0000; font-style: italic\">False</span>\n",
       "        <span style=\"font-weight: bold\">)</span>,\n",
       "        <span style=\"color: #800080; text-decoration-color: #800080; font-weight: bold\">RelevanceGrade</span><span style=\"font-weight: bold\">(</span>\n",
       "            <span style=\"color: #808000; text-decoration-color: #808000\">chain_of_thought</span>=<span style=\"color: #008000; text-decoration-color: #008000\">\"The user question is about the 'AlphaCodium' paper and how it works. The retrieved </span>\n",
       "<span style=\"color: #008000; text-decoration-color: #008000\">document talks about experiments on AlfWorld Env and HotpotQA, mentioning issues like hallucination and inefficient</span>\n",
       "<span style=\"color: #008000; text-decoration-color: #008000\">planning, and cites Shinn &amp; Labash, 2023. There is no mention or apparent connection to 'AlphaCodium' or </span>\n",
       "<span style=\"color: #008000; text-decoration-color: #008000\">description of that paper's workings. Hence, the document does not address the user's question.\"</span>,\n",
       "            <span style=\"color: #808000; text-decoration-color: #808000\">is_relevant</span>=<span style=\"color: #ff0000; text-decoration-color: #ff0000; font-style: italic\">False</span>\n",
       "        <span style=\"font-weight: bold\">)</span>\n",
       "    <span style=\"font-weight: bold\">]</span>,\n",
       "    <span style=\"color: #008000; text-decoration-color: #008000\">'context'</span>: <span style=\"font-weight: bold\">[]</span>,\n",
       "    <span style=\"color: #008000; text-decoration-color: #008000\">'answer'</span>: <span style=\"color: #008000; text-decoration-color: #008000\">\"I don't have an answer to the question.\"</span>\n",
       "<span style=\"font-weight: bold\">}</span>\n",
       "</pre>\n"
      ],
      "text/plain": [
       "\u001b[1m{\u001b[0m\n",
       "    \u001b[32m'question'\u001b[0m: \u001b[32m'How does the AlphaCodium paper work?'\u001b[0m,\n",
       "    \u001b[32m'retrieval_grade'\u001b[0m: \u001b[1;35mRetrievalGrade\u001b[0m\u001b[1m(\u001b[0m\n",
       "        \u001b[33mchain_of_thought\u001b[0m=\u001b[32m'The user is asking about how the AlphaCodium paper works, which likely requires detailed \u001b[0m\n",
       "\u001b[32minformation on the methodology, approach, and findings of the AlphaCodium paper. Without the content or summary of \u001b[0m\n",
       "\u001b[32mthe AlphaCodium paper provided in the current conversation, I do not have sufficient information to answer this \u001b[0m\n",
       "\u001b[32mquestion thoroughly. Therefore, retrieval of additional documents about the AlphaCodium paper is necessary.'\u001b[0m,\n",
       "        \u001b[33mis_required\u001b[0m=\u001b[3;92mTrue\u001b[0m\n",
       "    \u001b[1m)\u001b[0m,\n",
       "    \u001b[32m'documents'\u001b[0m: \u001b[1m[\u001b[0m\n",
       "        \u001b[1;35mDocument\u001b[0m\u001b[1m(\u001b[0m\n",
       "            \u001b[33mid\u001b[0m=\u001b[32m'99f01c59-8b0f-4f77-8c5c-ebbedd234e80'\u001b[0m,\n",
       "            \u001b[33mmetadata\u001b[0m=\u001b[1m{\u001b[0m\u001b[32m'source'\u001b[0m: \u001b[32m'https://lilianweng.github.io/posts/2023-06-23-agent/'\u001b[0m\u001b[1m}\u001b[0m,\n",
       "            \u001b[33mpage_content\u001b[0m=\u001b[32m'Case Studies#\\nScientific Discovery Agent#\\nChemCrow \u001b[0m\u001b[32m(\u001b[0m\u001b[32mBran et al. 2023\u001b[0m\u001b[32m)\u001b[0m\u001b[32m is a \u001b[0m\n",
       "\u001b[32mdomain-specific example in which LLM is augmented with 13 expert-designed tools to accomplish tasks across organic \u001b[0m\n",
       "\u001b[32msynthesis, drug discovery, and materials design. The workflow, implemented in LangChain, reflects what was \u001b[0m\n",
       "\u001b[32mpreviously described in the ReAct and MRKLs and combines CoT reasoning with tools relevant to the tasks:\\n\\nThe LLM\u001b[0m\n",
       "\u001b[32mis provided with a list of tool names, descriptions of their utility, and details about the expected \u001b[0m\n",
       "\u001b[32minput/output.\\nIt is then instructed to answer a user-given prompt using the tools provided when necessary. The \u001b[0m\n",
       "\u001b[32minstruction suggests the model to follow the ReAct format - Thought, Action, Action Input, Observation.'\u001b[0m\n",
       "        \u001b[1m)\u001b[0m,\n",
       "        \u001b[1;35mDocument\u001b[0m\u001b[1m(\u001b[0m\n",
       "            \u001b[33mid\u001b[0m=\u001b[32m'6aeaf1d5-1c9e-4e06-828e-d381c6eb11e5'\u001b[0m,\n",
       "            \u001b[33mmetadata\u001b[0m=\u001b[1m{\u001b[0m\u001b[32m'source'\u001b[0m: \u001b[32m'https://lilianweng.github.io/posts/2023-10-25-adv-attack-llm/'\u001b[0m\u001b[1m}\u001b[0m,\n",
       "            \u001b[33mpage_content\u001b[0m=\u001b[32m'Effectiveness is measured by attack objective functions designed for different \u001b[0m\n",
       "\u001b[32mexperiments:\\n- In text-to-image experiment, they used Q16 \u001b[0m\u001b[32m(\u001b[0m\u001b[32mSchramowski et al. 2022\u001b[0m\u001b[32m)\u001b[0m\u001b[32m and NudeNet \u001b[0m\n",
       "\u001b[32m(\u001b[0m\u001b[32mhttps://github.com/notAI-tech/NudeNet\u001b[0m\u001b[32m)\u001b[0m\u001b[32m.\\n- text-to-text experiment: TOXIGEN\\nDiversity is measured by pairwise \u001b[0m\n",
       "\u001b[32mdissimilarity, in form of $\\\\sum_\u001b[0m\u001b[32m{\u001b[0m\u001b[32m(\u001b[0m\u001b[32m\\\\mathbf\u001b[0m\u001b[32m{\u001b[0m\u001b[32mx\u001b[0m\u001b[32m}\u001b[0m\u001b[32m_i, \\\\mathbf\u001b[0m\u001b[32m{\u001b[0m\u001b[32mx\u001b[0m\u001b[32m}\u001b[0m\u001b[32m_j\u001b[0m\u001b[32m)\u001b[0m\u001b[32m \\\\in \\\\text\u001b[0m\u001b[32m{\u001b[0m\u001b[32mAll pairs\u001b[0m\u001b[32m}\u001b[0m\u001b[32m}\u001b[0m\u001b[32m \u001b[0m\u001b[32m[\u001b[0m\u001b[32m1 - \u001b[0m\n",
       "\u001b[32m\\\\text\u001b[0m\u001b[32m{\u001b[0m\u001b[32msim\u001b[0m\u001b[32m}\u001b[0m\u001b[32m(\u001b[0m\u001b[32m\\\\mathbf\u001b[0m\u001b[32m{\u001b[0m\u001b[32mx\u001b[0m\u001b[32m}\u001b[0m\u001b[32m_i, \\\\mathbf\u001b[0m\u001b[32m{\u001b[0m\u001b[32mx\u001b[0m\u001b[32m}\u001b[0m\u001b[32m_j\u001b[0m\u001b[32m)\u001b[0m\u001b[32m]\u001b[0m\u001b[32m$\\nLow-toxicity is measured by Perspective API.\\n\\n\\nScoring-LIFO: \u001b[0m\n",
       "\u001b[32mCombine LIFO and Scoring strategies and force to update the last entry if the queue hasn’t been updated for a long \u001b[0m\n",
       "\u001b[32mtime.'\u001b[0m\n",
       "        \u001b[1m)\u001b[0m,\n",
       "        \u001b[1;35mDocument\u001b[0m\u001b[1m(\u001b[0m\n",
       "            \u001b[33mid\u001b[0m=\u001b[32m'24a921a4-e750-4095-8a3c-57d295cece3e'\u001b[0m,\n",
       "            \u001b[33mmetadata\u001b[0m=\u001b[1m{\u001b[0m\u001b[32m'source'\u001b[0m: \u001b[32m'https://lilianweng.github.io/posts/2023-10-25-adv-attack-llm/'\u001b[0m\u001b[1m}\u001b[0m,\n",
       "            \u001b[33mpage_content\u001b[0m=\u001b[32m'Fig. 9. Average attack success rate on \"HB \u001b[0m\u001b[32m(\u001b[0m\u001b[32mharmful behavior\u001b[0m\u001b[32m)\u001b[0m\u001b[32m\" instructions, averaging 5 \u001b[0m\n",
       "\u001b[32mprompts. Two baselines are \"HB\" prompt only or HB prompt followed by `\"Sure here\\'s\"` as a suffix. \"Concatenation\" \u001b[0m\n",
       "\u001b[32mcombines several adversarial suffixes to construct a more powerful attack with a significantly higher success rate \u001b[0m\n",
       "\u001b[32min some cases. \"Ensemble\" tracks if any of 5 prompts and the concatenated one succeeded. \u001b[0m\u001b[32m(\u001b[0m\u001b[32mImage source: Zou et al. \u001b[0m\n",
       "\u001b[32m2023\u001b[0m\u001b[32m)\u001b[0m\u001b[32m\\nARCA \u001b[0m\u001b[32m(\u001b[0m\u001b[32m“Autoregressive Randomized Coordinate Ascent”; Jones et al. 2023\u001b[0m\u001b[32m)\u001b[0m\u001b[32m considers a broader set of \u001b[0m\n",
       "\u001b[32moptimization problems to find input-output pairs $\u001b[0m\u001b[32m(\u001b[0m\u001b[32m\\\\mathbf\u001b[0m\u001b[32m{\u001b[0m\u001b[32mx\u001b[0m\u001b[32m}\u001b[0m\u001b[32m, \\\\mathbf\u001b[0m\u001b[32m{\u001b[0m\u001b[32my\u001b[0m\u001b[32m}\u001b[0m\u001b[32m)\u001b[0m\u001b[32m$ that match certain behavior pattern; \u001b[0m\n",
       "\u001b[32msuch as non-toxic input starting with \"Barack Obama\" but leading to toxic output. Given an auditing objective \u001b[0m\n",
       "\u001b[32m$\\\\phi: \\\\mathcal\u001b[0m\u001b[32m{\u001b[0m\u001b[32mX\u001b[0m\u001b[32m}\u001b[0m\u001b[32m \\\\times \\\\mathcal\u001b[0m\u001b[32m{\u001b[0m\u001b[32mY\u001b[0m\u001b[32m}\u001b[0m\u001b[32m \\\\to \\\\mathbb\u001b[0m\u001b[32m{\u001b[0m\u001b[32mR\u001b[0m\u001b[32m}\u001b[0m\u001b[32m$ that maps a pair of \u001b[0m\u001b[32m(\u001b[0m\u001b[32minput prompt, output completion\u001b[0m\u001b[32m)\u001b[0m\u001b[32m \u001b[0m\n",
       "\u001b[32minto scores. Examples of behavior patterns captured by $\\\\phi$ are as follows:'\u001b[0m\n",
       "        \u001b[1m)\u001b[0m,\n",
       "        \u001b[1;35mDocument\u001b[0m\u001b[1m(\u001b[0m\n",
       "            \u001b[33mid\u001b[0m=\u001b[32m'c5b6d596-85f8-4a50-8842-3786b0f424b3'\u001b[0m,\n",
       "            \u001b[33mmetadata\u001b[0m=\u001b[1m{\u001b[0m\u001b[32m'source'\u001b[0m: \u001b[32m'https://lilianweng.github.io/posts/2023-06-23-agent/'\u001b[0m\u001b[1m}\u001b[0m,\n",
       "            \u001b[33mpage_content\u001b[0m=\u001b[32m'Fig. 4. Experiments on AlfWorld Env and HotpotQA. Hallucination is a more common failure \u001b[0m\n",
       "\u001b[32mthan inefficient planning in AlfWorld. \u001b[0m\u001b[32m(\u001b[0m\u001b[32mImage source: Shinn & Labash, 2023\u001b[0m\u001b[32m)\u001b[0m\u001b[32m'\u001b[0m\n",
       "        \u001b[1m)\u001b[0m\n",
       "    \u001b[1m]\u001b[0m,\n",
       "    \u001b[32m'relevance_grades'\u001b[0m: \u001b[1m[\u001b[0m\n",
       "        \u001b[1;35mRelevanceGrade\u001b[0m\u001b[1m(\u001b[0m\n",
       "            \u001b[33mchain_of_thought\u001b[0m=\u001b[32m'The user question is specifically about how the AlphaCodium paper works. The \u001b[0m\n",
       "\u001b[32mretrieved document discusses ChemCrow, an example of using large language models augmented with expert tools for \u001b[0m\n",
       "\u001b[32mtasks in organic synthesis, drug discovery, and materials design. It mentions the workflow, tool integration, and \u001b[0m\n",
       "\u001b[32mreasoning approach but does not mention AlphaCodium or related topics. Therefore, the document does not contain \u001b[0m\n",
       "\u001b[32minformation related to the AlphaCodium paper or how it works.'\u001b[0m,\n",
       "            \u001b[33mis_relevant\u001b[0m=\u001b[3;91mFalse\u001b[0m\n",
       "        \u001b[1m)\u001b[0m,\n",
       "        \u001b[1;35mRelevanceGrade\u001b[0m\u001b[1m(\u001b[0m\n",
       "            \u001b[33mchain_of_thought\u001b[0m=\u001b[32m'The user question asks specifically about how the AlphaCodium paper works. The \u001b[0m\n",
       "\u001b[32mretrieved document discusses evaluation metrics for attacks, such as effectiveness in text-to-image and \u001b[0m\n",
       "\u001b[32mtext-to-text experiments, diversity measures, and low-toxicity metrics. However, the content does not mention \u001b[0m\n",
       "\u001b[32mAlphaCodium or provide any details about it. Therefore, the document does not address the question of how \u001b[0m\n",
       "\u001b[32mAlphaCodium works and is not relevant.'\u001b[0m,\n",
       "            \u001b[33mis_relevant\u001b[0m=\u001b[3;91mFalse\u001b[0m\n",
       "        \u001b[1m)\u001b[0m,\n",
       "        \u001b[1;35mRelevanceGrade\u001b[0m\u001b[1m(\u001b[0m\n",
       "            \u001b[33mchain_of_thought\u001b[0m=\u001b[32m'The user question is about the workings of the AlphaCodium paper. The retrieved \u001b[0m\n",
       "\u001b[32mdocument discusses attack success rates on harmful behavior instructions, adversarial suffixes, and ARCA \u001b[0m\n",
       "\u001b[32moptimization methods in finding input-output pairs with specific behavior patterns. There is no mention or \u001b[0m\n",
       "\u001b[32mindication of the AlphaCodium paper or its methods in the retrieved text. Therefore, the document does not provide \u001b[0m\n",
       "\u001b[32mrelevant information about how the AlphaCodium paper works.'\u001b[0m,\n",
       "            \u001b[33mis_relevant\u001b[0m=\u001b[3;91mFalse\u001b[0m\n",
       "        \u001b[1m)\u001b[0m,\n",
       "        \u001b[1;35mRelevanceGrade\u001b[0m\u001b[1m(\u001b[0m\n",
       "            \u001b[33mchain_of_thought\u001b[0m=\u001b[32m\"The\u001b[0m\u001b[32m user question is about the 'AlphaCodium' paper and how it works. The retrieved \u001b[0m\n",
       "\u001b[32mdocument talks about experiments on AlfWorld Env and HotpotQA, mentioning issues like hallucination and inefficient\u001b[0m\n",
       "\u001b[32mplanning, and cites Shinn & Labash, 2023. There is no mention or apparent connection to 'AlphaCodium' or \u001b[0m\n",
       "\u001b[32mdescription of that paper's workings. Hence, the document does not address the user's question.\"\u001b[0m,\n",
       "            \u001b[33mis_relevant\u001b[0m=\u001b[3;91mFalse\u001b[0m\n",
       "        \u001b[1m)\u001b[0m\n",
       "    \u001b[1m]\u001b[0m,\n",
       "    \u001b[32m'context'\u001b[0m: \u001b[1m[\u001b[0m\u001b[1m]\u001b[0m,\n",
       "    \u001b[32m'answer'\u001b[0m: \u001b[32m\"I don't have an answer to the question.\"\u001b[0m\n",
       "\u001b[1m}\u001b[0m\n"
      ]
     },
     "metadata": {},
     "output_type": "display_data"
    },
    {
     "data": {
      "text/html": [
       "<pre style=\"white-space:pre;overflow-x:auto;line-height:normal;font-family:Menlo,'DejaVu Sans Mono',consolas,'Courier New',monospace\">I don't have an answer to the question.                                                                            \n",
       "</pre>\n"
      ],
      "text/plain": [
       "I don't have an answer to the question.                                                                            \n"
      ]
     },
     "metadata": {},
     "output_type": "display_data"
    }
   ],
   "source": [
    "query = \"How does the AlphaCodium paper work?\"\n",
    "\n",
    "response = graph.invoke({\"question\": query})\n",
    "rprint(response)\n",
    "rprint(Markdown(response[\"answer\"]))"
   ]
  }
 ],
 "metadata": {
  "kernelspec": {
   "display_name": "Python 3 (ipykernel)",
   "language": "python",
   "name": "python3"
  },
  "language_info": {
   "codemirror_mode": {
    "name": "ipython",
    "version": 3
   },
   "file_extension": ".py",
   "mimetype": "text/x-python",
   "name": "python",
   "nbconvert_exporter": "python",
   "pygments_lexer": "ipython3",
   "version": "3.11.11"
  }
 },
 "nbformat": 4,
 "nbformat_minor": 5
}
